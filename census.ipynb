{
  "cells": [
    {
      "cell_type": "code",
      "execution_count": null,
      "metadata": {
        "id": "yxCAuA7gbjp3"
      },
      "outputs": [],
      "source": [
        "import pandas as pd\n",
        "import numpy as np\n",
        "from copy import deepcopy\n",
        "from keras.layers import Dense\n",
        "from keras.models import Sequential\n",
        "from keras.callbacks import EarlyStopping\n",
        "from sklearn.model_selection import train_test_split, cross_val_score, GridSearchCV\n",
        "from sklearn.metrics import classification_report, accuracy_score, make_scorer\n",
        "from sklearn.preprocessing import LabelEncoder, OneHotEncoder, StandardScaler\n",
        "from sklearn.linear_model import LogisticRegressionCV\n",
        "from sklearn.discriminant_analysis import LinearDiscriminantAnalysis \n",
        "from sklearn.ensemble import RandomForestClassifier, VotingClassifier\n",
        "from sklearn.utils import resample\n",
        "from xgboost import XGBClassifier\n",
        "from hyperopt import fmin, hp, tpe\n",
        "import seaborn as sns\n",
        "import matplotlib.pyplot as plt"
      ]
    },
    {
      "cell_type": "markdown",
      "source": [
        "data loading "
      ],
      "metadata": {
        "id": "FLbZYMO3p_oM"
      }
    },
    {
      "cell_type": "code",
      "execution_count": null,
      "metadata": {
        "id": "Ssc9mvjAbjqL"
      },
      "outputs": [],
      "source": [
        "df = pd.read_csv(\"new_Base_CDM.csv\", delimiter=';', header=1)\n",
        "df_balanced = pd.read_csv(\"new_Base_CDM_balanced_V2.csv\", delimiter = ';', header = 1)"
      ]
    },
    {
      "cell_type": "markdown",
      "source": [
        "### première vision sur les données\n"
      ],
      "metadata": {
        "id": "bOUcw6ZS0w7P"
      }
    },
    {
      "cell_type": "code",
      "execution_count": null,
      "metadata": {
        "colab": {
          "base_uri": "https://localhost:8080/"
        },
        "id": "LK9PSgXbbjqO",
        "outputId": "3ebd7c66-68c5-47a5-97f3-c051dc7f7354"
      },
      "outputs": [
        {
          "output_type": "stream",
          "name": "stdout",
          "text": [
            "(22243, 8)\n",
            "<class 'pandas.core.frame.DataFrame'>\n",
            "RangeIndex: 22243 entries, 0 to 22242\n",
            "Data columns (total 8 columns):\n",
            " #   Column            Non-Null Count  Dtype  \n",
            "---  ------            --------------  -----  \n",
            " 0   Display           22243 non-null  object \n",
            " 1   cor_sales_in_vol  22243 non-null  float64\n",
            " 2   cor_sales_in_val  22243 non-null  float64\n",
            " 3   turnover          22243 non-null  int64  \n",
            " 4   value             22243 non-null  int64  \n",
            " 5   ENSEIGNE          22243 non-null  object \n",
            " 6   VenteConv         22243 non-null  float64\n",
            " 7   Feature           22242 non-null  object \n",
            "dtypes: float64(3), int64(2), object(3)\n",
            "memory usage: 1.4+ MB\n",
            "None\n"
          ]
        }
      ],
      "source": [
        "print(df.shape)\n",
        "print(df.info())"
      ]
    },
    {
      "cell_type": "code",
      "source": [
        "print(df_balanced.shape)\n",
        "print(df_balanced.info())"
      ],
      "metadata": {
        "colab": {
          "base_uri": "https://localhost:8080/"
        },
        "id": "3jLemDaYq782",
        "outputId": "aacebb67-52ed-4f76-b698-47caf57a5b23"
      },
      "execution_count": null,
      "outputs": [
        {
          "output_type": "stream",
          "name": "stdout",
          "text": [
            "(25782, 8)\n",
            "<class 'pandas.core.frame.DataFrame'>\n",
            "RangeIndex: 25782 entries, 0 to 25781\n",
            "Data columns (total 8 columns):\n",
            " #   Column            Non-Null Count  Dtype  \n",
            "---  ------            --------------  -----  \n",
            " 0   Display           25782 non-null  object \n",
            " 1   cor_sales_in_vol  25782 non-null  float64\n",
            " 2   cor_sales_in_val  25782 non-null  float64\n",
            " 3   CA_mag            25782 non-null  int64  \n",
            " 4   value             25782 non-null  int64  \n",
            " 5   ENSEIGNE          25782 non-null  object \n",
            " 6   VenteConv         25782 non-null  float64\n",
            " 7   Feature           25782 non-null  object \n",
            "dtypes: float64(3), int64(2), object(3)\n",
            "memory usage: 1.6+ MB\n",
            "None\n"
          ]
        }
      ]
    },
    {
      "cell_type": "code",
      "execution_count": null,
      "metadata": {
        "colab": {
          "base_uri": "https://localhost:8080/"
        },
        "id": "ujv0-0CVbjqR",
        "outputId": "50a12b1e-5114-4595-ac4d-65afd6c00c47"
      },
      "outputs": [
        {
          "output_type": "execute_result",
          "data": {
            "text/plain": [
              "array(['No_Displ', 'Displ'], dtype=object)"
            ]
          },
          "metadata": {},
          "execution_count": 6
        }
      ],
      "source": [
        "df_balanced.Display.unique() "
      ]
    },
    {
      "cell_type": "code",
      "execution_count": null,
      "metadata": {
        "colab": {
          "base_uri": "https://localhost:8080/"
        },
        "id": "EbJw3yyKbjqT",
        "outputId": "96d5a1a3-498c-4952-fcb5-53c59d04cda1"
      },
      "outputs": [
        {
          "output_type": "execute_result",
          "data": {
            "text/plain": [
              "No_Displ    13000\n",
              "Displ       12782\n",
              "Name: Display, dtype: int64"
            ]
          },
          "metadata": {},
          "execution_count": 7
        }
      ],
      "source": [
        "df_balanced.Display.value_counts() "
      ]
    },
    {
      "cell_type": "code",
      "execution_count": null,
      "metadata": {
        "colab": {
          "base_uri": "https://localhost:8080/"
        },
        "id": "SW_5iWuWbjqU",
        "outputId": "6f31c341-df12-4eac-d2f2-8f3e74390eb8"
      },
      "outputs": [
        {
          "output_type": "execute_result",
          "data": {
            "text/plain": [
              "array(['CORA', 'LECLERC', 'AUCHAN', 'CARREFOUR', 'CASINO', 'SUPER U',\n",
              "       'GEANT', 'CARREFOUR MARKET', 'FRANPRIX', 'INTERMARCHE',\n",
              "       'ECOMARCHE', 'MONOPRIX', 'SIMPLY MARKET', 'OTHERS', 'MATCH',\n",
              "       'PRISUNIC', 'HYPER U', 'SHOPI', 'MARCHE U'], dtype=object)"
            ]
          },
          "metadata": {},
          "execution_count": 8
        }
      ],
      "source": [
        "df_balanced.ENSEIGNE.unique() "
      ]
    },
    {
      "cell_type": "code",
      "execution_count": null,
      "metadata": {
        "id": "hC1SWVVzbjqV"
      },
      "outputs": [],
      "source": [
        "numerics_ind = [i for i in range(len(list(df_balanced.dtypes))) if str(list(df_balanced.dtypes)[i]) in ['float64', 'int64']]\n",
        "numerics_b = []\n",
        "for e in numerics_ind :\n",
        "    numerics_b.append(df_balanced.columns[e])\n",
        "\n",
        "numerics_ = [i for i in range(len(list(df.dtypes))) if str(list(df.dtypes)[i]) in ['float64', 'int64']]\n",
        "numerics = []\n",
        "for e in numerics_ind :\n",
        "    numerics.append(df.columns[e])"
      ]
    },
    {
      "cell_type": "code",
      "execution_count": null,
      "metadata": {
        "id": "ipvuyVdTbjqX"
      },
      "outputs": [],
      "source": [
        "newLabel = LabelEncoder() \n",
        "oneHot = OneHotEncoder() \n",
        "df.Display = newLabel.fit_transform(df.Display) \n",
        "df.Feature = newLabel.fit_transform(df.Feature)\n",
        "tmpe = oneHot.fit(df.ENSEIGNE.to_numpy().reshape(-1, 1))\n",
        "tmp = tmpe.transform(df.ENSEIGNE.to_numpy().reshape(-1, 1))\n",
        "tmp2 = pd.DataFrame(tmp.toarray(), columns = sorted(list(df.ENSEIGNE.unique())))\n",
        "\n",
        "newLabel2 = LabelEncoder() \n",
        "oneHot2 = OneHotEncoder() \n",
        "df_balanced.Display = newLabel2.fit_transform(df_balanced.Display) \n",
        "df_balanced.Feature = newLabel2.fit_transform(df_balanced.Feature)\n",
        "tmpe_b = oneHot.fit(df_balanced.ENSEIGNE.to_numpy().reshape(-1, 1))\n",
        "tmp_b = tmpe_b.transform(df_balanced.ENSEIGNE.to_numpy().reshape(-1, 1))\n",
        "tmp2_b = pd.DataFrame(tmp_b.toarray(), columns = sorted(list(df_balanced.ENSEIGNE.unique())))"
      ]
    },
    {
      "cell_type": "code",
      "execution_count": null,
      "metadata": {
        "id": "dCxTpjCAbjqZ"
      },
      "outputs": [],
      "source": [
        "df = pd.concat([df, tmp2], axis = 1).drop([\"ENSEIGNE\"], axis = 1) \n",
        "df_balanced = pd.concat([df_balanced, tmp2_b], axis = 1).drop([\"ENSEIGNE\"], axis = 1) "
      ]
    },
    {
      "cell_type": "code",
      "source": [
        "df_balanced.head()"
      ],
      "metadata": {
        "colab": {
          "base_uri": "https://localhost:8080/",
          "height": 287
        },
        "id": "_AIRnqJn-Rj5",
        "outputId": "aa48e2fb-2d09-4529-9ec7-8cc52e7de556"
      },
      "execution_count": null,
      "outputs": [
        {
          "output_type": "execute_result",
          "data": {
            "text/html": [
              "\n",
              "  <div id=\"df-e9251c0e-f36f-45e5-9b0a-39dfad6bbe2d\">\n",
              "    <div class=\"colab-df-container\">\n",
              "      <div>\n",
              "<style scoped>\n",
              "    .dataframe tbody tr th:only-of-type {\n",
              "        vertical-align: middle;\n",
              "    }\n",
              "\n",
              "    .dataframe tbody tr th {\n",
              "        vertical-align: top;\n",
              "    }\n",
              "\n",
              "    .dataframe thead th {\n",
              "        text-align: right;\n",
              "    }\n",
              "</style>\n",
              "<table border=\"1\" class=\"dataframe\">\n",
              "  <thead>\n",
              "    <tr style=\"text-align: right;\">\n",
              "      <th></th>\n",
              "      <th>Display</th>\n",
              "      <th>cor_sales_in_vol</th>\n",
              "      <th>cor_sales_in_val</th>\n",
              "      <th>CA_mag</th>\n",
              "      <th>value</th>\n",
              "      <th>VenteConv</th>\n",
              "      <th>Feature</th>\n",
              "      <th>AUCHAN</th>\n",
              "      <th>CARREFOUR</th>\n",
              "      <th>CARREFOUR MARKET</th>\n",
              "      <th>CASINO</th>\n",
              "      <th>CORA</th>\n",
              "      <th>ECOMARCHE</th>\n",
              "      <th>FRANPRIX</th>\n",
              "      <th>GEANT</th>\n",
              "      <th>HYPER U</th>\n",
              "      <th>INTERMARCHE</th>\n",
              "      <th>LECLERC</th>\n",
              "      <th>MARCHE U</th>\n",
              "      <th>MATCH</th>\n",
              "      <th>MONOPRIX</th>\n",
              "      <th>OTHERS</th>\n",
              "      <th>PRISUNIC</th>\n",
              "      <th>SHOPI</th>\n",
              "      <th>SIMPLY MARKET</th>\n",
              "      <th>SUPER U</th>\n",
              "    </tr>\n",
              "  </thead>\n",
              "  <tbody>\n",
              "    <tr>\n",
              "      <th>0</th>\n",
              "      <td>1</td>\n",
              "      <td>2.0</td>\n",
              "      <td>20.20</td>\n",
              "      <td>47400</td>\n",
              "      <td>36</td>\n",
              "      <td>72.0</td>\n",
              "      <td>1</td>\n",
              "      <td>0.0</td>\n",
              "      <td>0.0</td>\n",
              "      <td>0.0</td>\n",
              "      <td>0.0</td>\n",
              "      <td>1.0</td>\n",
              "      <td>0.0</td>\n",
              "      <td>0.0</td>\n",
              "      <td>0.0</td>\n",
              "      <td>0.0</td>\n",
              "      <td>0.0</td>\n",
              "      <td>0.0</td>\n",
              "      <td>0.0</td>\n",
              "      <td>0.0</td>\n",
              "      <td>0.0</td>\n",
              "      <td>0.0</td>\n",
              "      <td>0.0</td>\n",
              "      <td>0.0</td>\n",
              "      <td>0.0</td>\n",
              "      <td>0.0</td>\n",
              "    </tr>\n",
              "    <tr>\n",
              "      <th>1</th>\n",
              "      <td>1</td>\n",
              "      <td>2.0</td>\n",
              "      <td>11.90</td>\n",
              "      <td>62000</td>\n",
              "      <td>24</td>\n",
              "      <td>48.0</td>\n",
              "      <td>1</td>\n",
              "      <td>0.0</td>\n",
              "      <td>0.0</td>\n",
              "      <td>0.0</td>\n",
              "      <td>0.0</td>\n",
              "      <td>0.0</td>\n",
              "      <td>0.0</td>\n",
              "      <td>0.0</td>\n",
              "      <td>0.0</td>\n",
              "      <td>0.0</td>\n",
              "      <td>0.0</td>\n",
              "      <td>1.0</td>\n",
              "      <td>0.0</td>\n",
              "      <td>0.0</td>\n",
              "      <td>0.0</td>\n",
              "      <td>0.0</td>\n",
              "      <td>0.0</td>\n",
              "      <td>0.0</td>\n",
              "      <td>0.0</td>\n",
              "      <td>0.0</td>\n",
              "    </tr>\n",
              "    <tr>\n",
              "      <th>2</th>\n",
              "      <td>1</td>\n",
              "      <td>8.0</td>\n",
              "      <td>29.52</td>\n",
              "      <td>60661</td>\n",
              "      <td>60</td>\n",
              "      <td>480.0</td>\n",
              "      <td>1</td>\n",
              "      <td>1.0</td>\n",
              "      <td>0.0</td>\n",
              "      <td>0.0</td>\n",
              "      <td>0.0</td>\n",
              "      <td>0.0</td>\n",
              "      <td>0.0</td>\n",
              "      <td>0.0</td>\n",
              "      <td>0.0</td>\n",
              "      <td>0.0</td>\n",
              "      <td>0.0</td>\n",
              "      <td>0.0</td>\n",
              "      <td>0.0</td>\n",
              "      <td>0.0</td>\n",
              "      <td>0.0</td>\n",
              "      <td>0.0</td>\n",
              "      <td>0.0</td>\n",
              "      <td>0.0</td>\n",
              "      <td>0.0</td>\n",
              "      <td>0.0</td>\n",
              "    </tr>\n",
              "    <tr>\n",
              "      <th>3</th>\n",
              "      <td>1</td>\n",
              "      <td>2.0</td>\n",
              "      <td>16.20</td>\n",
              "      <td>59677</td>\n",
              "      <td>19</td>\n",
              "      <td>38.0</td>\n",
              "      <td>1</td>\n",
              "      <td>0.0</td>\n",
              "      <td>1.0</td>\n",
              "      <td>0.0</td>\n",
              "      <td>0.0</td>\n",
              "      <td>0.0</td>\n",
              "      <td>0.0</td>\n",
              "      <td>0.0</td>\n",
              "      <td>0.0</td>\n",
              "      <td>0.0</td>\n",
              "      <td>0.0</td>\n",
              "      <td>0.0</td>\n",
              "      <td>0.0</td>\n",
              "      <td>0.0</td>\n",
              "      <td>0.0</td>\n",
              "      <td>0.0</td>\n",
              "      <td>0.0</td>\n",
              "      <td>0.0</td>\n",
              "      <td>0.0</td>\n",
              "      <td>0.0</td>\n",
              "    </tr>\n",
              "    <tr>\n",
              "      <th>4</th>\n",
              "      <td>1</td>\n",
              "      <td>5.0</td>\n",
              "      <td>62.10</td>\n",
              "      <td>142602</td>\n",
              "      <td>50</td>\n",
              "      <td>250.0</td>\n",
              "      <td>1</td>\n",
              "      <td>0.0</td>\n",
              "      <td>0.0</td>\n",
              "      <td>0.0</td>\n",
              "      <td>0.0</td>\n",
              "      <td>1.0</td>\n",
              "      <td>0.0</td>\n",
              "      <td>0.0</td>\n",
              "      <td>0.0</td>\n",
              "      <td>0.0</td>\n",
              "      <td>0.0</td>\n",
              "      <td>0.0</td>\n",
              "      <td>0.0</td>\n",
              "      <td>0.0</td>\n",
              "      <td>0.0</td>\n",
              "      <td>0.0</td>\n",
              "      <td>0.0</td>\n",
              "      <td>0.0</td>\n",
              "      <td>0.0</td>\n",
              "      <td>0.0</td>\n",
              "    </tr>\n",
              "  </tbody>\n",
              "</table>\n",
              "</div>\n",
              "      <button class=\"colab-df-convert\" onclick=\"convertToInteractive('df-e9251c0e-f36f-45e5-9b0a-39dfad6bbe2d')\"\n",
              "              title=\"Convert this dataframe to an interactive table.\"\n",
              "              style=\"display:none;\">\n",
              "        \n",
              "  <svg xmlns=\"http://www.w3.org/2000/svg\" height=\"24px\"viewBox=\"0 0 24 24\"\n",
              "       width=\"24px\">\n",
              "    <path d=\"M0 0h24v24H0V0z\" fill=\"none\"/>\n",
              "    <path d=\"M18.56 5.44l.94 2.06.94-2.06 2.06-.94-2.06-.94-.94-2.06-.94 2.06-2.06.94zm-11 1L8.5 8.5l.94-2.06 2.06-.94-2.06-.94L8.5 2.5l-.94 2.06-2.06.94zm10 10l.94 2.06.94-2.06 2.06-.94-2.06-.94-.94-2.06-.94 2.06-2.06.94z\"/><path d=\"M17.41 7.96l-1.37-1.37c-.4-.4-.92-.59-1.43-.59-.52 0-1.04.2-1.43.59L10.3 9.45l-7.72 7.72c-.78.78-.78 2.05 0 2.83L4 21.41c.39.39.9.59 1.41.59.51 0 1.02-.2 1.41-.59l7.78-7.78 2.81-2.81c.8-.78.8-2.07 0-2.86zM5.41 20L4 18.59l7.72-7.72 1.47 1.35L5.41 20z\"/>\n",
              "  </svg>\n",
              "      </button>\n",
              "      \n",
              "  <style>\n",
              "    .colab-df-container {\n",
              "      display:flex;\n",
              "      flex-wrap:wrap;\n",
              "      gap: 12px;\n",
              "    }\n",
              "\n",
              "    .colab-df-convert {\n",
              "      background-color: #E8F0FE;\n",
              "      border: none;\n",
              "      border-radius: 50%;\n",
              "      cursor: pointer;\n",
              "      display: none;\n",
              "      fill: #1967D2;\n",
              "      height: 32px;\n",
              "      padding: 0 0 0 0;\n",
              "      width: 32px;\n",
              "    }\n",
              "\n",
              "    .colab-df-convert:hover {\n",
              "      background-color: #E2EBFA;\n",
              "      box-shadow: 0px 1px 2px rgba(60, 64, 67, 0.3), 0px 1px 3px 1px rgba(60, 64, 67, 0.15);\n",
              "      fill: #174EA6;\n",
              "    }\n",
              "\n",
              "    [theme=dark] .colab-df-convert {\n",
              "      background-color: #3B4455;\n",
              "      fill: #D2E3FC;\n",
              "    }\n",
              "\n",
              "    [theme=dark] .colab-df-convert:hover {\n",
              "      background-color: #434B5C;\n",
              "      box-shadow: 0px 1px 3px 1px rgba(0, 0, 0, 0.15);\n",
              "      filter: drop-shadow(0px 1px 2px rgba(0, 0, 0, 0.3));\n",
              "      fill: #FFFFFF;\n",
              "    }\n",
              "  </style>\n",
              "\n",
              "      <script>\n",
              "        const buttonEl =\n",
              "          document.querySelector('#df-e9251c0e-f36f-45e5-9b0a-39dfad6bbe2d button.colab-df-convert');\n",
              "        buttonEl.style.display =\n",
              "          google.colab.kernel.accessAllowed ? 'block' : 'none';\n",
              "\n",
              "        async function convertToInteractive(key) {\n",
              "          const element = document.querySelector('#df-e9251c0e-f36f-45e5-9b0a-39dfad6bbe2d');\n",
              "          const dataTable =\n",
              "            await google.colab.kernel.invokeFunction('convertToInteractive',\n",
              "                                                     [key], {});\n",
              "          if (!dataTable) return;\n",
              "\n",
              "          const docLinkHtml = 'Like what you see? Visit the ' +\n",
              "            '<a target=\"_blank\" href=https://colab.research.google.com/notebooks/data_table.ipynb>data table notebook</a>'\n",
              "            + ' to learn more about interactive tables.';\n",
              "          element.innerHTML = '';\n",
              "          dataTable['output_type'] = 'display_data';\n",
              "          await google.colab.output.renderOutput(dataTable, element);\n",
              "          const docLink = document.createElement('div');\n",
              "          docLink.innerHTML = docLinkHtml;\n",
              "          element.appendChild(docLink);\n",
              "        }\n",
              "      </script>\n",
              "    </div>\n",
              "  </div>\n",
              "  "
            ],
            "text/plain": [
              "   Display  cor_sales_in_vol  cor_sales_in_val  ...  SHOPI  SIMPLY MARKET  SUPER U\n",
              "0        1               2.0             20.20  ...    0.0            0.0      0.0\n",
              "1        1               2.0             11.90  ...    0.0            0.0      0.0\n",
              "2        1               8.0             29.52  ...    0.0            0.0      0.0\n",
              "3        1               2.0             16.20  ...    0.0            0.0      0.0\n",
              "4        1               5.0             62.10  ...    0.0            0.0      0.0\n",
              "\n",
              "[5 rows x 26 columns]"
            ]
          },
          "metadata": {},
          "execution_count": 12
        }
      ]
    },
    {
      "cell_type": "code",
      "source": [
        "df_balanced[numerics_b].describe()"
      ],
      "metadata": {
        "colab": {
          "base_uri": "https://localhost:8080/",
          "height": 300
        },
        "id": "jgrNksEI5qMp",
        "outputId": "72f7acb9-7585-499f-df0d-9bf3af18dcc0"
      },
      "execution_count": null,
      "outputs": [
        {
          "output_type": "execute_result",
          "data": {
            "text/html": [
              "\n",
              "  <div id=\"df-98f4715e-6448-498b-88d4-ff71b94642af\">\n",
              "    <div class=\"colab-df-container\">\n",
              "      <div>\n",
              "<style scoped>\n",
              "    .dataframe tbody tr th:only-of-type {\n",
              "        vertical-align: middle;\n",
              "    }\n",
              "\n",
              "    .dataframe tbody tr th {\n",
              "        vertical-align: top;\n",
              "    }\n",
              "\n",
              "    .dataframe thead th {\n",
              "        text-align: right;\n",
              "    }\n",
              "</style>\n",
              "<table border=\"1\" class=\"dataframe\">\n",
              "  <thead>\n",
              "    <tr style=\"text-align: right;\">\n",
              "      <th></th>\n",
              "      <th>cor_sales_in_vol</th>\n",
              "      <th>cor_sales_in_val</th>\n",
              "      <th>CA_mag</th>\n",
              "      <th>value</th>\n",
              "      <th>VenteConv</th>\n",
              "    </tr>\n",
              "  </thead>\n",
              "  <tbody>\n",
              "    <tr>\n",
              "      <th>count</th>\n",
              "      <td>25782.000000</td>\n",
              "      <td>25782.000000</td>\n",
              "      <td>25782.000000</td>\n",
              "      <td>25782.000000</td>\n",
              "      <td>25782.000000</td>\n",
              "    </tr>\n",
              "    <tr>\n",
              "      <th>mean</th>\n",
              "      <td>13.767151</td>\n",
              "      <td>130.888312</td>\n",
              "      <td>64641.184431</td>\n",
              "      <td>37.646614</td>\n",
              "      <td>587.855260</td>\n",
              "    </tr>\n",
              "    <tr>\n",
              "      <th>std</th>\n",
              "      <td>38.203406</td>\n",
              "      <td>372.649805</td>\n",
              "      <td>54924.645702</td>\n",
              "      <td>23.498949</td>\n",
              "      <td>1821.338396</td>\n",
              "    </tr>\n",
              "    <tr>\n",
              "      <th>min</th>\n",
              "      <td>1.000000</td>\n",
              "      <td>1.110000</td>\n",
              "      <td>1693.000000</td>\n",
              "      <td>1.000000</td>\n",
              "      <td>1.000000</td>\n",
              "    </tr>\n",
              "    <tr>\n",
              "      <th>25%</th>\n",
              "      <td>2.000000</td>\n",
              "      <td>13.360000</td>\n",
              "      <td>21394.000000</td>\n",
              "      <td>25.000000</td>\n",
              "      <td>50.000000</td>\n",
              "    </tr>\n",
              "    <tr>\n",
              "      <th>50%</th>\n",
              "      <td>4.000000</td>\n",
              "      <td>31.050000</td>\n",
              "      <td>51522.000000</td>\n",
              "      <td>32.000000</td>\n",
              "      <td>120.000000</td>\n",
              "    </tr>\n",
              "    <tr>\n",
              "      <th>75%</th>\n",
              "      <td>11.000000</td>\n",
              "      <td>87.450000</td>\n",
              "      <td>91000.000000</td>\n",
              "      <td>40.000000</td>\n",
              "      <td>380.000000</td>\n",
              "    </tr>\n",
              "    <tr>\n",
              "      <th>max</th>\n",
              "      <td>1475.000000</td>\n",
              "      <td>13589.220000</td>\n",
              "      <td>284844.000000</td>\n",
              "      <td>198.000000</td>\n",
              "      <td>48816.000000</td>\n",
              "    </tr>\n",
              "  </tbody>\n",
              "</table>\n",
              "</div>\n",
              "      <button class=\"colab-df-convert\" onclick=\"convertToInteractive('df-98f4715e-6448-498b-88d4-ff71b94642af')\"\n",
              "              title=\"Convert this dataframe to an interactive table.\"\n",
              "              style=\"display:none;\">\n",
              "        \n",
              "  <svg xmlns=\"http://www.w3.org/2000/svg\" height=\"24px\"viewBox=\"0 0 24 24\"\n",
              "       width=\"24px\">\n",
              "    <path d=\"M0 0h24v24H0V0z\" fill=\"none\"/>\n",
              "    <path d=\"M18.56 5.44l.94 2.06.94-2.06 2.06-.94-2.06-.94-.94-2.06-.94 2.06-2.06.94zm-11 1L8.5 8.5l.94-2.06 2.06-.94-2.06-.94L8.5 2.5l-.94 2.06-2.06.94zm10 10l.94 2.06.94-2.06 2.06-.94-2.06-.94-.94-2.06-.94 2.06-2.06.94z\"/><path d=\"M17.41 7.96l-1.37-1.37c-.4-.4-.92-.59-1.43-.59-.52 0-1.04.2-1.43.59L10.3 9.45l-7.72 7.72c-.78.78-.78 2.05 0 2.83L4 21.41c.39.39.9.59 1.41.59.51 0 1.02-.2 1.41-.59l7.78-7.78 2.81-2.81c.8-.78.8-2.07 0-2.86zM5.41 20L4 18.59l7.72-7.72 1.47 1.35L5.41 20z\"/>\n",
              "  </svg>\n",
              "      </button>\n",
              "      \n",
              "  <style>\n",
              "    .colab-df-container {\n",
              "      display:flex;\n",
              "      flex-wrap:wrap;\n",
              "      gap: 12px;\n",
              "    }\n",
              "\n",
              "    .colab-df-convert {\n",
              "      background-color: #E8F0FE;\n",
              "      border: none;\n",
              "      border-radius: 50%;\n",
              "      cursor: pointer;\n",
              "      display: none;\n",
              "      fill: #1967D2;\n",
              "      height: 32px;\n",
              "      padding: 0 0 0 0;\n",
              "      width: 32px;\n",
              "    }\n",
              "\n",
              "    .colab-df-convert:hover {\n",
              "      background-color: #E2EBFA;\n",
              "      box-shadow: 0px 1px 2px rgba(60, 64, 67, 0.3), 0px 1px 3px 1px rgba(60, 64, 67, 0.15);\n",
              "      fill: #174EA6;\n",
              "    }\n",
              "\n",
              "    [theme=dark] .colab-df-convert {\n",
              "      background-color: #3B4455;\n",
              "      fill: #D2E3FC;\n",
              "    }\n",
              "\n",
              "    [theme=dark] .colab-df-convert:hover {\n",
              "      background-color: #434B5C;\n",
              "      box-shadow: 0px 1px 3px 1px rgba(0, 0, 0, 0.15);\n",
              "      filter: drop-shadow(0px 1px 2px rgba(0, 0, 0, 0.3));\n",
              "      fill: #FFFFFF;\n",
              "    }\n",
              "  </style>\n",
              "\n",
              "      <script>\n",
              "        const buttonEl =\n",
              "          document.querySelector('#df-98f4715e-6448-498b-88d4-ff71b94642af button.colab-df-convert');\n",
              "        buttonEl.style.display =\n",
              "          google.colab.kernel.accessAllowed ? 'block' : 'none';\n",
              "\n",
              "        async function convertToInteractive(key) {\n",
              "          const element = document.querySelector('#df-98f4715e-6448-498b-88d4-ff71b94642af');\n",
              "          const dataTable =\n",
              "            await google.colab.kernel.invokeFunction('convertToInteractive',\n",
              "                                                     [key], {});\n",
              "          if (!dataTable) return;\n",
              "\n",
              "          const docLinkHtml = 'Like what you see? Visit the ' +\n",
              "            '<a target=\"_blank\" href=https://colab.research.google.com/notebooks/data_table.ipynb>data table notebook</a>'\n",
              "            + ' to learn more about interactive tables.';\n",
              "          element.innerHTML = '';\n",
              "          dataTable['output_type'] = 'display_data';\n",
              "          await google.colab.output.renderOutput(dataTable, element);\n",
              "          const docLink = document.createElement('div');\n",
              "          docLink.innerHTML = docLinkHtml;\n",
              "          element.appendChild(docLink);\n",
              "        }\n",
              "      </script>\n",
              "    </div>\n",
              "  </div>\n",
              "  "
            ],
            "text/plain": [
              "       cor_sales_in_vol  cor_sales_in_val  ...         value     VenteConv\n",
              "count      25782.000000      25782.000000  ...  25782.000000  25782.000000\n",
              "mean          13.767151        130.888312  ...     37.646614    587.855260\n",
              "std           38.203406        372.649805  ...     23.498949   1821.338396\n",
              "min            1.000000          1.110000  ...      1.000000      1.000000\n",
              "25%            2.000000         13.360000  ...     25.000000     50.000000\n",
              "50%            4.000000         31.050000  ...     32.000000    120.000000\n",
              "75%           11.000000         87.450000  ...     40.000000    380.000000\n",
              "max         1475.000000      13589.220000  ...    198.000000  48816.000000\n",
              "\n",
              "[8 rows x 5 columns]"
            ]
          },
          "metadata": {},
          "execution_count": 13
        }
      ]
    },
    {
      "cell_type": "code",
      "source": [
        "sns.boxplot(data = df_balanced[numerics_b])"
      ],
      "metadata": {
        "colab": {
          "base_uri": "https://localhost:8080/",
          "height": 283
        },
        "id": "Vbu8l0l-2eX4",
        "outputId": "d58b3b97-4246-4d9d-e4e4-ce166a5cd401"
      },
      "execution_count": null,
      "outputs": [
        {
          "output_type": "execute_result",
          "data": {
            "text/plain": [
              "<matplotlib.axes._subplots.AxesSubplot at 0x7f0960fe7910>"
            ]
          },
          "metadata": {},
          "execution_count": 14
        },
        {
          "output_type": "display_data",
          "data": {
            "image/png": "[encoded data removed]",
            "text/plain": [
              "<Figure size 432x288 with 1 Axes>"
            ]
          },
          "metadata": {
            "needs_background": "light"
          }
        }
      ]
    },
    {
      "cell_type": "code",
      "source": [
        "import copy\n",
        "\n",
        "num2 = copy.copy(numerics_b)\n",
        "num2.remove(\"CA_mag\")\n",
        "sns.boxplot(data = df_balanced[num2])"
      ],
      "metadata": {
        "colab": {
          "base_uri": "https://localhost:8080/",
          "height": 283
        },
        "id": "mkVRBINh8E-L",
        "outputId": "ccf6cad8-93ec-4d38-be51-a30d4b05e898"
      },
      "execution_count": null,
      "outputs": [
        {
          "output_type": "execute_result",
          "data": {
            "text/plain": [
              "<matplotlib.axes._subplots.AxesSubplot at 0x7f0960e4e090>"
            ]
          },
          "metadata": {},
          "execution_count": 15
        },
        {
          "output_type": "display_data",
          "data": {
            "image/png": "[encoded data removed]",
            "text/plain": [
              "<Figure size 432x288 with 1 Axes>"
            ]
          },
          "metadata": {
            "needs_background": "light"
          }
        }
      ]
    },
    {
      "cell_type": "code",
      "source": [
        "df_corr = df_balanced[numerics_b].corr() \n",
        "df_corr.style.background_gradient()"
      ],
      "metadata": {
        "colab": {
          "base_uri": "https://localhost:8080/",
          "height": 206
        },
        "id": "SuNsHj-QuKY5",
        "outputId": "91d83016-72d5-4ec1-ad2a-b766359bc275"
      },
      "execution_count": null,
      "outputs": [
        {
          "output_type": "execute_result",
          "data": {
            "text/html": [
              "<style type=\"text/css\">\n",
              "#T_2ea6e_row0_col0, #T_2ea6e_row1_col1, #T_2ea6e_row2_col2, #T_2ea6e_row3_col3, #T_2ea6e_row4_col4 {\n",
              "  background-color: #023858;\n",
              "  color: #f1f1f1;\n",
              "}\n",
              "#T_2ea6e_row0_col1 {\n",
              "  background-color: #04649e;\n",
              "  color: #f1f1f1;\n",
              "}\n",
              "#T_2ea6e_row0_col2 {\n",
              "  background-color: #e5e1ef;\n",
              "  color: #000000;\n",
              "}\n",
              "#T_2ea6e_row0_col3, #T_2ea6e_row2_col4, #T_2ea6e_row3_col0, #T_2ea6e_row3_col1, #T_2ea6e_row3_col2 {\n",
              "  background-color: #fff7fb;\n",
              "  color: #000000;\n",
              "}\n",
              "#T_2ea6e_row0_col4 {\n",
              "  background-color: #046097;\n",
              "  color: #f1f1f1;\n",
              "}\n",
              "#T_2ea6e_row1_col0 {\n",
              "  background-color: #045f95;\n",
              "  color: #f1f1f1;\n",
              "}\n",
              "#T_2ea6e_row1_col2 {\n",
              "  background-color: #dcdaeb;\n",
              "  color: #000000;\n",
              "}\n",
              "#T_2ea6e_row1_col3 {\n",
              "  background-color: #e3e0ee;\n",
              "  color: #000000;\n",
              "}\n",
              "#T_2ea6e_row1_col4 {\n",
              "  background-color: #045382;\n",
              "  color: #f1f1f1;\n",
              "}\n",
              "#T_2ea6e_row2_col0 {\n",
              "  background-color: #dad9ea;\n",
              "  color: #000000;\n",
              "}\n",
              "#T_2ea6e_row2_col1 {\n",
              "  background-color: #f2ecf5;\n",
              "  color: #000000;\n",
              "}\n",
              "#T_2ea6e_row2_col3 {\n",
              "  background-color: #f7f0f7;\n",
              "  color: #000000;\n",
              "}\n",
              "#T_2ea6e_row3_col4 {\n",
              "  background-color: #fdf5fa;\n",
              "  color: #000000;\n",
              "}\n",
              "#T_2ea6e_row4_col0 {\n",
              "  background-color: #045a8d;\n",
              "  color: #f1f1f1;\n",
              "}\n",
              "#T_2ea6e_row4_col1 {\n",
              "  background-color: #03517e;\n",
              "  color: #f1f1f1;\n",
              "}\n",
              "#T_2ea6e_row4_col2 {\n",
              "  background-color: #e2dfee;\n",
              "  color: #000000;\n",
              "}\n",
              "#T_2ea6e_row4_col3 {\n",
              "  background-color: #d5d5e8;\n",
              "  color: #000000;\n",
              "}\n",
              "</style>\n",
              "<table id=\"T_2ea6e_\" class=\"dataframe\">\n",
              "  <thead>\n",
              "    <tr>\n",
              "      <th class=\"blank level0\" >&nbsp;</th>\n",
              "      <th class=\"col_heading level0 col0\" >cor_sales_in_vol</th>\n",
              "      <th class=\"col_heading level0 col1\" >cor_sales_in_val</th>\n",
              "      <th class=\"col_heading level0 col2\" >CA_mag</th>\n",
              "      <th class=\"col_heading level0 col3\" >value</th>\n",
              "      <th class=\"col_heading level0 col4\" >VenteConv</th>\n",
              "    </tr>\n",
              "  </thead>\n",
              "  <tbody>\n",
              "    <tr>\n",
              "      <th id=\"T_2ea6e_level0_row0\" class=\"row_heading level0 row0\" >cor_sales_in_vol</th>\n",
              "      <td id=\"T_2ea6e_row0_col0\" class=\"data row0 col0\" >1.000000</td>\n",
              "      <td id=\"T_2ea6e_row0_col1\" class=\"data row0 col1\" >0.858353</td>\n",
              "      <td id=\"T_2ea6e_row0_col2\" class=\"data row0 col2\" >0.266049</td>\n",
              "      <td id=\"T_2ea6e_row0_col3\" class=\"data row0 col3\" >0.077496</td>\n",
              "      <td id=\"T_2ea6e_row0_col4\" class=\"data row0 col4\" >0.882588</td>\n",
              "    </tr>\n",
              "    <tr>\n",
              "      <th id=\"T_2ea6e_level0_row1\" class=\"row_heading level0 row1\" >cor_sales_in_val</th>\n",
              "      <td id=\"T_2ea6e_row1_col0\" class=\"data row1 col0\" >0.858353</td>\n",
              "      <td id=\"T_2ea6e_row1_col1\" class=\"data row1 col1\" >1.000000</td>\n",
              "      <td id=\"T_2ea6e_row1_col2\" class=\"data row1 col2\" >0.297886</td>\n",
              "      <td id=\"T_2ea6e_row1_col3\" class=\"data row1 col3\" >0.230587</td>\n",
              "      <td id=\"T_2ea6e_row1_col4\" class=\"data row1 col4\" >0.928348</td>\n",
              "    </tr>\n",
              "    <tr>\n",
              "      <th id=\"T_2ea6e_level0_row2\" class=\"row_heading level0 row2\" >CA_mag</th>\n",
              "      <td id=\"T_2ea6e_row2_col0\" class=\"data row2 col0\" >0.266049</td>\n",
              "      <td id=\"T_2ea6e_row2_col1\" class=\"data row2 col1\" >0.297886</td>\n",
              "      <td id=\"T_2ea6e_row2_col2\" class=\"data row2 col2\" >1.000000</td>\n",
              "      <td id=\"T_2ea6e_row2_col3\" class=\"data row2 col3\" >0.127276</td>\n",
              "      <td id=\"T_2ea6e_row2_col4\" class=\"data row2 col4\" >0.275925</td>\n",
              "    </tr>\n",
              "    <tr>\n",
              "      <th id=\"T_2ea6e_level0_row3\" class=\"row_heading level0 row3\" >value</th>\n",
              "      <td id=\"T_2ea6e_row3_col0\" class=\"data row3 col0\" >0.077496</td>\n",
              "      <td id=\"T_2ea6e_row3_col1\" class=\"data row3 col1\" >0.230587</td>\n",
              "      <td id=\"T_2ea6e_row3_col2\" class=\"data row3 col2\" >0.127276</td>\n",
              "      <td id=\"T_2ea6e_row3_col3\" class=\"data row3 col3\" >1.000000</td>\n",
              "      <td id=\"T_2ea6e_row3_col4\" class=\"data row3 col4\" >0.288883</td>\n",
              "    </tr>\n",
              "    <tr>\n",
              "      <th id=\"T_2ea6e_level0_row4\" class=\"row_heading level0 row4\" >VenteConv</th>\n",
              "      <td id=\"T_2ea6e_row4_col0\" class=\"data row4 col0\" >0.882588</td>\n",
              "      <td id=\"T_2ea6e_row4_col1\" class=\"data row4 col1\" >0.928348</td>\n",
              "      <td id=\"T_2ea6e_row4_col2\" class=\"data row4 col2\" >0.275925</td>\n",
              "      <td id=\"T_2ea6e_row4_col3\" class=\"data row4 col3\" >0.288883</td>\n",
              "      <td id=\"T_2ea6e_row4_col4\" class=\"data row4 col4\" >1.000000</td>\n",
              "    </tr>\n",
              "  </tbody>\n",
              "</table>\n"
            ],
            "text/plain": [
              "<pandas.io.formats.style.Styler at 0x7f0960e42cd0>"
            ]
          },
          "metadata": {},
          "execution_count": 16
        }
      ]
    },
    {
      "cell_type": "markdown",
      "source": [
        "### traitement préliminaire des données balancées"
      ],
      "metadata": {
        "id": "4MCsshgg0lvW"
      }
    },
    {
      "cell_type": "code",
      "source": [
        "df_balanced[\"rapport_vol_val\"] = df_balanced[\"cor_sales_in_val\"]/df_balanced[\"cor_sales_in_vol\"]\n",
        "#df_balanced[\"diff_vol_val\"] = df_balanced[\"cor_sales_in_val\"] - df_balanced[\"cor_sales_in_vol\"]"
      ],
      "metadata": {
        "id": "lHzBf8DS-AGA"
      },
      "execution_count": null,
      "outputs": []
    },
    {
      "cell_type": "code",
      "source": [
        "numerics_b.append(\"rapport_vol_val\")\n",
        "for x in [\"VenteConv\",\"cor_sales_in_vol\",\"cor_sales_in_val\"]:\n",
        "  numerics_b.remove(x)"
      ],
      "metadata": {
        "id": "kqHxdTEVRcUe"
      },
      "execution_count": null,
      "outputs": []
    },
    {
      "cell_type": "code",
      "source": [
        "df_crr = df_balanced[numerics_b].corr()\n",
        "df_crr.style.background_gradient()"
      ],
      "metadata": {
        "colab": {
          "base_uri": "https://localhost:8080/",
          "height": 143
        },
        "id": "21QlAndzCzZF",
        "outputId": "09637bd5-16bf-46c8-8b43-b55c4a09f60f"
      },
      "execution_count": null,
      "outputs": [
        {
          "output_type": "execute_result",
          "data": {
            "text/html": [
              "<style type=\"text/css\">\n",
              "#T_8e908_row0_col0, #T_8e908_row1_col1, #T_8e908_row2_col2 {\n",
              "  background-color: #023858;\n",
              "  color: #f1f1f1;\n",
              "}\n",
              "#T_8e908_row0_col1, #T_8e908_row0_col2, #T_8e908_row2_col0 {\n",
              "  background-color: #fff7fb;\n",
              "  color: #000000;\n",
              "}\n",
              "#T_8e908_row1_col0 {\n",
              "  background-color: #fef6fb;\n",
              "  color: #000000;\n",
              "}\n",
              "#T_8e908_row1_col2 {\n",
              "  background-color: #0f76b3;\n",
              "  color: #f1f1f1;\n",
              "}\n",
              "#T_8e908_row2_col1 {\n",
              "  background-color: #1077b4;\n",
              "  color: #f1f1f1;\n",
              "}\n",
              "</style>\n",
              "<table id=\"T_8e908_\" class=\"dataframe\">\n",
              "  <thead>\n",
              "    <tr>\n",
              "      <th class=\"blank level0\" >&nbsp;</th>\n",
              "      <th class=\"col_heading level0 col0\" >CA_mag</th>\n",
              "      <th class=\"col_heading level0 col1\" >value</th>\n",
              "      <th class=\"col_heading level0 col2\" >rapport_vol_val</th>\n",
              "    </tr>\n",
              "  </thead>\n",
              "  <tbody>\n",
              "    <tr>\n",
              "      <th id=\"T_8e908_level0_row0\" class=\"row_heading level0 row0\" >CA_mag</th>\n",
              "      <td id=\"T_8e908_row0_col0\" class=\"data row0 col0\" >1.000000</td>\n",
              "      <td id=\"T_8e908_row0_col1\" class=\"data row0 col1\" >0.127276</td>\n",
              "      <td id=\"T_8e908_row0_col2\" class=\"data row0 col2\" >0.121424</td>\n",
              "    </tr>\n",
              "    <tr>\n",
              "      <th id=\"T_8e908_level0_row1\" class=\"row_heading level0 row1\" >value</th>\n",
              "      <td id=\"T_8e908_row1_col0\" class=\"data row1 col0\" >0.127276</td>\n",
              "      <td id=\"T_8e908_row1_col1\" class=\"data row1 col1\" >1.000000</td>\n",
              "      <td id=\"T_8e908_row1_col2\" class=\"data row1 col2\" >0.756515</td>\n",
              "    </tr>\n",
              "    <tr>\n",
              "      <th id=\"T_8e908_level0_row2\" class=\"row_heading level0 row2\" >rapport_vol_val</th>\n",
              "      <td id=\"T_8e908_row2_col0\" class=\"data row2 col0\" >0.121424</td>\n",
              "      <td id=\"T_8e908_row2_col1\" class=\"data row2 col1\" >0.756515</td>\n",
              "      <td id=\"T_8e908_row2_col2\" class=\"data row2 col2\" >1.000000</td>\n",
              "    </tr>\n",
              "  </tbody>\n",
              "</table>\n"
            ],
            "text/plain": [
              "<pandas.io.formats.style.Styler at 0x7f096057add0>"
            ]
          },
          "metadata": {},
          "execution_count": 19
        }
      ]
    },
    {
      "cell_type": "code",
      "source": [
        "df_balanced.drop([\"VenteConv\",\"cor_sales_in_vol\",\"cor_sales_in_val\"], axis=1, inplace=True)"
      ],
      "metadata": {
        "id": "rALR7ad2GslR"
      },
      "execution_count": null,
      "outputs": []
    },
    {
      "cell_type": "code",
      "execution_count": null,
      "metadata": {
        "id": "sd-8Gf3Rbjqa"
      },
      "outputs": [],
      "source": [
        "X_train, X_test, y_train, y_test = train_test_split(df.iloc[:,1:], df.iloc[:,0], test_size=0.2) \n",
        "X_train_b, X_test_b, y_train_b, y_test_b = train_test_split(df_balanced.iloc[:,1:], df_balanced.iloc[:,0], test_size=0.2)"
      ]
    },
    {
      "cell_type": "code",
      "source": [
        "X_train_b[numerics_b].describe()"
      ],
      "metadata": {
        "colab": {
          "base_uri": "https://localhost:8080/",
          "height": 300
        },
        "id": "MazvveK3LTs7",
        "outputId": "6e488bed-98c0-4d06-8b18-28a19017a4df"
      },
      "execution_count": null,
      "outputs": [
        {
          "output_type": "execute_result",
          "data": {
            "text/html": [
              "\n",
              "  <div id=\"df-2c231b70-9a97-48ce-b2a2-5fef67db957a\">\n",
              "    <div class=\"colab-df-container\">\n",
              "      <div>\n",
              "<style scoped>\n",
              "    .dataframe tbody tr th:only-of-type {\n",
              "        vertical-align: middle;\n",
              "    }\n",
              "\n",
              "    .dataframe tbody tr th {\n",
              "        vertical-align: top;\n",
              "    }\n",
              "\n",
              "    .dataframe thead th {\n",
              "        text-align: right;\n",
              "    }\n",
              "</style>\n",
              "<table border=\"1\" class=\"dataframe\">\n",
              "  <thead>\n",
              "    <tr style=\"text-align: right;\">\n",
              "      <th></th>\n",
              "      <th>CA_mag</th>\n",
              "      <th>value</th>\n",
              "      <th>rapport_vol_val</th>\n",
              "    </tr>\n",
              "  </thead>\n",
              "  <tbody>\n",
              "    <tr>\n",
              "      <th>count</th>\n",
              "      <td>20625.000000</td>\n",
              "      <td>20625.000000</td>\n",
              "      <td>20625.000000</td>\n",
              "    </tr>\n",
              "    <tr>\n",
              "      <th>mean</th>\n",
              "      <td>64577.416485</td>\n",
              "      <td>37.561891</td>\n",
              "      <td>9.246118</td>\n",
              "    </tr>\n",
              "    <tr>\n",
              "      <th>std</th>\n",
              "      <td>54912.549012</td>\n",
              "      <td>23.532884</td>\n",
              "      <td>4.495618</td>\n",
              "    </tr>\n",
              "    <tr>\n",
              "      <th>min</th>\n",
              "      <td>1693.000000</td>\n",
              "      <td>1.000000</td>\n",
              "      <td>0.909091</td>\n",
              "    </tr>\n",
              "    <tr>\n",
              "      <th>25%</th>\n",
              "      <td>21344.000000</td>\n",
              "      <td>25.000000</td>\n",
              "      <td>6.611111</td>\n",
              "    </tr>\n",
              "    <tr>\n",
              "      <th>50%</th>\n",
              "      <td>51522.000000</td>\n",
              "      <td>32.000000</td>\n",
              "      <td>8.260000</td>\n",
              "    </tr>\n",
              "    <tr>\n",
              "      <th>75%</th>\n",
              "      <td>91000.000000</td>\n",
              "      <td>40.000000</td>\n",
              "      <td>11.210000</td>\n",
              "    </tr>\n",
              "    <tr>\n",
              "      <th>max</th>\n",
              "      <td>284844.000000</td>\n",
              "      <td>198.000000</td>\n",
              "      <td>43.390000</td>\n",
              "    </tr>\n",
              "  </tbody>\n",
              "</table>\n",
              "</div>\n",
              "      <button class=\"colab-df-convert\" onclick=\"convertToInteractive('df-2c231b70-9a97-48ce-b2a2-5fef67db957a')\"\n",
              "              title=\"Convert this dataframe to an interactive table.\"\n",
              "              style=\"display:none;\">\n",
              "        \n",
              "  <svg xmlns=\"http://www.w3.org/2000/svg\" height=\"24px\"viewBox=\"0 0 24 24\"\n",
              "       width=\"24px\">\n",
              "    <path d=\"M0 0h24v24H0V0z\" fill=\"none\"/>\n",
              "    <path d=\"M18.56 5.44l.94 2.06.94-2.06 2.06-.94-2.06-.94-.94-2.06-.94 2.06-2.06.94zm-11 1L8.5 8.5l.94-2.06 2.06-.94-2.06-.94L8.5 2.5l-.94 2.06-2.06.94zm10 10l.94 2.06.94-2.06 2.06-.94-2.06-.94-.94-2.06-.94 2.06-2.06.94z\"/><path d=\"M17.41 7.96l-1.37-1.37c-.4-.4-.92-.59-1.43-.59-.52 0-1.04.2-1.43.59L10.3 9.45l-7.72 7.72c-.78.78-.78 2.05 0 2.83L4 21.41c.39.39.9.59 1.41.59.51 0 1.02-.2 1.41-.59l7.78-7.78 2.81-2.81c.8-.78.8-2.07 0-2.86zM5.41 20L4 18.59l7.72-7.72 1.47 1.35L5.41 20z\"/>\n",
              "  </svg>\n",
              "      </button>\n",
              "      \n",
              "  <style>\n",
              "    .colab-df-container {\n",
              "      display:flex;\n",
              "      flex-wrap:wrap;\n",
              "      gap: 12px;\n",
              "    }\n",
              "\n",
              "    .colab-df-convert {\n",
              "      background-color: #E8F0FE;\n",
              "      border: none;\n",
              "      border-radius: 50%;\n",
              "      cursor: pointer;\n",
              "      display: none;\n",
              "      fill: #1967D2;\n",
              "      height: 32px;\n",
              "      padding: 0 0 0 0;\n",
              "      width: 32px;\n",
              "    }\n",
              "\n",
              "    .colab-df-convert:hover {\n",
              "      background-color: #E2EBFA;\n",
              "      box-shadow: 0px 1px 2px rgba(60, 64, 67, 0.3), 0px 1px 3px 1px rgba(60, 64, 67, 0.15);\n",
              "      fill: #174EA6;\n",
              "    }\n",
              "\n",
              "    [theme=dark] .colab-df-convert {\n",
              "      background-color: #3B4455;\n",
              "      fill: #D2E3FC;\n",
              "    }\n",
              "\n",
              "    [theme=dark] .colab-df-convert:hover {\n",
              "      background-color: #434B5C;\n",
              "      box-shadow: 0px 1px 3px 1px rgba(0, 0, 0, 0.15);\n",
              "      filter: drop-shadow(0px 1px 2px rgba(0, 0, 0, 0.3));\n",
              "      fill: #FFFFFF;\n",
              "    }\n",
              "  </style>\n",
              "\n",
              "      <script>\n",
              "        const buttonEl =\n",
              "          document.querySelector('#df-2c231b70-9a97-48ce-b2a2-5fef67db957a button.colab-df-convert');\n",
              "        buttonEl.style.display =\n",
              "          google.colab.kernel.accessAllowed ? 'block' : 'none';\n",
              "\n",
              "        async function convertToInteractive(key) {\n",
              "          const element = document.querySelector('#df-2c231b70-9a97-48ce-b2a2-5fef67db957a');\n",
              "          const dataTable =\n",
              "            await google.colab.kernel.invokeFunction('convertToInteractive',\n",
              "                                                     [key], {});\n",
              "          if (!dataTable) return;\n",
              "\n",
              "          const docLinkHtml = 'Like what you see? Visit the ' +\n",
              "            '<a target=\"_blank\" href=https://colab.research.google.com/notebooks/data_table.ipynb>data table notebook</a>'\n",
              "            + ' to learn more about interactive tables.';\n",
              "          element.innerHTML = '';\n",
              "          dataTable['output_type'] = 'display_data';\n",
              "          await google.colab.output.renderOutput(dataTable, element);\n",
              "          const docLink = document.createElement('div');\n",
              "          docLink.innerHTML = docLinkHtml;\n",
              "          element.appendChild(docLink);\n",
              "        }\n",
              "      </script>\n",
              "    </div>\n",
              "  </div>\n",
              "  "
            ],
            "text/plain": [
              "              CA_mag         value  rapport_vol_val\n",
              "count   20625.000000  20625.000000     20625.000000\n",
              "mean    64577.416485     37.561891         9.246118\n",
              "std     54912.549012     23.532884         4.495618\n",
              "min      1693.000000      1.000000         0.909091\n",
              "25%     21344.000000     25.000000         6.611111\n",
              "50%     51522.000000     32.000000         8.260000\n",
              "75%     91000.000000     40.000000        11.210000\n",
              "max    284844.000000    198.000000        43.390000"
            ]
          },
          "metadata": {},
          "execution_count": 22
        }
      ]
    },
    {
      "cell_type": "code",
      "execution_count": null,
      "metadata": {
        "id": "VMelE0UqNocA"
      },
      "outputs": [],
      "source": [
        "X_train.reset_index(inplace = True) \n",
        "X_test.reset_index(inplace = True) \n",
        "X_train_b.reset_index(inplace = True) \n",
        "X_test_b.reset_index(inplace = True)"
      ]
    },
    {
      "cell_type": "code",
      "source": [
        "std = StandardScaler().fit(X_train_b[numerics_b]) \n",
        "X_train_b[numerics_b] = pd.DataFrame(std.transform(X_train_b[numerics_b]), columns = numerics_b)\n",
        "X_test_b[numerics_b] = pd.DataFrame(std.transform(X_test_b[numerics_b]), columns = numerics_b)\n",
        "\n",
        "std2 = StandardScaler().fit(X_train[numerics]) \n",
        "X_train[numerics] = pd.DataFrame(std2.transform(X_train[numerics]), columns = numerics)\n",
        "X_test[numerics] = pd.DataFrame(std2.transform(X_test[numerics]), columns = numerics)"
      ],
      "metadata": {
        "id": "rbLLV745zJSH"
      },
      "execution_count": null,
      "outputs": []
    },
    {
      "cell_type": "code",
      "source": [
        "X_train_b.head()"
      ],
      "metadata": {
        "id": "EcbQIg59z9J2",
        "colab": {
          "base_uri": "https://localhost:8080/",
          "height": 287
        },
        "outputId": "572b4123-41a1-45cd-f05a-8a7f8e36a543"
      },
      "execution_count": null,
      "outputs": [
        {
          "output_type": "execute_result",
          "data": {
            "text/html": [
              "\n",
              "  <div id=\"df-de7f2e96-b0b1-4501-8082-7f23288ceb3f\">\n",
              "    <div class=\"colab-df-container\">\n",
              "      <div>\n",
              "<style scoped>\n",
              "    .dataframe tbody tr th:only-of-type {\n",
              "        vertical-align: middle;\n",
              "    }\n",
              "\n",
              "    .dataframe tbody tr th {\n",
              "        vertical-align: top;\n",
              "    }\n",
              "\n",
              "    .dataframe thead th {\n",
              "        text-align: right;\n",
              "    }\n",
              "</style>\n",
              "<table border=\"1\" class=\"dataframe\">\n",
              "  <thead>\n",
              "    <tr style=\"text-align: right;\">\n",
              "      <th></th>\n",
              "      <th>index</th>\n",
              "      <th>CA_mag</th>\n",
              "      <th>value</th>\n",
              "      <th>Feature</th>\n",
              "      <th>AUCHAN</th>\n",
              "      <th>CARREFOUR</th>\n",
              "      <th>CARREFOUR MARKET</th>\n",
              "      <th>CASINO</th>\n",
              "      <th>CORA</th>\n",
              "      <th>ECOMARCHE</th>\n",
              "      <th>FRANPRIX</th>\n",
              "      <th>GEANT</th>\n",
              "      <th>HYPER U</th>\n",
              "      <th>INTERMARCHE</th>\n",
              "      <th>LECLERC</th>\n",
              "      <th>MARCHE U</th>\n",
              "      <th>MATCH</th>\n",
              "      <th>MONOPRIX</th>\n",
              "      <th>OTHERS</th>\n",
              "      <th>PRISUNIC</th>\n",
              "      <th>SHOPI</th>\n",
              "      <th>SIMPLY MARKET</th>\n",
              "      <th>SUPER U</th>\n",
              "      <th>rapport_vol_val</th>\n",
              "    </tr>\n",
              "  </thead>\n",
              "  <tbody>\n",
              "    <tr>\n",
              "      <th>0</th>\n",
              "      <td>22190</td>\n",
              "      <td>1.287270</td>\n",
              "      <td>0.103607</td>\n",
              "      <td>1</td>\n",
              "      <td>0.0</td>\n",
              "      <td>1.0</td>\n",
              "      <td>0.0</td>\n",
              "      <td>0.0</td>\n",
              "      <td>0.0</td>\n",
              "      <td>0.0</td>\n",
              "      <td>0.0</td>\n",
              "      <td>0.0</td>\n",
              "      <td>0.0</td>\n",
              "      <td>0.0</td>\n",
              "      <td>0.0</td>\n",
              "      <td>0.0</td>\n",
              "      <td>0.0</td>\n",
              "      <td>0.0</td>\n",
              "      <td>0.0</td>\n",
              "      <td>0.0</td>\n",
              "      <td>0.0</td>\n",
              "      <td>0.0</td>\n",
              "      <td>0.0</td>\n",
              "      <td>0.160035</td>\n",
              "    </tr>\n",
              "    <tr>\n",
              "      <th>1</th>\n",
              "      <td>14245</td>\n",
              "      <td>-0.362301</td>\n",
              "      <td>2.483313</td>\n",
              "      <td>0</td>\n",
              "      <td>0.0</td>\n",
              "      <td>0.0</td>\n",
              "      <td>0.0</td>\n",
              "      <td>0.0</td>\n",
              "      <td>0.0</td>\n",
              "      <td>0.0</td>\n",
              "      <td>0.0</td>\n",
              "      <td>0.0</td>\n",
              "      <td>0.0</td>\n",
              "      <td>0.0</td>\n",
              "      <td>1.0</td>\n",
              "      <td>0.0</td>\n",
              "      <td>0.0</td>\n",
              "      <td>0.0</td>\n",
              "      <td>0.0</td>\n",
              "      <td>0.0</td>\n",
              "      <td>0.0</td>\n",
              "      <td>0.0</td>\n",
              "      <td>0.0</td>\n",
              "      <td>1.669195</td>\n",
              "    </tr>\n",
              "    <tr>\n",
              "      <th>2</th>\n",
              "      <td>25256</td>\n",
              "      <td>-0.427971</td>\n",
              "      <td>0.103607</td>\n",
              "      <td>0</td>\n",
              "      <td>0.0</td>\n",
              "      <td>0.0</td>\n",
              "      <td>0.0</td>\n",
              "      <td>1.0</td>\n",
              "      <td>0.0</td>\n",
              "      <td>0.0</td>\n",
              "      <td>0.0</td>\n",
              "      <td>0.0</td>\n",
              "      <td>0.0</td>\n",
              "      <td>0.0</td>\n",
              "      <td>0.0</td>\n",
              "      <td>0.0</td>\n",
              "      <td>0.0</td>\n",
              "      <td>0.0</td>\n",
              "      <td>0.0</td>\n",
              "      <td>0.0</td>\n",
              "      <td>0.0</td>\n",
              "      <td>0.0</td>\n",
              "      <td>0.0</td>\n",
              "      <td>-0.410658</td>\n",
              "    </tr>\n",
              "    <tr>\n",
              "      <th>3</th>\n",
              "      <td>4001</td>\n",
              "      <td>-0.066479</td>\n",
              "      <td>-0.236351</td>\n",
              "      <td>1</td>\n",
              "      <td>0.0</td>\n",
              "      <td>1.0</td>\n",
              "      <td>0.0</td>\n",
              "      <td>0.0</td>\n",
              "      <td>0.0</td>\n",
              "      <td>0.0</td>\n",
              "      <td>0.0</td>\n",
              "      <td>0.0</td>\n",
              "      <td>0.0</td>\n",
              "      <td>0.0</td>\n",
              "      <td>0.0</td>\n",
              "      <td>0.0</td>\n",
              "      <td>0.0</td>\n",
              "      <td>0.0</td>\n",
              "      <td>0.0</td>\n",
              "      <td>0.0</td>\n",
              "      <td>0.0</td>\n",
              "      <td>0.0</td>\n",
              "      <td>0.0</td>\n",
              "      <td>-0.303885</td>\n",
              "    </tr>\n",
              "    <tr>\n",
              "      <th>4</th>\n",
              "      <td>89</td>\n",
              "      <td>0.090375</td>\n",
              "      <td>0.103607</td>\n",
              "      <td>1</td>\n",
              "      <td>0.0</td>\n",
              "      <td>1.0</td>\n",
              "      <td>0.0</td>\n",
              "      <td>0.0</td>\n",
              "      <td>0.0</td>\n",
              "      <td>0.0</td>\n",
              "      <td>0.0</td>\n",
              "      <td>0.0</td>\n",
              "      <td>0.0</td>\n",
              "      <td>0.0</td>\n",
              "      <td>0.0</td>\n",
              "      <td>0.0</td>\n",
              "      <td>0.0</td>\n",
              "      <td>0.0</td>\n",
              "      <td>0.0</td>\n",
              "      <td>0.0</td>\n",
              "      <td>0.0</td>\n",
              "      <td>0.0</td>\n",
              "      <td>0.0</td>\n",
              "      <td>-0.199336</td>\n",
              "    </tr>\n",
              "  </tbody>\n",
              "</table>\n",
              "</div>\n",
              "      <button class=\"colab-df-convert\" onclick=\"convertToInteractive('df-de7f2e96-b0b1-4501-8082-7f23288ceb3f')\"\n",
              "              title=\"Convert this dataframe to an interactive table.\"\n",
              "              style=\"display:none;\">\n",
              "        \n",
              "  <svg xmlns=\"http://www.w3.org/2000/svg\" height=\"24px\"viewBox=\"0 0 24 24\"\n",
              "       width=\"24px\">\n",
              "    <path d=\"M0 0h24v24H0V0z\" fill=\"none\"/>\n",
              "    <path d=\"M18.56 5.44l.94 2.06.94-2.06 2.06-.94-2.06-.94-.94-2.06-.94 2.06-2.06.94zm-11 1L8.5 8.5l.94-2.06 2.06-.94-2.06-.94L8.5 2.5l-.94 2.06-2.06.94zm10 10l.94 2.06.94-2.06 2.06-.94-2.06-.94-.94-2.06-.94 2.06-2.06.94z\"/><path d=\"M17.41 7.96l-1.37-1.37c-.4-.4-.92-.59-1.43-.59-.52 0-1.04.2-1.43.59L10.3 9.45l-7.72 7.72c-.78.78-.78 2.05 0 2.83L4 21.41c.39.39.9.59 1.41.59.51 0 1.02-.2 1.41-.59l7.78-7.78 2.81-2.81c.8-.78.8-2.07 0-2.86zM5.41 20L4 18.59l7.72-7.72 1.47 1.35L5.41 20z\"/>\n",
              "  </svg>\n",
              "      </button>\n",
              "      \n",
              "  <style>\n",
              "    .colab-df-container {\n",
              "      display:flex;\n",
              "      flex-wrap:wrap;\n",
              "      gap: 12px;\n",
              "    }\n",
              "\n",
              "    .colab-df-convert {\n",
              "      background-color: #E8F0FE;\n",
              "      border: none;\n",
              "      border-radius: 50%;\n",
              "      cursor: pointer;\n",
              "      display: none;\n",
              "      fill: #1967D2;\n",
              "      height: 32px;\n",
              "      padding: 0 0 0 0;\n",
              "      width: 32px;\n",
              "    }\n",
              "\n",
              "    .colab-df-convert:hover {\n",
              "      background-color: #E2EBFA;\n",
              "      box-shadow: 0px 1px 2px rgba(60, 64, 67, 0.3), 0px 1px 3px 1px rgba(60, 64, 67, 0.15);\n",
              "      fill: #174EA6;\n",
              "    }\n",
              "\n",
              "    [theme=dark] .colab-df-convert {\n",
              "      background-color: #3B4455;\n",
              "      fill: #D2E3FC;\n",
              "    }\n",
              "\n",
              "    [theme=dark] .colab-df-convert:hover {\n",
              "      background-color: #434B5C;\n",
              "      box-shadow: 0px 1px 3px 1px rgba(0, 0, 0, 0.15);\n",
              "      filter: drop-shadow(0px 1px 2px rgba(0, 0, 0, 0.3));\n",
              "      fill: #FFFFFF;\n",
              "    }\n",
              "  </style>\n",
              "\n",
              "      <script>\n",
              "        const buttonEl =\n",
              "          document.querySelector('#df-de7f2e96-b0b1-4501-8082-7f23288ceb3f button.colab-df-convert');\n",
              "        buttonEl.style.display =\n",
              "          google.colab.kernel.accessAllowed ? 'block' : 'none';\n",
              "\n",
              "        async function convertToInteractive(key) {\n",
              "          const element = document.querySelector('#df-de7f2e96-b0b1-4501-8082-7f23288ceb3f');\n",
              "          const dataTable =\n",
              "            await google.colab.kernel.invokeFunction('convertToInteractive',\n",
              "                                                     [key], {});\n",
              "          if (!dataTable) return;\n",
              "\n",
              "          const docLinkHtml = 'Like what you see? Visit the ' +\n",
              "            '<a target=\"_blank\" href=https://colab.research.google.com/notebooks/data_table.ipynb>data table notebook</a>'\n",
              "            + ' to learn more about interactive tables.';\n",
              "          element.innerHTML = '';\n",
              "          dataTable['output_type'] = 'display_data';\n",
              "          await google.colab.output.renderOutput(dataTable, element);\n",
              "          const docLink = document.createElement('div');\n",
              "          docLink.innerHTML = docLinkHtml;\n",
              "          element.appendChild(docLink);\n",
              "        }\n",
              "      </script>\n",
              "    </div>\n",
              "  </div>\n",
              "  "
            ],
            "text/plain": [
              "   index    CA_mag     value  ...  SIMPLY MARKET  SUPER U  rapport_vol_val\n",
              "0  22190  1.287270  0.103607  ...            0.0      0.0         0.160035\n",
              "1  14245 -0.362301  2.483313  ...            0.0      0.0         1.669195\n",
              "2  25256 -0.427971  0.103607  ...            0.0      0.0        -0.410658\n",
              "3   4001 -0.066479 -0.236351  ...            0.0      0.0        -0.303885\n",
              "4     89  0.090375  0.103607  ...            0.0      0.0        -0.199336\n",
              "\n",
              "[5 rows x 24 columns]"
            ]
          },
          "metadata": {},
          "execution_count": 25
        }
      ]
    },
    {
      "cell_type": "code",
      "execution_count": null,
      "metadata": {
        "id": "sP1EPScftklJ"
      },
      "outputs": [],
      "source": [
        "X_train.drop([\"index\"], axis = 1, inplace = True) \n",
        "X_test.drop([\"index\"], axis = 1, inplace = True)"
      ]
    },
    {
      "cell_type": "markdown",
      "source": [
        "### modélisation linéaire"
      ],
      "metadata": {
        "id": "9-MZl_dKViRp"
      }
    },
    {
      "cell_type": "code",
      "source": [
        "lrb = LogisticRegressionCV(solver=\"lbfgs\", n_jobs=-1, random_state=42, class_weight=\"balanced\", cv = 10) \n",
        "lrb.fit(X_train_b, y_train_b) "
      ],
      "metadata": {
        "colab": {
          "base_uri": "https://localhost:8080/"
        },
        "id": "J15Che9qR35v",
        "outputId": "7ab1e3c4-238b-4974-f02a-be691cf32620"
      },
      "execution_count": null,
      "outputs": [
        {
          "output_type": "execute_result",
          "data": {
            "text/plain": [
              "LogisticRegressionCV(class_weight='balanced', cv=10, n_jobs=-1, random_state=42)"
            ]
          },
          "metadata": {},
          "execution_count": 27
        }
      ]
    },
    {
      "cell_type": "markdown",
      "source": [
        "Aprés avoir entrainé le modele, on l'alimente avec les données de test et on a obtenue des métriques, a savoir Accuracy, f1_score"
      ],
      "metadata": {
        "id": "OChBeJKFybb4"
      }
    },
    {
      "cell_type": "code",
      "source": [
        "lrb_regul = LogisticRegressionCV(Cs=[0.01,0.1,1,10], solver=\"lbfgs\", n_jobs=-1, random_state=42, class_weight=\"balanced\", cv = 10) \n",
        "lrb_regul.fit(X_train_b, y_train_b) "
      ],
      "metadata": {
        "colab": {
          "base_uri": "https://localhost:8080/"
        },
        "id": "rtyfgKp7nZvV",
        "outputId": "e25f8b82-b196-4096-c3f0-90af691e1b22"
      },
      "execution_count": null,
      "outputs": [
        {
          "output_type": "execute_result",
          "data": {
            "text/plain": [
              "LogisticRegressionCV(Cs=[0.01, 0.1, 1, 10], class_weight='balanced', cv=10,\n",
              "                     n_jobs=-1, random_state=42)"
            ]
          },
          "metadata": {},
          "execution_count": 37
        }
      ]
    },
    {
      "cell_type": "code",
      "source": [
        "y_pred_regul = lrb_regul.predict(X_test_b)\n",
        "print(classification_report(y_test_b, y_pred_regul))"
      ],
      "metadata": {
        "colab": {
          "base_uri": "https://localhost:8080/"
        },
        "id": "2_IMx7nynj2a",
        "outputId": "23d6999f-9bf4-4cf7-e550-ff969b616c87"
      },
      "execution_count": null,
      "outputs": [
        {
          "output_type": "stream",
          "name": "stdout",
          "text": [
            "              precision    recall  f1-score   support\n",
            "\n",
            "           0       0.99      0.99      0.99      2568\n",
            "           1       0.99      0.99      0.99      2589\n",
            "\n",
            "    accuracy                           0.99      5157\n",
            "   macro avg       0.99      0.99      0.99      5157\n",
            "weighted avg       0.99      0.99      0.99      5157\n",
            "\n"
          ]
        }
      ]
    },
    {
      "cell_type": "markdown",
      "source": [
        "Wow!!"
      ],
      "metadata": {
        "id": "2bjY0sCY4jYq"
      }
    },
    {
      "cell_type": "code",
      "source": [
        "lda = LinearDiscriminantAnalysis(solver = 'lsqr')\n",
        "lda.fit(X_train_b, y_train_b) "
      ],
      "metadata": {
        "id": "vgwPOUGzuFgn",
        "colab": {
          "base_uri": "https://localhost:8080/"
        },
        "outputId": "e5287e35-12bd-4237-ecdb-2e605516e77d"
      },
      "execution_count": null,
      "outputs": [
        {
          "output_type": "execute_result",
          "data": {
            "text/plain": [
              "LinearDiscriminantAnalysis(solver='lsqr')"
            ]
          },
          "metadata": {},
          "execution_count": 34
        }
      ]
    },
    {
      "cell_type": "markdown",
      "source": [
        "Aprés avoir entrainé le modele, on l'alimente avec les données de test et on a obtenue des métriques, a savoir Accuracy, f1_score"
      ],
      "metadata": {
        "id": "T2ttxxoIzlVr"
      }
    },
    {
      "cell_type": "code",
      "source": [
        "y_pret = lda.predict(X_train_b)\n",
        "print(classification_report(y_train_b, y_pret))"
      ],
      "metadata": {
        "colab": {
          "base_uri": "https://localhost:8080/"
        },
        "id": "TWIj1By_siYO",
        "outputId": "93192ffd-b845-4e0b-9f0a-6737fc0e018b"
      },
      "execution_count": null,
      "outputs": [
        {
          "output_type": "stream",
          "name": "stdout",
          "text": [
            "              precision    recall  f1-score   support\n",
            "\n",
            "           0       0.99      0.96      0.98     10214\n",
            "           1       0.97      0.99      0.98     10411\n",
            "\n",
            "    accuracy                           0.98     20625\n",
            "   macro avg       0.98      0.98      0.98     20625\n",
            "weighted avg       0.98      0.98      0.98     20625\n",
            "\n"
          ]
        }
      ]
    },
    {
      "cell_type": "markdown",
      "source": [
        "### modélisation non linéaire"
      ],
      "metadata": {
        "id": "WLwgZqmYW4_b"
      }
    },
    {
      "cell_type": "code",
      "execution_count": null,
      "metadata": {
        "id": "c1c-OfOklleE",
        "colab": {
          "base_uri": "https://localhost:8080/"
        },
        "outputId": "1b8077b9-3f18-470e-c152-d8a62fab2640"
      },
      "outputs": [
        {
          "output_type": "stream",
          "name": "stderr",
          "text": [
            "[Parallel(n_jobs=-1)]: Using backend ThreadingBackend with 2 concurrent workers.\n"
          ]
        },
        {
          "output_type": "stream",
          "name": "stdout",
          "text": [
            "building tree 1 of 250\n",
            "building tree 2 of 250\n"
          ]
        },
        {
          "output_type": "stream",
          "name": "stderr",
          "text": [
            "[Parallel(n_jobs=-1)]: Done   1 tasks      | elapsed:    0.3s\n",
            "[Parallel(n_jobs=-1)]: Done   2 tasks      | elapsed:    0.4s\n"
          ]
        },
        {
          "output_type": "stream",
          "name": "stdout",
          "text": [
            "building tree 3 of 250\n",
            "building tree 4 of 250\n"
          ]
        },
        {
          "output_type": "stream",
          "name": "stderr",
          "text": [
            "[Parallel(n_jobs=-1)]: Done   3 tasks      | elapsed:    0.7s\n",
            "[Parallel(n_jobs=-1)]: Done   4 tasks      | elapsed:    0.7s\n"
          ]
        },
        {
          "output_type": "stream",
          "name": "stdout",
          "text": [
            "building tree 5 of 250\n",
            "building tree 6 of 250\n"
          ]
        },
        {
          "output_type": "stream",
          "name": "stderr",
          "text": [
            "[Parallel(n_jobs=-1)]: Done   5 tasks      | elapsed:    1.1s\n",
            "[Parallel(n_jobs=-1)]: Done   6 tasks      | elapsed:    1.1s\n"
          ]
        },
        {
          "output_type": "stream",
          "name": "stdout",
          "text": [
            "building tree 7 of 250\n",
            "building tree 8 of 250\n"
          ]
        },
        {
          "output_type": "stream",
          "name": "stderr",
          "text": [
            "[Parallel(n_jobs=-1)]: Done   7 tasks      | elapsed:    1.4s\n",
            "[Parallel(n_jobs=-1)]: Done   8 tasks      | elapsed:    1.4s\n"
          ]
        },
        {
          "output_type": "stream",
          "name": "stdout",
          "text": [
            "building tree 9 of 250\n",
            "building tree 10 of 250\n"
          ]
        },
        {
          "output_type": "stream",
          "name": "stderr",
          "text": [
            "[Parallel(n_jobs=-1)]: Done   9 tasks      | elapsed:    1.8s\n",
            "[Parallel(n_jobs=-1)]: Done  10 tasks      | elapsed:    1.8s\n"
          ]
        },
        {
          "output_type": "stream",
          "name": "stdout",
          "text": [
            "building tree 11 of 250\n",
            "building tree 12 of 250\n"
          ]
        },
        {
          "output_type": "stream",
          "name": "stderr",
          "text": [
            "[Parallel(n_jobs=-1)]: Done  11 tasks      | elapsed:    2.1s\n",
            "[Parallel(n_jobs=-1)]: Done  12 tasks      | elapsed:    2.2s\n"
          ]
        },
        {
          "output_type": "stream",
          "name": "stdout",
          "text": [
            "building tree 13 of 250\n",
            "building tree 14 of 250\n"
          ]
        },
        {
          "output_type": "stream",
          "name": "stderr",
          "text": [
            "[Parallel(n_jobs=-1)]: Done  13 tasks      | elapsed:    2.5s\n",
            "[Parallel(n_jobs=-1)]: Done  14 tasks      | elapsed:    2.5s\n"
          ]
        },
        {
          "output_type": "stream",
          "name": "stdout",
          "text": [
            "building tree 15 of 250\n",
            "building tree 16 of 250\n",
            "building tree 17 of 250\n",
            "building tree 18 of 250\n"
          ]
        },
        {
          "output_type": "stream",
          "name": "stderr",
          "text": [
            "[Parallel(n_jobs=-1)]: Done  15 tasks      | elapsed:    2.9s\n",
            "[Parallel(n_jobs=-1)]: Done  16 tasks      | elapsed:    2.9s\n",
            "[Parallel(n_jobs=-1)]: Done  17 tasks      | elapsed:    3.2s\n",
            "[Parallel(n_jobs=-1)]: Done  18 tasks      | elapsed:    3.3s\n"
          ]
        },
        {
          "output_type": "stream",
          "name": "stdout",
          "text": [
            "building tree 19 of 250\n",
            "building tree 20 of 250\n"
          ]
        },
        {
          "output_type": "stream",
          "name": "stderr",
          "text": [
            "[Parallel(n_jobs=-1)]: Done  19 tasks      | elapsed:    3.6s\n",
            "[Parallel(n_jobs=-1)]: Done  20 tasks      | elapsed:    3.6s\n"
          ]
        },
        {
          "output_type": "stream",
          "name": "stdout",
          "text": [
            "building tree 21 of 250\n",
            "building tree 22 of 250\n"
          ]
        },
        {
          "output_type": "stream",
          "name": "stderr",
          "text": [
            "[Parallel(n_jobs=-1)]: Done  21 tasks      | elapsed:    3.9s\n",
            "[Parallel(n_jobs=-1)]: Done  22 tasks      | elapsed:    4.0s\n"
          ]
        },
        {
          "output_type": "stream",
          "name": "stdout",
          "text": [
            "building tree 23 of 250\n",
            "building tree 24 of 250\n"
          ]
        },
        {
          "output_type": "stream",
          "name": "stderr",
          "text": [
            "[Parallel(n_jobs=-1)]: Done  23 tasks      | elapsed:    4.3s\n",
            "[Parallel(n_jobs=-1)]: Done  24 tasks      | elapsed:    4.3s\n"
          ]
        },
        {
          "output_type": "stream",
          "name": "stdout",
          "text": [
            "building tree 25 of 250\n",
            "building tree 26 of 250\n"
          ]
        },
        {
          "output_type": "stream",
          "name": "stderr",
          "text": [
            "[Parallel(n_jobs=-1)]: Done  25 tasks      | elapsed:    4.7s\n",
            "[Parallel(n_jobs=-1)]: Done  26 tasks      | elapsed:    4.7s\n"
          ]
        },
        {
          "output_type": "stream",
          "name": "stdout",
          "text": [
            "building tree 27 of 250\n",
            "building tree 28 of 250\n"
          ]
        },
        {
          "output_type": "stream",
          "name": "stderr",
          "text": [
            "[Parallel(n_jobs=-1)]: Done  27 tasks      | elapsed:    5.0s\n",
            "[Parallel(n_jobs=-1)]: Done  28 tasks      | elapsed:    5.1s\n"
          ]
        },
        {
          "output_type": "stream",
          "name": "stdout",
          "text": [
            "building tree 29 of 250\n",
            "building tree 30 of 250\n"
          ]
        },
        {
          "output_type": "stream",
          "name": "stderr",
          "text": [
            "[Parallel(n_jobs=-1)]: Done  29 tasks      | elapsed:    5.4s\n",
            "[Parallel(n_jobs=-1)]: Done  30 tasks      | elapsed:    5.4s\n"
          ]
        },
        {
          "output_type": "stream",
          "name": "stdout",
          "text": [
            "building tree 31 of 250\n",
            "building tree 32 of 250\n"
          ]
        },
        {
          "output_type": "stream",
          "name": "stderr",
          "text": [
            "[Parallel(n_jobs=-1)]: Done  31 tasks      | elapsed:    5.7s\n",
            "[Parallel(n_jobs=-1)]: Done  32 tasks      | elapsed:    5.7s\n"
          ]
        },
        {
          "output_type": "stream",
          "name": "stdout",
          "text": [
            "building tree 33 of 250\n",
            "building tree 34 of 250\n"
          ]
        },
        {
          "output_type": "stream",
          "name": "stderr",
          "text": [
            "[Parallel(n_jobs=-1)]: Done  33 tasks      | elapsed:    6.0s\n",
            "[Parallel(n_jobs=-1)]: Done  34 tasks      | elapsed:    6.1s\n"
          ]
        },
        {
          "output_type": "stream",
          "name": "stdout",
          "text": [
            "building tree 35 of 250\n",
            "building tree 36 of 250\n"
          ]
        },
        {
          "output_type": "stream",
          "name": "stderr",
          "text": [
            "[Parallel(n_jobs=-1)]: Done  35 tasks      | elapsed:    6.4s\n",
            "[Parallel(n_jobs=-1)]: Done  36 tasks      | elapsed:    6.4s\n"
          ]
        },
        {
          "output_type": "stream",
          "name": "stdout",
          "text": [
            "building tree 37 of 250\n",
            "building tree 38 of 250\n"
          ]
        },
        {
          "output_type": "stream",
          "name": "stderr",
          "text": [
            "[Parallel(n_jobs=-1)]: Done  37 tasks      | elapsed:    6.8s\n",
            "[Parallel(n_jobs=-1)]: Done  38 tasks      | elapsed:    6.8s\n"
          ]
        },
        {
          "output_type": "stream",
          "name": "stdout",
          "text": [
            "building tree 39 of 250\n",
            "building tree 40 of 250\n"
          ]
        },
        {
          "output_type": "stream",
          "name": "stderr",
          "text": [
            "[Parallel(n_jobs=-1)]: Done  39 tasks      | elapsed:    7.2s\n",
            "[Parallel(n_jobs=-1)]: Done  40 tasks      | elapsed:    7.2s\n"
          ]
        },
        {
          "output_type": "stream",
          "name": "stdout",
          "text": [
            "building tree 41 of 250\n",
            "building tree 42 of 250\n"
          ]
        },
        {
          "output_type": "stream",
          "name": "stderr",
          "text": [
            "[Parallel(n_jobs=-1)]: Done  41 tasks      | elapsed:    7.5s\n",
            "[Parallel(n_jobs=-1)]: Done  42 tasks      | elapsed:    7.5s\n"
          ]
        },
        {
          "output_type": "stream",
          "name": "stdout",
          "text": [
            "building tree 43 of 250\n",
            "building tree 44 of 250\n"
          ]
        },
        {
          "output_type": "stream",
          "name": "stderr",
          "text": [
            "[Parallel(n_jobs=-1)]: Done  43 tasks      | elapsed:    7.8s\n",
            "[Parallel(n_jobs=-1)]: Done  44 tasks      | elapsed:    7.9s\n"
          ]
        },
        {
          "output_type": "stream",
          "name": "stdout",
          "text": [
            "building tree 45 of 250\n",
            "building tree 46 of 250\n"
          ]
        },
        {
          "output_type": "stream",
          "name": "stderr",
          "text": [
            "[Parallel(n_jobs=-1)]: Done  45 tasks      | elapsed:    8.2s\n",
            "[Parallel(n_jobs=-1)]: Done  46 tasks      | elapsed:    8.2s\n"
          ]
        },
        {
          "output_type": "stream",
          "name": "stdout",
          "text": [
            "building tree 47 of 250\n",
            "building tree 48 of 250\n"
          ]
        },
        {
          "output_type": "stream",
          "name": "stderr",
          "text": [
            "[Parallel(n_jobs=-1)]: Done  47 tasks      | elapsed:    8.5s\n",
            "[Parallel(n_jobs=-1)]: Done  48 tasks      | elapsed:    8.5s\n"
          ]
        },
        {
          "output_type": "stream",
          "name": "stdout",
          "text": [
            "building tree 49 of 250\n",
            "building tree 50 of 250\n"
          ]
        },
        {
          "output_type": "stream",
          "name": "stderr",
          "text": [
            "[Parallel(n_jobs=-1)]: Done  49 tasks      | elapsed:    8.8s\n",
            "[Parallel(n_jobs=-1)]: Done  50 tasks      | elapsed:    8.9s\n"
          ]
        },
        {
          "output_type": "stream",
          "name": "stdout",
          "text": [
            "building tree 51 of 250\n",
            "building tree 52 of 250\n"
          ]
        },
        {
          "output_type": "stream",
          "name": "stderr",
          "text": [
            "[Parallel(n_jobs=-1)]: Done  51 tasks      | elapsed:    9.2s\n",
            "[Parallel(n_jobs=-1)]: Done  52 tasks      | elapsed:    9.3s\n"
          ]
        },
        {
          "output_type": "stream",
          "name": "stdout",
          "text": [
            "building tree 53 of 250\n",
            "building tree 54 of 250\n"
          ]
        },
        {
          "output_type": "stream",
          "name": "stderr",
          "text": [
            "[Parallel(n_jobs=-1)]: Done  53 tasks      | elapsed:    9.5s\n",
            "[Parallel(n_jobs=-1)]: Done  54 tasks      | elapsed:    9.6s\n"
          ]
        },
        {
          "output_type": "stream",
          "name": "stdout",
          "text": [
            "building tree 55 of 250\n",
            "building tree 56 of 250\n"
          ]
        },
        {
          "output_type": "stream",
          "name": "stderr",
          "text": [
            "[Parallel(n_jobs=-1)]: Done  55 tasks      | elapsed:    9.9s\n",
            "[Parallel(n_jobs=-1)]: Done  56 tasks      | elapsed:   10.0s\n"
          ]
        },
        {
          "output_type": "stream",
          "name": "stdout",
          "text": [
            "building tree 57 of 250\n",
            "building tree 58 of 250\n"
          ]
        },
        {
          "output_type": "stream",
          "name": "stderr",
          "text": [
            "[Parallel(n_jobs=-1)]: Done  57 tasks      | elapsed:   10.3s\n",
            "[Parallel(n_jobs=-1)]: Done  58 tasks      | elapsed:   10.3s\n"
          ]
        },
        {
          "output_type": "stream",
          "name": "stdout",
          "text": [
            "building tree 59 of 250\n",
            "building tree 60 of 250\n"
          ]
        },
        {
          "output_type": "stream",
          "name": "stderr",
          "text": [
            "[Parallel(n_jobs=-1)]: Done  59 tasks      | elapsed:   10.6s\n",
            "[Parallel(n_jobs=-1)]: Done  60 tasks      | elapsed:   10.7s\n"
          ]
        },
        {
          "output_type": "stream",
          "name": "stdout",
          "text": [
            "building tree 61 of 250\n",
            "building tree 62 of 250\n"
          ]
        },
        {
          "output_type": "stream",
          "name": "stderr",
          "text": [
            "[Parallel(n_jobs=-1)]: Done  61 tasks      | elapsed:   11.0s\n",
            "[Parallel(n_jobs=-1)]: Done  62 tasks      | elapsed:   11.0s\n"
          ]
        },
        {
          "output_type": "stream",
          "name": "stdout",
          "text": [
            "building tree 63 of 250\n",
            "building tree 64 of 250\n"
          ]
        },
        {
          "output_type": "stream",
          "name": "stderr",
          "text": [
            "[Parallel(n_jobs=-1)]: Done  63 tasks      | elapsed:   11.3s\n",
            "[Parallel(n_jobs=-1)]: Done  64 tasks      | elapsed:   11.4s\n"
          ]
        },
        {
          "output_type": "stream",
          "name": "stdout",
          "text": [
            "building tree 65 of 250\n",
            "building tree 66 of 250\n"
          ]
        },
        {
          "output_type": "stream",
          "name": "stderr",
          "text": [
            "[Parallel(n_jobs=-1)]: Done  65 tasks      | elapsed:   11.7s\n",
            "[Parallel(n_jobs=-1)]: Done  66 tasks      | elapsed:   11.7s\n"
          ]
        },
        {
          "output_type": "stream",
          "name": "stdout",
          "text": [
            "building tree 67 of 250\n",
            "building tree 68 of 250\n",
            "building tree 69 of 250\n",
            "building tree 70 of 250\n"
          ]
        },
        {
          "output_type": "stream",
          "name": "stderr",
          "text": [
            "[Parallel(n_jobs=-1)]: Done  67 tasks      | elapsed:   12.0s\n",
            "[Parallel(n_jobs=-1)]: Done  68 tasks      | elapsed:   12.1s\n",
            "[Parallel(n_jobs=-1)]: Done  69 tasks      | elapsed:   12.4s\n",
            "[Parallel(n_jobs=-1)]: Done  70 tasks      | elapsed:   12.4s\n"
          ]
        },
        {
          "output_type": "stream",
          "name": "stdout",
          "text": [
            "building tree 71 of 250\n",
            "building tree 72 of 250\n"
          ]
        },
        {
          "output_type": "stream",
          "name": "stderr",
          "text": [
            "[Parallel(n_jobs=-1)]: Done  71 tasks      | elapsed:   12.7s\n",
            "[Parallel(n_jobs=-1)]: Done  72 tasks      | elapsed:   12.8s\n"
          ]
        },
        {
          "output_type": "stream",
          "name": "stdout",
          "text": [
            "building tree 73 of 250\n",
            "building tree 74 of 250\n"
          ]
        },
        {
          "output_type": "stream",
          "name": "stderr",
          "text": [
            "[Parallel(n_jobs=-1)]: Done  73 tasks      | elapsed:   13.1s\n",
            "[Parallel(n_jobs=-1)]: Done  74 tasks      | elapsed:   13.2s\n"
          ]
        },
        {
          "output_type": "stream",
          "name": "stdout",
          "text": [
            "building tree 75 of 250\n",
            "building tree 76 of 250\n"
          ]
        },
        {
          "output_type": "stream",
          "name": "stderr",
          "text": [
            "[Parallel(n_jobs=-1)]: Done  75 tasks      | elapsed:   13.5s\n",
            "[Parallel(n_jobs=-1)]: Done  76 tasks      | elapsed:   13.5s\n"
          ]
        },
        {
          "output_type": "stream",
          "name": "stdout",
          "text": [
            "building tree 77 of 250\n",
            "building tree 78 of 250\n"
          ]
        },
        {
          "output_type": "stream",
          "name": "stderr",
          "text": [
            "[Parallel(n_jobs=-1)]: Done  77 tasks      | elapsed:   13.8s\n",
            "[Parallel(n_jobs=-1)]: Done  78 tasks      | elapsed:   13.8s\n"
          ]
        },
        {
          "output_type": "stream",
          "name": "stdout",
          "text": [
            "building tree 79 of 250\n",
            "building tree 80 of 250\n"
          ]
        },
        {
          "output_type": "stream",
          "name": "stderr",
          "text": [
            "[Parallel(n_jobs=-1)]: Done  79 tasks      | elapsed:   14.1s\n",
            "[Parallel(n_jobs=-1)]: Done  80 tasks      | elapsed:   14.2s\n"
          ]
        },
        {
          "output_type": "stream",
          "name": "stdout",
          "text": [
            "building tree 81 of 250\n",
            "building tree 82 of 250\n"
          ]
        },
        {
          "output_type": "stream",
          "name": "stderr",
          "text": [
            "[Parallel(n_jobs=-1)]: Done  81 tasks      | elapsed:   14.5s\n",
            "[Parallel(n_jobs=-1)]: Done  82 tasks      | elapsed:   14.6s\n"
          ]
        },
        {
          "output_type": "stream",
          "name": "stdout",
          "text": [
            "building tree 83 of 250\n",
            "building tree 84 of 250\n"
          ]
        },
        {
          "output_type": "stream",
          "name": "stderr",
          "text": [
            "[Parallel(n_jobs=-1)]: Done  83 tasks      | elapsed:   14.9s\n",
            "[Parallel(n_jobs=-1)]: Done  84 tasks      | elapsed:   14.9s\n"
          ]
        },
        {
          "output_type": "stream",
          "name": "stdout",
          "text": [
            "building tree 85 of 250\n",
            "building tree 86 of 250\n"
          ]
        },
        {
          "output_type": "stream",
          "name": "stderr",
          "text": [
            "[Parallel(n_jobs=-1)]: Done  85 tasks      | elapsed:   15.2s\n",
            "[Parallel(n_jobs=-1)]: Done  86 tasks      | elapsed:   15.3s\n"
          ]
        },
        {
          "output_type": "stream",
          "name": "stdout",
          "text": [
            "building tree 87 of 250\n",
            "building tree 88 of 250\n"
          ]
        },
        {
          "output_type": "stream",
          "name": "stderr",
          "text": [
            "[Parallel(n_jobs=-1)]: Done  87 tasks      | elapsed:   15.6s\n",
            "[Parallel(n_jobs=-1)]: Done  88 tasks      | elapsed:   15.7s\n"
          ]
        },
        {
          "output_type": "stream",
          "name": "stdout",
          "text": [
            "building tree 89 of 250\n",
            "building tree 90 of 250\n"
          ]
        },
        {
          "output_type": "stream",
          "name": "stderr",
          "text": [
            "[Parallel(n_jobs=-1)]: Done  89 tasks      | elapsed:   15.9s\n",
            "[Parallel(n_jobs=-1)]: Done  90 tasks      | elapsed:   16.0s\n"
          ]
        },
        {
          "output_type": "stream",
          "name": "stdout",
          "text": [
            "building tree 91 of 250\n",
            "building tree 92 of 250\n"
          ]
        },
        {
          "output_type": "stream",
          "name": "stderr",
          "text": [
            "[Parallel(n_jobs=-1)]: Done  91 tasks      | elapsed:   16.2s\n",
            "[Parallel(n_jobs=-1)]: Done  92 tasks      | elapsed:   16.4s\n"
          ]
        },
        {
          "output_type": "stream",
          "name": "stdout",
          "text": [
            "building tree 93 of 250\n",
            "building tree 94 of 250\n"
          ]
        },
        {
          "output_type": "stream",
          "name": "stderr",
          "text": [
            "[Parallel(n_jobs=-1)]: Done  93 tasks      | elapsed:   16.6s\n",
            "[Parallel(n_jobs=-1)]: Done  94 tasks      | elapsed:   16.7s\n"
          ]
        },
        {
          "output_type": "stream",
          "name": "stdout",
          "text": [
            "building tree 95 of 250\n",
            "building tree 96 of 250\n"
          ]
        },
        {
          "output_type": "stream",
          "name": "stderr",
          "text": [
            "[Parallel(n_jobs=-1)]: Done  95 tasks      | elapsed:   17.0s\n",
            "[Parallel(n_jobs=-1)]: Done  96 tasks      | elapsed:   17.0s\n"
          ]
        },
        {
          "output_type": "stream",
          "name": "stdout",
          "text": [
            "building tree 97 of 250\n",
            "building tree 98 of 250\n"
          ]
        },
        {
          "output_type": "stream",
          "name": "stderr",
          "text": [
            "[Parallel(n_jobs=-1)]: Done  97 tasks      | elapsed:   17.3s\n",
            "[Parallel(n_jobs=-1)]: Done  98 tasks      | elapsed:   17.4s\n"
          ]
        },
        {
          "output_type": "stream",
          "name": "stdout",
          "text": [
            "building tree 99 of 250\n",
            "building tree 100 of 250\n"
          ]
        },
        {
          "output_type": "stream",
          "name": "stderr",
          "text": [
            "[Parallel(n_jobs=-1)]: Done  99 tasks      | elapsed:   17.7s\n",
            "[Parallel(n_jobs=-1)]: Done 100 tasks      | elapsed:   17.8s\n"
          ]
        },
        {
          "output_type": "stream",
          "name": "stdout",
          "text": [
            "building tree 101 of 250\n",
            "building tree 102 of 250\n"
          ]
        },
        {
          "output_type": "stream",
          "name": "stderr",
          "text": [
            "[Parallel(n_jobs=-1)]: Done 101 tasks      | elapsed:   18.1s\n",
            "[Parallel(n_jobs=-1)]: Done 102 tasks      | elapsed:   18.1s\n"
          ]
        },
        {
          "output_type": "stream",
          "name": "stdout",
          "text": [
            "building tree 103 of 250\n",
            "building tree 104 of 250\n"
          ]
        },
        {
          "output_type": "stream",
          "name": "stderr",
          "text": [
            "[Parallel(n_jobs=-1)]: Done 103 tasks      | elapsed:   18.4s\n",
            "[Parallel(n_jobs=-1)]: Done 104 tasks      | elapsed:   18.5s\n"
          ]
        },
        {
          "output_type": "stream",
          "name": "stdout",
          "text": [
            "building tree 105 of 250\n",
            "building tree 106 of 250\n"
          ]
        },
        {
          "output_type": "stream",
          "name": "stderr",
          "text": [
            "[Parallel(n_jobs=-1)]: Done 105 tasks      | elapsed:   18.8s\n",
            "[Parallel(n_jobs=-1)]: Done 106 tasks      | elapsed:   18.8s\n"
          ]
        },
        {
          "output_type": "stream",
          "name": "stdout",
          "text": [
            "building tree 107 of 250\n",
            "building tree 108 of 250\n"
          ]
        },
        {
          "output_type": "stream",
          "name": "stderr",
          "text": [
            "[Parallel(n_jobs=-1)]: Done 107 tasks      | elapsed:   19.1s\n",
            "[Parallel(n_jobs=-1)]: Done 108 tasks      | elapsed:   19.2s\n"
          ]
        },
        {
          "output_type": "stream",
          "name": "stdout",
          "text": [
            "building tree 109 of 250\n",
            "building tree 110 of 250\n"
          ]
        },
        {
          "output_type": "stream",
          "name": "stderr",
          "text": [
            "[Parallel(n_jobs=-1)]: Done 109 tasks      | elapsed:   19.5s\n",
            "[Parallel(n_jobs=-1)]: Done 110 tasks      | elapsed:   19.6s\n"
          ]
        },
        {
          "output_type": "stream",
          "name": "stdout",
          "text": [
            "building tree 111 of 250\n",
            "building tree 112 of 250\n"
          ]
        },
        {
          "output_type": "stream",
          "name": "stderr",
          "text": [
            "[Parallel(n_jobs=-1)]: Done 111 tasks      | elapsed:   19.8s\n",
            "[Parallel(n_jobs=-1)]: Done 112 tasks      | elapsed:   19.9s\n"
          ]
        },
        {
          "output_type": "stream",
          "name": "stdout",
          "text": [
            "building tree 113 of 250\n",
            "building tree 114 of 250\n"
          ]
        },
        {
          "output_type": "stream",
          "name": "stderr",
          "text": [
            "[Parallel(n_jobs=-1)]: Done 113 tasks      | elapsed:   20.1s\n",
            "[Parallel(n_jobs=-1)]: Done 114 tasks      | elapsed:   20.2s\n"
          ]
        },
        {
          "output_type": "stream",
          "name": "stdout",
          "text": [
            "building tree 115 of 250\n",
            "building tree 116 of 250\n"
          ]
        },
        {
          "output_type": "stream",
          "name": "stderr",
          "text": [
            "[Parallel(n_jobs=-1)]: Done 115 tasks      | elapsed:   20.5s\n",
            "[Parallel(n_jobs=-1)]: Done 116 tasks      | elapsed:   20.5s\n"
          ]
        },
        {
          "output_type": "stream",
          "name": "stdout",
          "text": [
            "building tree 117 of 250\n",
            "building tree 118 of 250\n"
          ]
        },
        {
          "output_type": "stream",
          "name": "stderr",
          "text": [
            "[Parallel(n_jobs=-1)]: Done 117 tasks      | elapsed:   20.9s\n",
            "[Parallel(n_jobs=-1)]: Done 118 tasks      | elapsed:   20.9s\n"
          ]
        },
        {
          "output_type": "stream",
          "name": "stdout",
          "text": [
            "building tree 119 of 250\n",
            "building tree 120 of 250\n"
          ]
        },
        {
          "output_type": "stream",
          "name": "stderr",
          "text": [
            "[Parallel(n_jobs=-1)]: Done 119 tasks      | elapsed:   21.2s\n",
            "[Parallel(n_jobs=-1)]: Done 120 tasks      | elapsed:   21.2s\n"
          ]
        },
        {
          "output_type": "stream",
          "name": "stdout",
          "text": [
            "building tree 121 of 250\n",
            "building tree 122 of 250\n"
          ]
        },
        {
          "output_type": "stream",
          "name": "stderr",
          "text": [
            "[Parallel(n_jobs=-1)]: Done 121 tasks      | elapsed:   21.6s\n",
            "[Parallel(n_jobs=-1)]: Done 122 tasks      | elapsed:   21.6s\n"
          ]
        },
        {
          "output_type": "stream",
          "name": "stdout",
          "text": [
            "building tree 123 of 250\n",
            "building tree 124 of 250\n"
          ]
        },
        {
          "output_type": "stream",
          "name": "stderr",
          "text": [
            "[Parallel(n_jobs=-1)]: Done 123 tasks      | elapsed:   21.9s\n",
            "[Parallel(n_jobs=-1)]: Done 124 tasks      | elapsed:   21.9s\n"
          ]
        },
        {
          "output_type": "stream",
          "name": "stdout",
          "text": [
            "building tree 125 of 250\n",
            "building tree 126 of 250\n"
          ]
        },
        {
          "output_type": "stream",
          "name": "stderr",
          "text": [
            "[Parallel(n_jobs=-1)]: Done 125 tasks      | elapsed:   22.2s\n",
            "[Parallel(n_jobs=-1)]: Done 126 tasks      | elapsed:   22.3s\n"
          ]
        },
        {
          "output_type": "stream",
          "name": "stdout",
          "text": [
            "building tree 127 of 250\n",
            "building tree 128 of 250\n"
          ]
        },
        {
          "output_type": "stream",
          "name": "stderr",
          "text": [
            "[Parallel(n_jobs=-1)]: Done 127 tasks      | elapsed:   22.6s\n",
            "[Parallel(n_jobs=-1)]: Done 128 tasks      | elapsed:   22.7s\n"
          ]
        },
        {
          "output_type": "stream",
          "name": "stdout",
          "text": [
            "building tree 129 of 250\n",
            "building tree 130 of 250\n"
          ]
        },
        {
          "output_type": "stream",
          "name": "stderr",
          "text": [
            "[Parallel(n_jobs=-1)]: Done 129 tasks      | elapsed:   23.0s\n",
            "[Parallel(n_jobs=-1)]: Done 130 tasks      | elapsed:   23.0s\n"
          ]
        },
        {
          "output_type": "stream",
          "name": "stdout",
          "text": [
            "building tree 131 of 250\n",
            "building tree 132 of 250\n"
          ]
        },
        {
          "output_type": "stream",
          "name": "stderr",
          "text": [
            "[Parallel(n_jobs=-1)]: Done 131 tasks      | elapsed:   23.3s\n",
            "[Parallel(n_jobs=-1)]: Done 132 tasks      | elapsed:   23.4s\n"
          ]
        },
        {
          "output_type": "stream",
          "name": "stdout",
          "text": [
            "building tree 133 of 250\n",
            "building tree 134 of 250\n"
          ]
        },
        {
          "output_type": "stream",
          "name": "stderr",
          "text": [
            "[Parallel(n_jobs=-1)]: Done 133 tasks      | elapsed:   23.7s\n",
            "[Parallel(n_jobs=-1)]: Done 134 tasks      | elapsed:   23.8s\n"
          ]
        },
        {
          "output_type": "stream",
          "name": "stdout",
          "text": [
            "building tree 135 of 250\n",
            "building tree 136 of 250\n"
          ]
        },
        {
          "output_type": "stream",
          "name": "stderr",
          "text": [
            "[Parallel(n_jobs=-1)]: Done 135 tasks      | elapsed:   24.0s\n",
            "[Parallel(n_jobs=-1)]: Done 136 tasks      | elapsed:   24.1s\n"
          ]
        },
        {
          "output_type": "stream",
          "name": "stdout",
          "text": [
            "building tree 137 of 250\n",
            "building tree 138 of 250\n"
          ]
        },
        {
          "output_type": "stream",
          "name": "stderr",
          "text": [
            "[Parallel(n_jobs=-1)]: Done 137 tasks      | elapsed:   24.4s\n",
            "[Parallel(n_jobs=-1)]: Done 138 tasks      | elapsed:   24.5s\n"
          ]
        },
        {
          "output_type": "stream",
          "name": "stdout",
          "text": [
            "building tree 139 of 250\n",
            "building tree 140 of 250\n"
          ]
        },
        {
          "output_type": "stream",
          "name": "stderr",
          "text": [
            "[Parallel(n_jobs=-1)]: Done 139 tasks      | elapsed:   24.8s\n",
            "[Parallel(n_jobs=-1)]: Done 140 tasks      | elapsed:   24.8s\n"
          ]
        },
        {
          "output_type": "stream",
          "name": "stdout",
          "text": [
            "building tree 141 of 250\n",
            "building tree 142 of 250\n"
          ]
        },
        {
          "output_type": "stream",
          "name": "stderr",
          "text": [
            "[Parallel(n_jobs=-1)]: Done 141 tasks      | elapsed:   25.1s\n",
            "[Parallel(n_jobs=-1)]: Done 142 tasks      | elapsed:   25.1s\n"
          ]
        },
        {
          "output_type": "stream",
          "name": "stdout",
          "text": [
            "building tree 143 of 250\n",
            "building tree 144 of 250\n"
          ]
        },
        {
          "output_type": "stream",
          "name": "stderr",
          "text": [
            "[Parallel(n_jobs=-1)]: Done 143 tasks      | elapsed:   25.5s\n",
            "[Parallel(n_jobs=-1)]: Done 144 tasks      | elapsed:   25.5s\n"
          ]
        },
        {
          "output_type": "stream",
          "name": "stdout",
          "text": [
            "building tree 145 of 250\n",
            "building tree 146 of 250\n"
          ]
        },
        {
          "output_type": "stream",
          "name": "stderr",
          "text": [
            "[Parallel(n_jobs=-1)]: Done 145 tasks      | elapsed:   25.8s\n",
            "[Parallel(n_jobs=-1)]: Done 146 tasks      | elapsed:   25.9s\n"
          ]
        },
        {
          "output_type": "stream",
          "name": "stdout",
          "text": [
            "building tree 147 of 250\n",
            "building tree 148 of 250\n"
          ]
        },
        {
          "output_type": "stream",
          "name": "stderr",
          "text": [
            "[Parallel(n_jobs=-1)]: Done 147 tasks      | elapsed:   26.1s\n",
            "[Parallel(n_jobs=-1)]: Done 148 tasks      | elapsed:   26.3s\n"
          ]
        },
        {
          "output_type": "stream",
          "name": "stdout",
          "text": [
            "building tree 149 of 250\n",
            "building tree 150 of 250\n",
            "building tree 151 of 250\n",
            "building tree 152 of 250\n"
          ]
        },
        {
          "output_type": "stream",
          "name": "stderr",
          "text": [
            "[Parallel(n_jobs=-1)]: Done 149 tasks      | elapsed:   26.5s\n",
            "[Parallel(n_jobs=-1)]: Done 150 tasks      | elapsed:   26.6s\n",
            "[Parallel(n_jobs=-1)]: Done 151 tasks      | elapsed:   26.8s\n",
            "[Parallel(n_jobs=-1)]: Done 152 tasks      | elapsed:   26.9s\n"
          ]
        },
        {
          "output_type": "stream",
          "name": "stdout",
          "text": [
            "building tree 153 of 250\n",
            "building tree 154 of 250\n"
          ]
        },
        {
          "output_type": "stream",
          "name": "stderr",
          "text": [
            "[Parallel(n_jobs=-1)]: Done 153 tasks      | elapsed:   27.2s\n",
            "[Parallel(n_jobs=-1)]: Done 154 tasks      | elapsed:   27.2s\n"
          ]
        },
        {
          "output_type": "stream",
          "name": "stdout",
          "text": [
            "building tree 155 of 250\n",
            "building tree 156 of 250\n"
          ]
        },
        {
          "output_type": "stream",
          "name": "stderr",
          "text": [
            "[Parallel(n_jobs=-1)]: Done 155 tasks      | elapsed:   27.5s\n",
            "[Parallel(n_jobs=-1)]: Done 156 tasks      | elapsed:   27.6s\n"
          ]
        },
        {
          "output_type": "stream",
          "name": "stdout",
          "text": [
            "building tree 157 of 250\n",
            "building tree 158 of 250\n",
            "building tree 159 of 250\n",
            "building tree 160 of 250\n"
          ]
        },
        {
          "output_type": "stream",
          "name": "stderr",
          "text": [
            "[Parallel(n_jobs=-1)]: Done 157 tasks      | elapsed:   27.8s\n",
            "[Parallel(n_jobs=-1)]: Done 158 tasks      | elapsed:   28.0s\n",
            "[Parallel(n_jobs=-1)]: Done 159 tasks      | elapsed:   28.2s\n",
            "[Parallel(n_jobs=-1)]: Done 160 tasks      | elapsed:   28.3s\n"
          ]
        },
        {
          "output_type": "stream",
          "name": "stdout",
          "text": [
            "building tree 161 of 250\n",
            "building tree 162 of 250\n"
          ]
        },
        {
          "output_type": "stream",
          "name": "stderr",
          "text": [
            "[Parallel(n_jobs=-1)]: Done 161 tasks      | elapsed:   28.5s\n",
            "[Parallel(n_jobs=-1)]: Done 162 tasks      | elapsed:   28.6s\n"
          ]
        },
        {
          "output_type": "stream",
          "name": "stdout",
          "text": [
            "building tree 163 of 250\n",
            "building tree 164 of 250\n"
          ]
        },
        {
          "output_type": "stream",
          "name": "stderr",
          "text": [
            "[Parallel(n_jobs=-1)]: Done 163 tasks      | elapsed:   28.8s\n",
            "[Parallel(n_jobs=-1)]: Done 164 tasks      | elapsed:   29.0s\n"
          ]
        },
        {
          "output_type": "stream",
          "name": "stdout",
          "text": [
            "building tree 165 of 250\n",
            "building tree 166 of 250\n"
          ]
        },
        {
          "output_type": "stream",
          "name": "stderr",
          "text": [
            "[Parallel(n_jobs=-1)]: Done 165 tasks      | elapsed:   29.2s\n",
            "[Parallel(n_jobs=-1)]: Done 166 tasks      | elapsed:   29.3s\n"
          ]
        },
        {
          "output_type": "stream",
          "name": "stdout",
          "text": [
            "building tree 167 of 250\n",
            "building tree 168 of 250\n"
          ]
        },
        {
          "output_type": "stream",
          "name": "stderr",
          "text": [
            "[Parallel(n_jobs=-1)]: Done 167 tasks      | elapsed:   29.5s\n",
            "[Parallel(n_jobs=-1)]: Done 168 tasks      | elapsed:   29.7s\n"
          ]
        },
        {
          "output_type": "stream",
          "name": "stdout",
          "text": [
            "building tree 169 of 250\n",
            "building tree 170 of 250\n"
          ]
        },
        {
          "output_type": "stream",
          "name": "stderr",
          "text": [
            "[Parallel(n_jobs=-1)]: Done 169 tasks      | elapsed:   29.9s\n",
            "[Parallel(n_jobs=-1)]: Done 170 tasks      | elapsed:   30.0s\n"
          ]
        },
        {
          "output_type": "stream",
          "name": "stdout",
          "text": [
            "building tree 171 of 250\n",
            "building tree 172 of 250\n"
          ]
        },
        {
          "output_type": "stream",
          "name": "stderr",
          "text": [
            "[Parallel(n_jobs=-1)]: Done 171 tasks      | elapsed:   30.2s\n",
            "[Parallel(n_jobs=-1)]: Done 172 tasks      | elapsed:   30.4s\n"
          ]
        },
        {
          "output_type": "stream",
          "name": "stdout",
          "text": [
            "building tree 173 of 250\n",
            "building tree 174 of 250\n"
          ]
        },
        {
          "output_type": "stream",
          "name": "stderr",
          "text": [
            "[Parallel(n_jobs=-1)]: Done 173 tasks      | elapsed:   30.6s\n",
            "[Parallel(n_jobs=-1)]: Done 174 tasks      | elapsed:   30.7s\n"
          ]
        },
        {
          "output_type": "stream",
          "name": "stdout",
          "text": [
            "building tree 175 of 250\n",
            "building tree 176 of 250\n"
          ]
        },
        {
          "output_type": "stream",
          "name": "stderr",
          "text": [
            "[Parallel(n_jobs=-1)]: Done 175 tasks      | elapsed:   31.0s\n",
            "[Parallel(n_jobs=-1)]: Done 176 tasks      | elapsed:   31.1s\n"
          ]
        },
        {
          "output_type": "stream",
          "name": "stdout",
          "text": [
            "building tree 177 of 250\n",
            "building tree 178 of 250\n"
          ]
        },
        {
          "output_type": "stream",
          "name": "stderr",
          "text": [
            "[Parallel(n_jobs=-1)]: Done 177 tasks      | elapsed:   31.4s\n",
            "[Parallel(n_jobs=-1)]: Done 178 tasks      | elapsed:   31.4s\n"
          ]
        },
        {
          "output_type": "stream",
          "name": "stdout",
          "text": [
            "building tree 179 of 250\n",
            "building tree 180 of 250\n"
          ]
        },
        {
          "output_type": "stream",
          "name": "stderr",
          "text": [
            "[Parallel(n_jobs=-1)]: Done 179 tasks      | elapsed:   31.7s\n",
            "[Parallel(n_jobs=-1)]: Done 180 tasks      | elapsed:   31.8s\n"
          ]
        },
        {
          "output_type": "stream",
          "name": "stdout",
          "text": [
            "building tree 181 of 250\n",
            "building tree 182 of 250\n"
          ]
        },
        {
          "output_type": "stream",
          "name": "stderr",
          "text": [
            "[Parallel(n_jobs=-1)]: Done 181 tasks      | elapsed:   32.1s\n",
            "[Parallel(n_jobs=-1)]: Done 182 tasks      | elapsed:   32.1s\n"
          ]
        },
        {
          "output_type": "stream",
          "name": "stdout",
          "text": [
            "building tree 183 of 250\n",
            "building tree 184 of 250\n"
          ]
        },
        {
          "output_type": "stream",
          "name": "stderr",
          "text": [
            "[Parallel(n_jobs=-1)]: Done 183 tasks      | elapsed:   32.4s\n",
            "[Parallel(n_jobs=-1)]: Done 184 tasks      | elapsed:   32.4s\n"
          ]
        },
        {
          "output_type": "stream",
          "name": "stdout",
          "text": [
            "building tree 185 of 250\n",
            "building tree 186 of 250\n"
          ]
        },
        {
          "output_type": "stream",
          "name": "stderr",
          "text": [
            "[Parallel(n_jobs=-1)]: Done 185 tasks      | elapsed:   32.7s\n",
            "[Parallel(n_jobs=-1)]: Done 186 tasks      | elapsed:   32.8s\n"
          ]
        },
        {
          "output_type": "stream",
          "name": "stdout",
          "text": [
            "building tree 187 of 250\n",
            "building tree 188 of 250\n"
          ]
        },
        {
          "output_type": "stream",
          "name": "stderr",
          "text": [
            "[Parallel(n_jobs=-1)]: Done 187 tasks      | elapsed:   33.1s\n",
            "[Parallel(n_jobs=-1)]: Done 188 tasks      | elapsed:   33.1s\n"
          ]
        },
        {
          "output_type": "stream",
          "name": "stdout",
          "text": [
            "building tree 189 of 250\n",
            "building tree 190 of 250\n"
          ]
        },
        {
          "output_type": "stream",
          "name": "stderr",
          "text": [
            "[Parallel(n_jobs=-1)]: Done 189 tasks      | elapsed:   33.4s\n",
            "[Parallel(n_jobs=-1)]: Done 190 tasks      | elapsed:   33.4s\n"
          ]
        },
        {
          "output_type": "stream",
          "name": "stdout",
          "text": [
            "building tree 191 of 250\n",
            "building tree 192 of 250\n"
          ]
        },
        {
          "output_type": "stream",
          "name": "stderr",
          "text": [
            "[Parallel(n_jobs=-1)]: Done 191 tasks      | elapsed:   33.8s\n",
            "[Parallel(n_jobs=-1)]: Done 192 tasks      | elapsed:   33.8s\n"
          ]
        },
        {
          "output_type": "stream",
          "name": "stdout",
          "text": [
            "building tree 193 of 250\n",
            "building tree 194 of 250\n"
          ]
        },
        {
          "output_type": "stream",
          "name": "stderr",
          "text": [
            "[Parallel(n_jobs=-1)]: Done 193 tasks      | elapsed:   34.1s\n",
            "[Parallel(n_jobs=-1)]: Done 194 tasks      | elapsed:   34.2s\n"
          ]
        },
        {
          "output_type": "stream",
          "name": "stdout",
          "text": [
            "building tree 195 of 250\n",
            "building tree 196 of 250\n"
          ]
        },
        {
          "output_type": "stream",
          "name": "stderr",
          "text": [
            "[Parallel(n_jobs=-1)]: Done 195 tasks      | elapsed:   34.5s\n",
            "[Parallel(n_jobs=-1)]: Done 196 tasks      | elapsed:   34.5s\n"
          ]
        },
        {
          "output_type": "stream",
          "name": "stdout",
          "text": [
            "building tree 197 of 250\n",
            "building tree 198 of 250\n"
          ]
        },
        {
          "output_type": "stream",
          "name": "stderr",
          "text": [
            "[Parallel(n_jobs=-1)]: Done 197 tasks      | elapsed:   34.8s\n",
            "[Parallel(n_jobs=-1)]: Done 198 tasks      | elapsed:   34.9s\n"
          ]
        },
        {
          "output_type": "stream",
          "name": "stdout",
          "text": [
            "building tree 199 of 250\n",
            "building tree 200 of 250\n",
            "building tree 201 of 250\n",
            "building tree 202 of 250\n"
          ]
        },
        {
          "output_type": "stream",
          "name": "stderr",
          "text": [
            "[Parallel(n_jobs=-1)]: Done 199 tasks      | elapsed:   35.2s\n",
            "[Parallel(n_jobs=-1)]: Done 200 tasks      | elapsed:   35.2s\n",
            "[Parallel(n_jobs=-1)]: Done 201 tasks      | elapsed:   35.5s\n",
            "[Parallel(n_jobs=-1)]: Done 202 tasks      | elapsed:   35.6s\n"
          ]
        },
        {
          "output_type": "stream",
          "name": "stdout",
          "text": [
            "building tree 203 of 250\n",
            "building tree 204 of 250\n"
          ]
        },
        {
          "output_type": "stream",
          "name": "stderr",
          "text": [
            "[Parallel(n_jobs=-1)]: Done 203 tasks      | elapsed:   35.9s\n",
            "[Parallel(n_jobs=-1)]: Done 204 tasks      | elapsed:   35.9s\n"
          ]
        },
        {
          "output_type": "stream",
          "name": "stdout",
          "text": [
            "building tree 205 of 250\n",
            "building tree 206 of 250\n"
          ]
        },
        {
          "output_type": "stream",
          "name": "stderr",
          "text": [
            "[Parallel(n_jobs=-1)]: Done 205 tasks      | elapsed:   36.3s\n",
            "[Parallel(n_jobs=-1)]: Done 206 tasks      | elapsed:   36.3s\n"
          ]
        },
        {
          "output_type": "stream",
          "name": "stdout",
          "text": [
            "building tree 207 of 250\n",
            "building tree 208 of 250\n"
          ]
        },
        {
          "output_type": "stream",
          "name": "stderr",
          "text": [
            "[Parallel(n_jobs=-1)]: Done 207 tasks      | elapsed:   36.6s\n",
            "[Parallel(n_jobs=-1)]: Done 208 tasks      | elapsed:   36.6s\n"
          ]
        },
        {
          "output_type": "stream",
          "name": "stdout",
          "text": [
            "building tree 209 of 250\n",
            "building tree 210 of 250\n"
          ]
        },
        {
          "output_type": "stream",
          "name": "stderr",
          "text": [
            "[Parallel(n_jobs=-1)]: Done 209 tasks      | elapsed:   36.9s\n",
            "[Parallel(n_jobs=-1)]: Done 210 tasks      | elapsed:   37.0s\n"
          ]
        },
        {
          "output_type": "stream",
          "name": "stdout",
          "text": [
            "building tree 211 of 250\n",
            "building tree 212 of 250\n"
          ]
        },
        {
          "output_type": "stream",
          "name": "stderr",
          "text": [
            "[Parallel(n_jobs=-1)]: Done 211 tasks      | elapsed:   37.3s\n",
            "[Parallel(n_jobs=-1)]: Done 212 tasks      | elapsed:   37.3s\n"
          ]
        },
        {
          "output_type": "stream",
          "name": "stdout",
          "text": [
            "building tree 213 of 250\n",
            "building tree 214 of 250\n"
          ]
        },
        {
          "output_type": "stream",
          "name": "stderr",
          "text": [
            "[Parallel(n_jobs=-1)]: Done 213 tasks      | elapsed:   37.6s\n",
            "[Parallel(n_jobs=-1)]: Done 214 tasks      | elapsed:   37.7s\n"
          ]
        },
        {
          "output_type": "stream",
          "name": "stdout",
          "text": [
            "building tree 215 of 250\n",
            "building tree 216 of 250\n"
          ]
        },
        {
          "output_type": "stream",
          "name": "stderr",
          "text": [
            "[Parallel(n_jobs=-1)]: Done 215 tasks      | elapsed:   38.0s\n",
            "[Parallel(n_jobs=-1)]: Done 216 tasks      | elapsed:   38.1s\n"
          ]
        },
        {
          "output_type": "stream",
          "name": "stdout",
          "text": [
            "building tree 217 of 250\n",
            "building tree 218 of 250\n"
          ]
        },
        {
          "output_type": "stream",
          "name": "stderr",
          "text": [
            "[Parallel(n_jobs=-1)]: Done 217 tasks      | elapsed:   38.3s\n",
            "[Parallel(n_jobs=-1)]: Done 218 tasks      | elapsed:   38.4s\n"
          ]
        },
        {
          "output_type": "stream",
          "name": "stdout",
          "text": [
            "building tree 219 of 250\n",
            "building tree 220 of 250\n"
          ]
        },
        {
          "output_type": "stream",
          "name": "stderr",
          "text": [
            "[Parallel(n_jobs=-1)]: Done 219 tasks      | elapsed:   38.7s\n",
            "[Parallel(n_jobs=-1)]: Done 220 tasks      | elapsed:   38.7s\n"
          ]
        },
        {
          "output_type": "stream",
          "name": "stdout",
          "text": [
            "building tree 221 of 250\n",
            "building tree 222 of 250\n"
          ]
        },
        {
          "output_type": "stream",
          "name": "stderr",
          "text": [
            "[Parallel(n_jobs=-1)]: Done 221 tasks      | elapsed:   39.0s\n",
            "[Parallel(n_jobs=-1)]: Done 222 tasks      | elapsed:   39.0s\n"
          ]
        },
        {
          "output_type": "stream",
          "name": "stdout",
          "text": [
            "building tree 223 of 250\n",
            "building tree 224 of 250\n"
          ]
        },
        {
          "output_type": "stream",
          "name": "stderr",
          "text": [
            "[Parallel(n_jobs=-1)]: Done 223 tasks      | elapsed:   39.4s\n",
            "[Parallel(n_jobs=-1)]: Done 224 tasks      | elapsed:   39.4s\n"
          ]
        },
        {
          "output_type": "stream",
          "name": "stdout",
          "text": [
            "building tree 225 of 250\n",
            "building tree 226 of 250\n"
          ]
        },
        {
          "output_type": "stream",
          "name": "stderr",
          "text": [
            "[Parallel(n_jobs=-1)]: Done 225 tasks      | elapsed:   39.7s\n",
            "[Parallel(n_jobs=-1)]: Done 226 tasks      | elapsed:   39.8s\n"
          ]
        },
        {
          "output_type": "stream",
          "name": "stdout",
          "text": [
            "building tree 227 of 250\n",
            "building tree 228 of 250\n",
            "building tree 229 of 250\n",
            "building tree 230 of 250\n"
          ]
        },
        {
          "output_type": "stream",
          "name": "stderr",
          "text": [
            "[Parallel(n_jobs=-1)]: Done 227 tasks      | elapsed:   40.1s\n",
            "[Parallel(n_jobs=-1)]: Done 228 tasks      | elapsed:   40.1s\n",
            "[Parallel(n_jobs=-1)]: Done 229 tasks      | elapsed:   40.4s\n",
            "[Parallel(n_jobs=-1)]: Done 230 tasks      | elapsed:   40.5s\n"
          ]
        },
        {
          "output_type": "stream",
          "name": "stdout",
          "text": [
            "building tree 231 of 250\n",
            "building tree 232 of 250\n"
          ]
        },
        {
          "output_type": "stream",
          "name": "stderr",
          "text": [
            "[Parallel(n_jobs=-1)]: Done 231 tasks      | elapsed:   40.8s\n",
            "[Parallel(n_jobs=-1)]: Done 232 tasks      | elapsed:   40.8s\n"
          ]
        },
        {
          "output_type": "stream",
          "name": "stdout",
          "text": [
            "building tree 233 of 250\n",
            "building tree 234 of 250\n"
          ]
        },
        {
          "output_type": "stream",
          "name": "stderr",
          "text": [
            "[Parallel(n_jobs=-1)]: Done 233 tasks      | elapsed:   41.1s\n",
            "[Parallel(n_jobs=-1)]: Done 234 tasks      | elapsed:   41.2s\n"
          ]
        },
        {
          "output_type": "stream",
          "name": "stdout",
          "text": [
            "building tree 235 of 250\n",
            "building tree 236 of 250\n"
          ]
        },
        {
          "output_type": "stream",
          "name": "stderr",
          "text": [
            "[Parallel(n_jobs=-1)]: Done 235 tasks      | elapsed:   41.5s\n",
            "[Parallel(n_jobs=-1)]: Done 236 tasks      | elapsed:   41.5s\n"
          ]
        },
        {
          "output_type": "stream",
          "name": "stdout",
          "text": [
            "building tree 237 of 250\n",
            "building tree 238 of 250\n"
          ]
        },
        {
          "output_type": "stream",
          "name": "stderr",
          "text": [
            "[Parallel(n_jobs=-1)]: Done 237 tasks      | elapsed:   41.8s\n",
            "[Parallel(n_jobs=-1)]: Done 238 tasks      | elapsed:   41.9s\n"
          ]
        },
        {
          "output_type": "stream",
          "name": "stdout",
          "text": [
            "building tree 239 of 250\n",
            "building tree 240 of 250\n"
          ]
        },
        {
          "output_type": "stream",
          "name": "stderr",
          "text": [
            "[Parallel(n_jobs=-1)]: Done 239 tasks      | elapsed:   42.2s\n",
            "[Parallel(n_jobs=-1)]: Done 240 tasks      | elapsed:   42.2s\n"
          ]
        },
        {
          "output_type": "stream",
          "name": "stdout",
          "text": [
            "building tree 241 of 250\n",
            "building tree 242 of 250\n"
          ]
        },
        {
          "output_type": "stream",
          "name": "stderr",
          "text": [
            "[Parallel(n_jobs=-1)]: Done 241 tasks      | elapsed:   42.6s\n",
            "[Parallel(n_jobs=-1)]: Done 242 tasks      | elapsed:   42.6s\n"
          ]
        },
        {
          "output_type": "stream",
          "name": "stdout",
          "text": [
            "building tree 243 of 250\n",
            "building tree 244 of 250\n"
          ]
        },
        {
          "output_type": "stream",
          "name": "stderr",
          "text": [
            "[Parallel(n_jobs=-1)]: Done 243 tasks      | elapsed:   43.0s\n",
            "[Parallel(n_jobs=-1)]: Done 244 tasks      | elapsed:   43.0s\n"
          ]
        },
        {
          "output_type": "stream",
          "name": "stdout",
          "text": [
            "building tree 245 of 250\n",
            "building tree 246 of 250\n"
          ]
        },
        {
          "output_type": "stream",
          "name": "stderr",
          "text": [
            "[Parallel(n_jobs=-1)]: Done 245 tasks      | elapsed:   43.3s\n",
            "[Parallel(n_jobs=-1)]: Done 246 tasks      | elapsed:   43.4s\n"
          ]
        },
        {
          "output_type": "stream",
          "name": "stdout",
          "text": [
            "building tree 247 of 250\n",
            "building tree 248 of 250\n"
          ]
        },
        {
          "output_type": "stream",
          "name": "stderr",
          "text": [
            "[Parallel(n_jobs=-1)]: Done 247 tasks      | elapsed:   43.7s\n"
          ]
        },
        {
          "output_type": "stream",
          "name": "stdout",
          "text": [
            "building tree 249 of 250\n",
            "building tree 250 of 250\n"
          ]
        },
        {
          "output_type": "stream",
          "name": "stderr",
          "text": [
            "[Parallel(n_jobs=-1)]: Done 250 out of 250 | elapsed:   44.0s finished\n"
          ]
        },
        {
          "output_type": "execute_result",
          "data": {
            "text/plain": [
              "RandomForestClassifier(class_weight='balanced_subsample', min_samples_split=4,\n",
              "                       n_estimators=250, n_jobs=-1, oob_score=True, verbose=20)"
            ]
          },
          "metadata": {},
          "execution_count": 94
        }
      ],
      "source": [
        " forest = RandomForestClassifier(n_estimators=250, min_samples_split=4, bootstrap=True, oob_score=True, n_jobs=-1, verbose = 20, class_weight=\"balanced_subsample\")\n",
        " forest.fit(X_train, y_train)"
      ]
    },
    {
      "cell_type": "markdown",
      "source": [
        "Aprés avoir entrainé le modele, on l'alimente avec les données de test et on a obtenue des métriques, a savoir Accuracy, f1_score"
      ],
      "metadata": {
        "id": "5S7fJEe-0lbM"
      }
    },
    {
      "cell_type": "code",
      "execution_count": null,
      "metadata": {
        "colab": {
          "base_uri": "https://localhost:8080/"
        },
        "id": "5iJtqkVbA8o6",
        "outputId": "cdb2a419-f655-4798-fcd5-10505f1e9d19"
      },
      "outputs": [
        {
          "output_type": "stream",
          "name": "stderr",
          "text": [
            "[Parallel(n_jobs=2)]: Using backend ThreadingBackend with 2 concurrent workers.\n",
            "[Parallel(n_jobs=2)]: Done   1 tasks      | elapsed:    0.1s\n",
            "[Parallel(n_jobs=2)]: Done   2 tasks      | elapsed:    0.1s\n",
            "[Parallel(n_jobs=2)]: Done   3 tasks      | elapsed:    0.1s\n",
            "[Parallel(n_jobs=2)]: Done   4 tasks      | elapsed:    0.1s\n",
            "[Parallel(n_jobs=2)]: Done   5 tasks      | elapsed:    0.1s\n",
            "[Parallel(n_jobs=2)]: Done   6 tasks      | elapsed:    0.1s\n",
            "[Parallel(n_jobs=2)]: Done   7 tasks      | elapsed:    0.1s\n",
            "[Parallel(n_jobs=2)]: Done   8 tasks      | elapsed:    0.1s\n",
            "[Parallel(n_jobs=2)]: Done   9 tasks      | elapsed:    0.1s\n",
            "[Parallel(n_jobs=2)]: Done  10 tasks      | elapsed:    0.2s\n",
            "[Parallel(n_jobs=2)]: Done  11 tasks      | elapsed:    0.2s\n",
            "[Parallel(n_jobs=2)]: Done  12 tasks      | elapsed:    0.2s\n",
            "[Parallel(n_jobs=2)]: Done  13 tasks      | elapsed:    0.2s\n",
            "[Parallel(n_jobs=2)]: Done  14 tasks      | elapsed:    0.2s\n",
            "[Parallel(n_jobs=2)]: Done  15 tasks      | elapsed:    0.2s\n",
            "[Parallel(n_jobs=2)]: Done  16 tasks      | elapsed:    0.2s\n",
            "[Parallel(n_jobs=2)]: Done  17 tasks      | elapsed:    0.3s\n",
            "[Parallel(n_jobs=2)]: Done  18 tasks      | elapsed:    0.3s\n",
            "[Parallel(n_jobs=2)]: Done  19 tasks      | elapsed:    0.3s\n",
            "[Parallel(n_jobs=2)]: Done  20 tasks      | elapsed:    0.3s\n",
            "[Parallel(n_jobs=2)]: Done  21 tasks      | elapsed:    0.3s\n",
            "[Parallel(n_jobs=2)]: Done  22 tasks      | elapsed:    0.3s\n",
            "[Parallel(n_jobs=2)]: Done  23 tasks      | elapsed:    0.4s\n",
            "[Parallel(n_jobs=2)]: Done  24 tasks      | elapsed:    0.4s\n",
            "[Parallel(n_jobs=2)]: Done  25 tasks      | elapsed:    0.4s\n",
            "[Parallel(n_jobs=2)]: Done  26 tasks      | elapsed:    0.4s\n",
            "[Parallel(n_jobs=2)]: Done  27 tasks      | elapsed:    0.4s\n",
            "[Parallel(n_jobs=2)]: Done  28 tasks      | elapsed:    0.4s\n",
            "[Parallel(n_jobs=2)]: Done  29 tasks      | elapsed:    0.5s\n",
            "[Parallel(n_jobs=2)]: Done  30 tasks      | elapsed:    0.5s\n",
            "[Parallel(n_jobs=2)]: Done  31 tasks      | elapsed:    0.5s\n",
            "[Parallel(n_jobs=2)]: Done  32 tasks      | elapsed:    0.5s\n",
            "[Parallel(n_jobs=2)]: Done  33 tasks      | elapsed:    0.5s\n",
            "[Parallel(n_jobs=2)]: Done  34 tasks      | elapsed:    0.5s\n",
            "[Parallel(n_jobs=2)]: Done  35 tasks      | elapsed:    0.6s\n",
            "[Parallel(n_jobs=2)]: Done  36 tasks      | elapsed:    0.6s\n",
            "[Parallel(n_jobs=2)]: Done  37 tasks      | elapsed:    0.6s\n",
            "[Parallel(n_jobs=2)]: Done  38 tasks      | elapsed:    0.6s\n",
            "[Parallel(n_jobs=2)]: Done  39 tasks      | elapsed:    0.7s\n",
            "[Parallel(n_jobs=2)]: Done  40 tasks      | elapsed:    0.7s\n",
            "[Parallel(n_jobs=2)]: Done  41 tasks      | elapsed:    0.7s\n",
            "[Parallel(n_jobs=2)]: Done  42 tasks      | elapsed:    0.7s\n",
            "[Parallel(n_jobs=2)]: Done  43 tasks      | elapsed:    0.7s\n",
            "[Parallel(n_jobs=2)]: Done  44 tasks      | elapsed:    0.7s\n",
            "[Parallel(n_jobs=2)]: Done  45 tasks      | elapsed:    0.7s\n",
            "[Parallel(n_jobs=2)]: Done  46 tasks      | elapsed:    0.7s\n",
            "[Parallel(n_jobs=2)]: Done  47 tasks      | elapsed:    0.8s\n",
            "[Parallel(n_jobs=2)]: Done  48 tasks      | elapsed:    0.8s\n",
            "[Parallel(n_jobs=2)]: Done  49 tasks      | elapsed:    0.8s\n",
            "[Parallel(n_jobs=2)]: Done  50 tasks      | elapsed:    0.8s\n",
            "[Parallel(n_jobs=2)]: Done  51 tasks      | elapsed:    0.8s\n",
            "[Parallel(n_jobs=2)]: Done  52 tasks      | elapsed:    0.8s\n",
            "[Parallel(n_jobs=2)]: Done  53 tasks      | elapsed:    0.8s\n",
            "[Parallel(n_jobs=2)]: Done  54 tasks      | elapsed:    0.9s\n",
            "[Parallel(n_jobs=2)]: Done  55 tasks      | elapsed:    0.9s\n",
            "[Parallel(n_jobs=2)]: Done  56 tasks      | elapsed:    0.9s\n",
            "[Parallel(n_jobs=2)]: Done  57 tasks      | elapsed:    0.9s\n",
            "[Parallel(n_jobs=2)]: Done  58 tasks      | elapsed:    0.9s\n",
            "[Parallel(n_jobs=2)]: Done  59 tasks      | elapsed:    0.9s\n",
            "[Parallel(n_jobs=2)]: Done  60 tasks      | elapsed:    0.9s\n",
            "[Parallel(n_jobs=2)]: Done  61 tasks      | elapsed:    1.0s\n",
            "[Parallel(n_jobs=2)]: Done  62 tasks      | elapsed:    1.0s\n",
            "[Parallel(n_jobs=2)]: Done  63 tasks      | elapsed:    1.0s\n",
            "[Parallel(n_jobs=2)]: Done  64 tasks      | elapsed:    1.0s\n",
            "[Parallel(n_jobs=2)]: Done  65 tasks      | elapsed:    1.0s\n",
            "[Parallel(n_jobs=2)]: Done  66 tasks      | elapsed:    1.0s\n",
            "[Parallel(n_jobs=2)]: Done  67 tasks      | elapsed:    1.0s\n",
            "[Parallel(n_jobs=2)]: Done  68 tasks      | elapsed:    1.0s\n",
            "[Parallel(n_jobs=2)]: Done  69 tasks      | elapsed:    1.1s\n",
            "[Parallel(n_jobs=2)]: Done  70 tasks      | elapsed:    1.1s\n",
            "[Parallel(n_jobs=2)]: Done  71 tasks      | elapsed:    1.1s\n",
            "[Parallel(n_jobs=2)]: Done  72 tasks      | elapsed:    1.1s\n",
            "[Parallel(n_jobs=2)]: Done  73 tasks      | elapsed:    1.1s\n",
            "[Parallel(n_jobs=2)]: Done  74 tasks      | elapsed:    1.1s\n",
            "[Parallel(n_jobs=2)]: Done  75 tasks      | elapsed:    1.2s\n",
            "[Parallel(n_jobs=2)]: Done  76 tasks      | elapsed:    1.2s\n",
            "[Parallel(n_jobs=2)]: Done  77 tasks      | elapsed:    1.2s\n",
            "[Parallel(n_jobs=2)]: Done  78 tasks      | elapsed:    1.2s\n",
            "[Parallel(n_jobs=2)]: Done  79 tasks      | elapsed:    1.2s\n",
            "[Parallel(n_jobs=2)]: Done  80 tasks      | elapsed:    1.3s\n",
            "[Parallel(n_jobs=2)]: Done  81 tasks      | elapsed:    1.3s\n",
            "[Parallel(n_jobs=2)]: Done  82 tasks      | elapsed:    1.3s\n",
            "[Parallel(n_jobs=2)]: Done  83 tasks      | elapsed:    1.3s\n",
            "[Parallel(n_jobs=2)]: Done  84 tasks      | elapsed:    1.3s\n",
            "[Parallel(n_jobs=2)]: Done  85 tasks      | elapsed:    1.3s\n",
            "[Parallel(n_jobs=2)]: Done  86 tasks      | elapsed:    1.3s\n",
            "[Parallel(n_jobs=2)]: Done  87 tasks      | elapsed:    1.4s\n",
            "[Parallel(n_jobs=2)]: Done  88 tasks      | elapsed:    1.4s\n",
            "[Parallel(n_jobs=2)]: Done  89 tasks      | elapsed:    1.4s\n",
            "[Parallel(n_jobs=2)]: Done  90 tasks      | elapsed:    1.4s\n",
            "[Parallel(n_jobs=2)]: Done  91 tasks      | elapsed:    1.4s\n",
            "[Parallel(n_jobs=2)]: Done  92 tasks      | elapsed:    1.4s\n",
            "[Parallel(n_jobs=2)]: Done  93 tasks      | elapsed:    1.4s\n",
            "[Parallel(n_jobs=2)]: Done  94 tasks      | elapsed:    1.5s\n",
            "[Parallel(n_jobs=2)]: Done  95 tasks      | elapsed:    1.5s\n",
            "[Parallel(n_jobs=2)]: Done  96 tasks      | elapsed:    1.5s\n",
            "[Parallel(n_jobs=2)]: Done  97 tasks      | elapsed:    1.5s\n",
            "[Parallel(n_jobs=2)]: Done  98 tasks      | elapsed:    1.5s\n",
            "[Parallel(n_jobs=2)]: Done  99 tasks      | elapsed:    1.5s\n",
            "[Parallel(n_jobs=2)]: Done 100 tasks      | elapsed:    1.5s\n",
            "[Parallel(n_jobs=2)]: Done 101 tasks      | elapsed:    1.5s\n",
            "[Parallel(n_jobs=2)]: Done 102 tasks      | elapsed:    1.6s\n",
            "[Parallel(n_jobs=2)]: Done 103 tasks      | elapsed:    1.6s\n",
            "[Parallel(n_jobs=2)]: Done 104 tasks      | elapsed:    1.6s\n",
            "[Parallel(n_jobs=2)]: Done 105 tasks      | elapsed:    1.6s\n",
            "[Parallel(n_jobs=2)]: Done 106 tasks      | elapsed:    1.6s\n",
            "[Parallel(n_jobs=2)]: Done 107 tasks      | elapsed:    1.6s\n",
            "[Parallel(n_jobs=2)]: Done 108 tasks      | elapsed:    1.6s\n",
            "[Parallel(n_jobs=2)]: Done 109 tasks      | elapsed:    1.7s\n",
            "[Parallel(n_jobs=2)]: Done 110 tasks      | elapsed:    1.7s\n",
            "[Parallel(n_jobs=2)]: Done 111 tasks      | elapsed:    1.7s\n",
            "[Parallel(n_jobs=2)]: Done 112 tasks      | elapsed:    1.7s\n",
            "[Parallel(n_jobs=2)]: Done 113 tasks      | elapsed:    1.7s\n",
            "[Parallel(n_jobs=2)]: Done 114 tasks      | elapsed:    1.7s\n",
            "[Parallel(n_jobs=2)]: Done 115 tasks      | elapsed:    1.7s\n",
            "[Parallel(n_jobs=2)]: Done 116 tasks      | elapsed:    1.8s\n",
            "[Parallel(n_jobs=2)]: Done 117 tasks      | elapsed:    1.8s\n",
            "[Parallel(n_jobs=2)]: Done 118 tasks      | elapsed:    1.8s\n",
            "[Parallel(n_jobs=2)]: Done 119 tasks      | elapsed:    1.8s\n",
            "[Parallel(n_jobs=2)]: Done 120 tasks      | elapsed:    1.8s\n",
            "[Parallel(n_jobs=2)]: Done 121 tasks      | elapsed:    1.8s\n",
            "[Parallel(n_jobs=2)]: Done 122 tasks      | elapsed:    1.8s\n",
            "[Parallel(n_jobs=2)]: Done 123 tasks      | elapsed:    1.8s\n",
            "[Parallel(n_jobs=2)]: Done 124 tasks      | elapsed:    1.9s\n",
            "[Parallel(n_jobs=2)]: Done 125 tasks      | elapsed:    1.9s\n",
            "[Parallel(n_jobs=2)]: Done 126 tasks      | elapsed:    1.9s\n",
            "[Parallel(n_jobs=2)]: Done 127 tasks      | elapsed:    1.9s\n",
            "[Parallel(n_jobs=2)]: Done 128 tasks      | elapsed:    1.9s\n",
            "[Parallel(n_jobs=2)]: Done 129 tasks      | elapsed:    1.9s\n",
            "[Parallel(n_jobs=2)]: Done 130 tasks      | elapsed:    1.9s\n",
            "[Parallel(n_jobs=2)]: Done 131 tasks      | elapsed:    1.9s\n",
            "[Parallel(n_jobs=2)]: Done 132 tasks      | elapsed:    2.0s\n",
            "[Parallel(n_jobs=2)]: Done 133 tasks      | elapsed:    2.0s\n",
            "[Parallel(n_jobs=2)]: Done 134 tasks      | elapsed:    2.0s\n",
            "[Parallel(n_jobs=2)]: Done 135 tasks      | elapsed:    2.0s\n",
            "[Parallel(n_jobs=2)]: Done 136 tasks      | elapsed:    2.0s\n",
            "[Parallel(n_jobs=2)]: Done 137 tasks      | elapsed:    2.0s\n",
            "[Parallel(n_jobs=2)]: Done 138 tasks      | elapsed:    2.0s\n",
            "[Parallel(n_jobs=2)]: Done 139 tasks      | elapsed:    2.0s\n",
            "[Parallel(n_jobs=2)]: Done 140 tasks      | elapsed:    2.1s\n",
            "[Parallel(n_jobs=2)]: Done 141 tasks      | elapsed:    2.1s\n",
            "[Parallel(n_jobs=2)]: Done 142 tasks      | elapsed:    2.1s\n",
            "[Parallel(n_jobs=2)]: Done 143 tasks      | elapsed:    2.1s\n",
            "[Parallel(n_jobs=2)]: Done 144 tasks      | elapsed:    2.1s\n",
            "[Parallel(n_jobs=2)]: Done 145 tasks      | elapsed:    2.1s\n",
            "[Parallel(n_jobs=2)]: Done 146 tasks      | elapsed:    2.1s\n",
            "[Parallel(n_jobs=2)]: Done 147 tasks      | elapsed:    2.1s\n",
            "[Parallel(n_jobs=2)]: Done 148 tasks      | elapsed:    2.2s\n",
            "[Parallel(n_jobs=2)]: Done 149 tasks      | elapsed:    2.2s\n",
            "[Parallel(n_jobs=2)]: Done 150 tasks      | elapsed:    2.2s\n",
            "[Parallel(n_jobs=2)]: Done 151 tasks      | elapsed:    2.2s\n",
            "[Parallel(n_jobs=2)]: Done 152 tasks      | elapsed:    2.2s\n",
            "[Parallel(n_jobs=2)]: Done 153 tasks      | elapsed:    2.2s\n",
            "[Parallel(n_jobs=2)]: Done 154 tasks      | elapsed:    2.2s\n",
            "[Parallel(n_jobs=2)]: Done 155 tasks      | elapsed:    2.3s\n",
            "[Parallel(n_jobs=2)]: Done 156 tasks      | elapsed:    2.3s\n",
            "[Parallel(n_jobs=2)]: Done 157 tasks      | elapsed:    2.3s\n",
            "[Parallel(n_jobs=2)]: Done 158 tasks      | elapsed:    2.3s\n",
            "[Parallel(n_jobs=2)]: Done 159 tasks      | elapsed:    2.4s\n",
            "[Parallel(n_jobs=2)]: Done 160 tasks      | elapsed:    2.4s\n",
            "[Parallel(n_jobs=2)]: Done 161 tasks      | elapsed:    2.4s\n",
            "[Parallel(n_jobs=2)]: Done 162 tasks      | elapsed:    2.4s\n",
            "[Parallel(n_jobs=2)]: Done 163 tasks      | elapsed:    2.4s\n",
            "[Parallel(n_jobs=2)]: Done 164 tasks      | elapsed:    2.4s\n",
            "[Parallel(n_jobs=2)]: Done 165 tasks      | elapsed:    2.4s\n",
            "[Parallel(n_jobs=2)]: Done 166 tasks      | elapsed:    2.4s\n",
            "[Parallel(n_jobs=2)]: Done 167 tasks      | elapsed:    2.5s\n",
            "[Parallel(n_jobs=2)]: Done 168 tasks      | elapsed:    2.5s\n",
            "[Parallel(n_jobs=2)]: Done 169 tasks      | elapsed:    2.5s\n",
            "[Parallel(n_jobs=2)]: Done 170 tasks      | elapsed:    2.5s\n",
            "[Parallel(n_jobs=2)]: Done 171 tasks      | elapsed:    2.5s\n",
            "[Parallel(n_jobs=2)]: Done 172 tasks      | elapsed:    2.5s\n",
            "[Parallel(n_jobs=2)]: Done 173 tasks      | elapsed:    2.5s\n",
            "[Parallel(n_jobs=2)]: Done 174 tasks      | elapsed:    2.6s\n",
            "[Parallel(n_jobs=2)]: Done 175 tasks      | elapsed:    2.6s\n",
            "[Parallel(n_jobs=2)]: Done 176 tasks      | elapsed:    2.6s\n",
            "[Parallel(n_jobs=2)]: Done 177 tasks      | elapsed:    2.6s\n",
            "[Parallel(n_jobs=2)]: Done 178 tasks      | elapsed:    2.6s\n",
            "[Parallel(n_jobs=2)]: Done 179 tasks      | elapsed:    2.6s\n",
            "[Parallel(n_jobs=2)]: Done 180 tasks      | elapsed:    2.7s\n",
            "[Parallel(n_jobs=2)]: Done 181 tasks      | elapsed:    2.7s\n",
            "[Parallel(n_jobs=2)]: Done 182 tasks      | elapsed:    2.7s\n",
            "[Parallel(n_jobs=2)]: Done 183 tasks      | elapsed:    2.7s\n",
            "[Parallel(n_jobs=2)]: Done 184 tasks      | elapsed:    2.7s\n",
            "[Parallel(n_jobs=2)]: Done 185 tasks      | elapsed:    2.7s\n",
            "[Parallel(n_jobs=2)]: Done 186 tasks      | elapsed:    2.8s\n",
            "[Parallel(n_jobs=2)]: Done 187 tasks      | elapsed:    2.8s\n",
            "[Parallel(n_jobs=2)]: Done 188 tasks      | elapsed:    2.8s\n",
            "[Parallel(n_jobs=2)]: Done 189 tasks      | elapsed:    2.8s\n",
            "[Parallel(n_jobs=2)]: Done 190 tasks      | elapsed:    2.8s\n",
            "[Parallel(n_jobs=2)]: Done 191 tasks      | elapsed:    2.8s\n",
            "[Parallel(n_jobs=2)]: Done 192 tasks      | elapsed:    2.8s\n",
            "[Parallel(n_jobs=2)]: Done 193 tasks      | elapsed:    2.8s\n",
            "[Parallel(n_jobs=2)]: Done 194 tasks      | elapsed:    2.9s\n",
            "[Parallel(n_jobs=2)]: Done 195 tasks      | elapsed:    2.9s\n",
            "[Parallel(n_jobs=2)]: Done 196 tasks      | elapsed:    2.9s\n",
            "[Parallel(n_jobs=2)]: Done 197 tasks      | elapsed:    2.9s\n",
            "[Parallel(n_jobs=2)]: Done 198 tasks      | elapsed:    2.9s\n",
            "[Parallel(n_jobs=2)]: Done 199 tasks      | elapsed:    2.9s\n",
            "[Parallel(n_jobs=2)]: Done 200 tasks      | elapsed:    2.9s\n",
            "[Parallel(n_jobs=2)]: Done 201 tasks      | elapsed:    2.9s\n",
            "[Parallel(n_jobs=2)]: Done 202 tasks      | elapsed:    2.9s\n",
            "[Parallel(n_jobs=2)]: Done 203 tasks      | elapsed:    3.0s\n",
            "[Parallel(n_jobs=2)]: Done 204 tasks      | elapsed:    3.0s\n",
            "[Parallel(n_jobs=2)]: Done 205 tasks      | elapsed:    3.0s\n",
            "[Parallel(n_jobs=2)]: Done 206 tasks      | elapsed:    3.0s\n",
            "[Parallel(n_jobs=2)]: Done 207 tasks      | elapsed:    3.0s\n",
            "[Parallel(n_jobs=2)]: Done 208 tasks      | elapsed:    3.0s\n",
            "[Parallel(n_jobs=2)]: Done 209 tasks      | elapsed:    3.0s\n",
            "[Parallel(n_jobs=2)]: Done 210 tasks      | elapsed:    3.0s\n",
            "[Parallel(n_jobs=2)]: Done 211 tasks      | elapsed:    3.1s\n",
            "[Parallel(n_jobs=2)]: Done 212 tasks      | elapsed:    3.1s\n",
            "[Parallel(n_jobs=2)]: Done 213 tasks      | elapsed:    3.1s\n",
            "[Parallel(n_jobs=2)]: Done 214 tasks      | elapsed:    3.1s\n",
            "[Parallel(n_jobs=2)]: Done 215 tasks      | elapsed:    3.1s\n",
            "[Parallel(n_jobs=2)]: Done 216 tasks      | elapsed:    3.2s\n",
            "[Parallel(n_jobs=2)]: Done 217 tasks      | elapsed:    3.2s\n",
            "[Parallel(n_jobs=2)]: Done 218 tasks      | elapsed:    3.2s\n",
            "[Parallel(n_jobs=2)]: Done 219 tasks      | elapsed:    3.2s\n",
            "[Parallel(n_jobs=2)]: Done 220 tasks      | elapsed:    3.2s\n",
            "[Parallel(n_jobs=2)]: Done 221 tasks      | elapsed:    3.3s\n",
            "[Parallel(n_jobs=2)]: Done 222 tasks      | elapsed:    3.3s\n",
            "[Parallel(n_jobs=2)]: Done 223 tasks      | elapsed:    3.3s\n",
            "[Parallel(n_jobs=2)]: Done 224 tasks      | elapsed:    3.3s\n",
            "[Parallel(n_jobs=2)]: Done 225 tasks      | elapsed:    3.3s\n",
            "[Parallel(n_jobs=2)]: Done 226 tasks      | elapsed:    3.3s\n",
            "[Parallel(n_jobs=2)]: Done 227 tasks      | elapsed:    3.3s\n",
            "[Parallel(n_jobs=2)]: Done 228 tasks      | elapsed:    3.3s\n",
            "[Parallel(n_jobs=2)]: Done 229 tasks      | elapsed:    3.4s\n",
            "[Parallel(n_jobs=2)]: Done 230 tasks      | elapsed:    3.4s\n",
            "[Parallel(n_jobs=2)]: Done 231 tasks      | elapsed:    3.4s\n",
            "[Parallel(n_jobs=2)]: Done 232 tasks      | elapsed:    3.4s\n",
            "[Parallel(n_jobs=2)]: Done 233 tasks      | elapsed:    3.4s\n",
            "[Parallel(n_jobs=2)]: Done 234 tasks      | elapsed:    3.4s\n",
            "[Parallel(n_jobs=2)]: Done 235 tasks      | elapsed:    3.4s\n",
            "[Parallel(n_jobs=2)]: Done 236 tasks      | elapsed:    3.4s\n",
            "[Parallel(n_jobs=2)]: Done 237 tasks      | elapsed:    3.4s\n",
            "[Parallel(n_jobs=2)]: Done 238 tasks      | elapsed:    3.5s\n",
            "[Parallel(n_jobs=2)]: Done 239 tasks      | elapsed:    3.5s\n",
            "[Parallel(n_jobs=2)]: Done 240 tasks      | elapsed:    3.5s\n",
            "[Parallel(n_jobs=2)]: Done 241 tasks      | elapsed:    3.5s\n",
            "[Parallel(n_jobs=2)]: Done 242 tasks      | elapsed:    3.5s\n",
            "[Parallel(n_jobs=2)]: Done 243 tasks      | elapsed:    3.5s\n",
            "[Parallel(n_jobs=2)]: Done 244 tasks      | elapsed:    3.5s\n",
            "[Parallel(n_jobs=2)]: Done 245 tasks      | elapsed:    3.5s\n",
            "[Parallel(n_jobs=2)]: Done 246 tasks      | elapsed:    3.5s\n",
            "[Parallel(n_jobs=2)]: Done 247 tasks      | elapsed:    3.6s\n",
            "[Parallel(n_jobs=2)]: Done 250 out of 250 | elapsed:    3.6s finished\n"
          ]
        },
        {
          "output_type": "stream",
          "name": "stdout",
          "text": [
            "              precision    recall  f1-score   support\n",
            "\n",
            "           0       0.60      0.58      0.59      2504\n",
            "           1       0.97      0.97      0.97     37644\n",
            "\n",
            "    accuracy                           0.95     40148\n",
            "   macro avg       0.79      0.78      0.78     40148\n",
            "weighted avg       0.95      0.95      0.95     40148\n",
            "\n"
          ]
        }
      ],
      "source": [
        " y_predfrst = forest.predict(X_test)\n",
        "print(classification_report(y_test, y_predfrst))"
      ]
    },
    {
      "cell_type": "code",
      "execution_count": null,
      "metadata": {
        "colab": {
          "base_uri": "https://localhost:8080/"
        },
        "id": "qy7BlZggKAz6",
        "outputId": "572775eb-7165-41b2-94cf-86aa0fda5012"
      },
      "outputs": [
        {
          "output_type": "stream",
          "name": "stdout",
          "text": [
            "Elapsed time to compute the importances: 0.266 seconds\n"
          ]
        }
      ],
      "source": [
        "import time\n",
        "import numpy as np\n",
        "\n",
        "start_time = time.time()\n",
        "importances = forest.feature_importances_\n",
        "std = np.std([tree.feature_importances_ for tree in forest.estimators_], axis=0)\n",
        "elapsed_time = time.time() - start_time\n",
        "\n",
        "print(f\"Elapsed time to compute the importances: {elapsed_time:.3f} seconds\")"
      ]
    },
    {
      "cell_type": "code",
      "execution_count": null,
      "metadata": {
        "colab": {
          "base_uri": "https://localhost:8080/",
          "height": 369
        },
        "id": "nZaooTMCKLBM",
        "outputId": "fd946529-13e2-4038-a4ce-fb4229cb3fd1"
      },
      "outputs": [
        {
          "output_type": "display_data",
          "data": {
            "image/png": "[encoded data removed]",
            "text/plain": [
              "<Figure size 1080x360 with 1 Axes>"
            ]
          },
          "metadata": {
            "needs_background": "light"
          }
        }
      ],
      "source": [
        "import pandas as pd\n",
        "\n",
        "forest_importances = pd.Series(importances, index=X_train.columns)\n",
        "\n",
        "fig, ax = plt.subplots(figsize = (15,5))\n",
        "forest_importances.plot.bar(yerr=std, ax=ax)\n",
        "ax.set_title(\"Feature importances using MDI\")\n",
        "ax.set_ylabel(\"Mean decrease in impurity\")\n",
        "fig.tight_layout()"
      ]
    },
    {
      "cell_type": "code",
      "execution_count": null,
      "metadata": {
        "id": "X114Qv7-B3aN"
      },
      "outputs": [],
      "source": [
        " xgb = XGBClassifier(n_estimators=500, booster=\"gbtree\", n_jobs=-1, subsample=0.7, random_state=42, tree_method=\"gpu_hist\", gpu_id=0)\n",
        " xgb.fit(X_train, y_train)"
      ]
    },
    {
      "cell_type": "code",
      "execution_count": null,
      "metadata": {
        "colab": {
          "base_uri": "https://localhost:8080/"
        },
        "id": "jIETHFdCHrLL",
        "outputId": "57104af1-a312-4762-8e0d-70caaf740f25"
      },
      "outputs": [
        {
          "output_type": "stream",
          "name": "stdout",
          "text": [
            "              precision    recall  f1-score   support\n",
            "\n",
            "           0       0.68      0.37      0.48      2504\n",
            "           1       0.96      0.99      0.97     37644\n",
            "\n",
            "    accuracy                           0.95     40148\n",
            "   macro avg       0.82      0.68      0.73     40148\n",
            "weighted avg       0.94      0.95      0.94     40148\n",
            "\n"
          ]
        }
      ],
      "source": [
        "ypredxgb = xgb.predict(X_test)\n",
        "print(classification_report(y_test, y_predxgb))"
      ]
    },
    {
      "cell_type": "code",
      "execution_count": null,
      "metadata": {
        "colab": {
          "base_uri": "https://localhost:8080/"
        },
        "id": "mDLouWzcH5Yb",
        "outputId": "af01cce9-c76b-484a-ce8b-9340d8d55f3b"
      },
      "outputs": [
        {
          "output_type": "stream",
          "name": "stdout",
          "text": [
            "100%|██████████| 24/24 [50:57<00:00, 127.40s/it, best loss: 0.048365700774716025]\n",
            "It takes 50.95863757133484 minutes\n"
          ]
        }
      ],
      "source": [
        "import time\n",
        "start = time.time()\n",
        "\n",
        "space_lr = {'max_depth': hp.quniform('max_depth', 3, 10,1),\n",
        "            'max_features': hp.uniform('max_features', 0.8, 1),\n",
        "            'learning_rate': hp.uniform('learning_rate',0.01, 1),\n",
        "            'n_estimators': hp.quniform('n_estimators', 80,150,5),\n",
        "            'subsample': hp.uniform('subsample',0.8, 1),\n",
        "            \"tree_method\":\"gpu_hist\",\n",
        "            \"gpu_id\":0}\n",
        "acc_score = make_scorer(accuracy_score) \n",
        "def xgb_h2o_(params):\n",
        "    params = {'max_depth': int(params['max_depth']),\n",
        "              'max_features': params['max_features'],\n",
        "              'learning_rate': params['learning_rate'],\n",
        "              'n_estimators': int(params['n_estimators']),\n",
        "              'subsample': params['subsample']}\n",
        "    xgb_h2o = XGBClassifier(random_state=42, **params)\n",
        "    best_score = cross_val_score(xgb_h2o, X_train, y_train, scoring=acc_score, cv=5).mean()\n",
        "    return 1 - best_score\n",
        "xgb_best_param = fmin(fn=xgb_h2o_,\n",
        "                space=space_lr,\n",
        "                max_evals=24,\n",
        "                rstate=np.random.RandomState(42),\n",
        "                algo=tpe.suggest)\n",
        "print('It takes %s minutes' % ((time.time() - start)/60))"
      ]
    },
    {
      "cell_type": "code",
      "execution_count": null,
      "metadata": {
        "id": "WTfG5wQMtQQR"
      },
      "outputs": [],
      "source": [
        "import copy\n",
        "\n",
        "best_params = copy.copy(xgb_best_param)\n",
        "best_params['max_depth'] = int(best_params['max_depth'])\n",
        "best_params['n_estimators'] = int(best_params['n_estimators'])"
      ]
    },
    {
      "cell_type": "code",
      "execution_count": null,
      "metadata": {
        "colab": {
          "base_uri": "https://localhost:8080/"
        },
        "id": "zga9JEtqm2B2",
        "outputId": "4d0fafe3-ee53-432d-a103-1cd2c5785c4f"
      },
      "outputs": [
        {
          "output_type": "execute_result",
          "data": {
            "text/plain": [
              "XGBClassifier(gpu_id=0, learning_rate=0.36205847620837145, max_depth=10,\n",
              "              max_features=0.8867347237550754, n_estimators=115, n_jobs=-1,\n",
              "              random_state=42, subsample=0.9982582858157947,\n",
              "              tree_method='gpu_hist')"
            ]
          },
          "metadata": {},
          "execution_count": 108
        }
      ],
      "source": [
        " xgb_best = XGBClassifier(**best_params, booster=\"gbtree\", n_jobs=-1, random_state=42, tree_method=\"gpu_hist\", gpu_id=0)\n",
        " xgb_best.fit(X_train, y_train)"
      ]
    },
    {
      "cell_type": "markdown",
      "source": [
        "Aprés avoir entrainé le modele, on l'alimente avec les données de test et on a obtenue des métriques ci-dessous."
      ],
      "metadata": {
        "id": "KrfTta1G3sLO"
      }
    },
    {
      "cell_type": "code",
      "execution_count": null,
      "metadata": {
        "colab": {
          "base_uri": "https://localhost:8080/"
        },
        "id": "8xhhF9VItxKO",
        "outputId": "07c014b2-ac96-4226-e90a-9d150280965b"
      },
      "outputs": [
        {
          "output_type": "stream",
          "name": "stdout",
          "text": [
            "              precision    recall  f1-score   support\n",
            "\n",
            "           0       0.70      0.46      0.56      2504\n",
            "           1       0.97      0.99      0.98     37644\n",
            "\n",
            "    accuracy                           0.95     40148\n",
            "   macro avg       0.83      0.72      0.77     40148\n",
            "weighted avg       0.95      0.95      0.95     40148\n",
            "\n"
          ]
        }
      ],
      "source": [
        "y_xgb_best = xgb_best.predict(X_test)\n",
        "print(classification_report(y_test, y_xgb_best))"
      ]
    },
    {
      "cell_type": "code",
      "source": [
        "votemodel = VotingClassifier(\n",
        "    estimators = [('rf', forest), ('xgb', xgb_best)],\n",
        "    voting = 'soft'\n",
        "\n",
        ")\n",
        "votemodel.fit(X_train, y_train)\n",
        "votingpred = votemodel.predict(X_test)\n",
        "print(classification_report(y_test, votingpred))"
      ],
      "metadata": {
        "colab": {
          "base_uri": "https://localhost:8080/"
        },
        "id": "JADzvBwaHvct",
        "outputId": "91920cac-2f00-4f81-e79b-bea9c771ea26"
      },
      "execution_count": null,
      "outputs": [
        {
          "output_type": "stream",
          "name": "stderr",
          "text": [
            "[Parallel(n_jobs=-1)]: Using backend LokyBackend with 2 concurrent workers.\n",
            "[Parallel(n_jobs=-1)]: Done   1 tasks      | elapsed:    2.4s\n",
            "[Parallel(n_jobs=-1)]: Done   2 tasks      | elapsed:    2.4s\n",
            "[Parallel(n_jobs=-1)]: Done   3 tasks      | elapsed:    3.0s\n",
            "[Parallel(n_jobs=-1)]: Done   4 tasks      | elapsed:    3.1s\n",
            "[Parallel(n_jobs=-1)]: Done   5 tasks      | elapsed:    3.6s\n",
            "[Parallel(n_jobs=-1)]: Done   6 tasks      | elapsed:    3.6s\n",
            "[Parallel(n_jobs=-1)]: Done   7 tasks      | elapsed:    4.1s\n",
            "[Parallel(n_jobs=-1)]: Done   8 tasks      | elapsed:    4.3s\n",
            "[Parallel(n_jobs=-1)]: Done   9 tasks      | elapsed:    4.7s\n",
            "[Parallel(n_jobs=-1)]: Done  10 tasks      | elapsed:    4.8s\n",
            "[Parallel(n_jobs=-1)]: Done  11 tasks      | elapsed:    5.5s\n",
            "[Parallel(n_jobs=-1)]: Done  12 tasks      | elapsed:    5.6s\n",
            "[Parallel(n_jobs=-1)]: Done  13 tasks      | elapsed:    6.1s\n",
            "[Parallel(n_jobs=-1)]: Done  14 tasks      | elapsed:    6.1s\n",
            "[Parallel(n_jobs=-1)]: Done  15 tasks      | elapsed:    6.7s\n",
            "[Parallel(n_jobs=-1)]: Done  16 tasks      | elapsed:    6.7s\n",
            "[Parallel(n_jobs=-1)]: Done  17 tasks      | elapsed:    7.3s\n",
            "[Parallel(n_jobs=-1)]: Done  18 tasks      | elapsed:    7.4s\n",
            "[Parallel(n_jobs=-1)]: Done  19 tasks      | elapsed:    8.0s\n",
            "[Parallel(n_jobs=-1)]: Done  20 tasks      | elapsed:    8.1s\n",
            "[Parallel(n_jobs=-1)]: Done  21 tasks      | elapsed:    8.8s\n",
            "[Parallel(n_jobs=-1)]: Done  22 tasks      | elapsed:    9.0s\n",
            "[Parallel(n_jobs=-1)]: Done  23 tasks      | elapsed:    9.9s\n",
            "[Parallel(n_jobs=-1)]: Done  24 tasks      | elapsed:   10.0s\n",
            "[Parallel(n_jobs=-1)]: Done  25 tasks      | elapsed:   10.4s\n",
            "[Parallel(n_jobs=-1)]: Done  26 tasks      | elapsed:   10.7s\n",
            "[Parallel(n_jobs=-1)]: Done  27 tasks      | elapsed:   11.0s\n",
            "[Parallel(n_jobs=-1)]: Done  28 tasks      | elapsed:   11.4s\n",
            "[Parallel(n_jobs=-1)]: Done  29 tasks      | elapsed:   11.7s\n",
            "[Parallel(n_jobs=-1)]: Done  30 tasks      | elapsed:   12.1s\n",
            "[Parallel(n_jobs=-1)]: Done  31 tasks      | elapsed:   12.5s\n",
            "[Parallel(n_jobs=-1)]: Done  32 tasks      | elapsed:   12.7s\n",
            "[Parallel(n_jobs=-1)]: Done  33 tasks      | elapsed:   13.3s\n",
            "[Parallel(n_jobs=-1)]: Done  34 tasks      | elapsed:   13.4s\n",
            "[Parallel(n_jobs=-1)]: Done  35 tasks      | elapsed:   13.7s\n",
            "[Parallel(n_jobs=-1)]: Done  36 tasks      | elapsed:   13.9s\n",
            "[Parallel(n_jobs=-1)]: Done  37 tasks      | elapsed:   14.0s\n",
            "[Parallel(n_jobs=-1)]: Done  38 tasks      | elapsed:   14.3s\n",
            "[Parallel(n_jobs=-1)]: Done  39 tasks      | elapsed:   14.4s\n",
            "[Parallel(n_jobs=-1)]: Done  40 tasks      | elapsed:   14.7s\n",
            "[Parallel(n_jobs=-1)]: Done  41 tasks      | elapsed:   14.8s\n",
            "[Parallel(n_jobs=-1)]: Done  42 tasks      | elapsed:   15.1s\n",
            "[Parallel(n_jobs=-1)]: Done  43 tasks      | elapsed:   15.2s\n",
            "[Parallel(n_jobs=-1)]: Done  44 tasks      | elapsed:   15.5s\n",
            "[Parallel(n_jobs=-1)]: Done  45 tasks      | elapsed:   15.6s\n",
            "[Parallel(n_jobs=-1)]: Done  46 tasks      | elapsed:   15.9s\n",
            "[Parallel(n_jobs=-1)]: Done  47 tasks      | elapsed:   16.0s\n",
            "[Parallel(n_jobs=-1)]: Done  48 tasks      | elapsed:   16.3s\n",
            "[Parallel(n_jobs=-1)]: Done  49 tasks      | elapsed:   16.4s\n",
            "[Parallel(n_jobs=-1)]: Done  50 tasks      | elapsed:   16.8s\n",
            "[Parallel(n_jobs=-1)]: Done  51 tasks      | elapsed:   16.8s\n",
            "[Parallel(n_jobs=-1)]: Done  52 tasks      | elapsed:   17.1s\n",
            "[Parallel(n_jobs=-1)]: Done  53 tasks      | elapsed:   17.1s\n",
            "[Parallel(n_jobs=-1)]: Done  54 tasks      | elapsed:   17.5s\n",
            "[Parallel(n_jobs=-1)]: Done  55 tasks      | elapsed:   17.5s\n",
            "[Parallel(n_jobs=-1)]: Done  56 tasks      | elapsed:   17.9s\n",
            "[Parallel(n_jobs=-1)]: Done  57 tasks      | elapsed:   17.9s\n",
            "[Parallel(n_jobs=-1)]: Done  58 tasks      | elapsed:   18.4s\n",
            "[Parallel(n_jobs=-1)]: Done  59 tasks      | elapsed:   18.4s\n",
            "[Parallel(n_jobs=-1)]: Done  60 tasks      | elapsed:   18.7s\n",
            "[Parallel(n_jobs=-1)]: Done  61 tasks      | elapsed:   18.8s\n",
            "[Parallel(n_jobs=-1)]: Done  62 tasks      | elapsed:   19.1s\n",
            "[Parallel(n_jobs=-1)]: Done  63 tasks      | elapsed:   19.2s\n",
            "[Parallel(n_jobs=-1)]: Done  64 tasks      | elapsed:   19.5s\n",
            "[Parallel(n_jobs=-1)]: Done  65 tasks      | elapsed:   19.5s\n",
            "[Parallel(n_jobs=-1)]: Done  66 tasks      | elapsed:   20.0s\n",
            "[Parallel(n_jobs=-1)]: Done  67 tasks      | elapsed:   20.0s\n",
            "[Parallel(n_jobs=-1)]: Done  68 tasks      | elapsed:   20.3s\n",
            "[Parallel(n_jobs=-1)]: Done  69 tasks      | elapsed:   20.4s\n",
            "[Parallel(n_jobs=-1)]: Done  70 tasks      | elapsed:   20.8s\n",
            "[Parallel(n_jobs=-1)]: Done  71 tasks      | elapsed:   20.8s\n",
            "[Parallel(n_jobs=-1)]: Done  72 tasks      | elapsed:   21.1s\n",
            "[Parallel(n_jobs=-1)]: Done  73 tasks      | elapsed:   21.2s\n",
            "[Parallel(n_jobs=-1)]: Done  74 tasks      | elapsed:   21.5s\n",
            "[Parallel(n_jobs=-1)]: Done  75 tasks      | elapsed:   21.6s\n",
            "[Parallel(n_jobs=-1)]: Done  76 tasks      | elapsed:   21.9s\n",
            "[Parallel(n_jobs=-1)]: Done  77 tasks      | elapsed:   22.0s\n",
            "[Parallel(n_jobs=-1)]: Done  78 tasks      | elapsed:   22.3s\n",
            "[Parallel(n_jobs=-1)]: Done  79 tasks      | elapsed:   22.4s\n",
            "[Parallel(n_jobs=-1)]: Done  80 tasks      | elapsed:   22.7s\n",
            "[Parallel(n_jobs=-1)]: Done  81 tasks      | elapsed:   22.8s\n",
            "[Parallel(n_jobs=-1)]: Done  82 tasks      | elapsed:   23.1s\n",
            "[Parallel(n_jobs=-1)]: Done  83 tasks      | elapsed:   23.2s\n",
            "[Parallel(n_jobs=-1)]: Done  84 tasks      | elapsed:   23.5s\n",
            "[Parallel(n_jobs=-1)]: Done  85 tasks      | elapsed:   23.6s\n",
            "[Parallel(n_jobs=-1)]: Done  86 tasks      | elapsed:   23.9s\n",
            "[Parallel(n_jobs=-1)]: Done  87 tasks      | elapsed:   24.0s\n",
            "[Parallel(n_jobs=-1)]: Done  88 tasks      | elapsed:   24.3s\n",
            "[Parallel(n_jobs=-1)]: Done  89 tasks      | elapsed:   24.4s\n",
            "[Parallel(n_jobs=-1)]: Done  90 tasks      | elapsed:   24.7s\n",
            "[Parallel(n_jobs=-1)]: Done  91 tasks      | elapsed:   24.9s\n",
            "[Parallel(n_jobs=-1)]: Done  92 tasks      | elapsed:   25.0s\n",
            "[Parallel(n_jobs=-1)]: Done  93 tasks      | elapsed:   25.3s\n",
            "[Parallel(n_jobs=-1)]: Done  94 tasks      | elapsed:   25.4s\n",
            "[Parallel(n_jobs=-1)]: Done  95 tasks      | elapsed:   25.7s\n",
            "[Parallel(n_jobs=-1)]: Done  96 tasks      | elapsed:   25.8s\n",
            "[Parallel(n_jobs=-1)]: Done  97 tasks      | elapsed:   26.1s\n",
            "[Parallel(n_jobs=-1)]: Done  98 tasks      | elapsed:   26.2s\n",
            "[Parallel(n_jobs=-1)]: Done  99 tasks      | elapsed:   26.5s\n",
            "[Parallel(n_jobs=-1)]: Done 100 tasks      | elapsed:   26.6s\n",
            "[Parallel(n_jobs=-1)]: Done 101 tasks      | elapsed:   26.9s\n",
            "[Parallel(n_jobs=-1)]: Done 102 tasks      | elapsed:   27.0s\n",
            "[Parallel(n_jobs=-1)]: Done 103 tasks      | elapsed:   27.2s\n",
            "[Parallel(n_jobs=-1)]: Done 104 tasks      | elapsed:   27.4s\n",
            "[Parallel(n_jobs=-1)]: Done 105 tasks      | elapsed:   27.6s\n",
            "[Parallel(n_jobs=-1)]: Done 106 tasks      | elapsed:   27.8s\n",
            "[Parallel(n_jobs=-1)]: Done 107 tasks      | elapsed:   28.1s\n",
            "[Parallel(n_jobs=-1)]: Done 108 tasks      | elapsed:   28.2s\n",
            "[Parallel(n_jobs=-1)]: Done 109 tasks      | elapsed:   28.4s\n",
            "[Parallel(n_jobs=-1)]: Done 110 tasks      | elapsed:   28.7s\n",
            "[Parallel(n_jobs=-1)]: Done 111 tasks      | elapsed:   28.8s\n",
            "[Parallel(n_jobs=-1)]: Done 112 tasks      | elapsed:   29.1s\n",
            "[Parallel(n_jobs=-1)]: Done 113 tasks      | elapsed:   29.2s\n",
            "[Parallel(n_jobs=-1)]: Done 114 tasks      | elapsed:   29.4s\n",
            "[Parallel(n_jobs=-1)]: Done 115 tasks      | elapsed:   29.6s\n",
            "[Parallel(n_jobs=-1)]: Done 116 tasks      | elapsed:   29.9s\n",
            "[Parallel(n_jobs=-1)]: Done 117 tasks      | elapsed:   30.0s\n",
            "[Parallel(n_jobs=-1)]: Done 118 tasks      | elapsed:   30.3s\n",
            "[Parallel(n_jobs=-1)]: Done 119 tasks      | elapsed:   30.4s\n",
            "[Parallel(n_jobs=-1)]: Done 120 tasks      | elapsed:   30.7s\n",
            "[Parallel(n_jobs=-1)]: Done 121 tasks      | elapsed:   30.8s\n",
            "[Parallel(n_jobs=-1)]: Done 122 tasks      | elapsed:   31.1s\n",
            "[Parallel(n_jobs=-1)]: Done 123 tasks      | elapsed:   31.3s\n",
            "[Parallel(n_jobs=-1)]: Done 124 tasks      | elapsed:   31.5s\n",
            "[Parallel(n_jobs=-1)]: Done 125 tasks      | elapsed:   31.7s\n",
            "[Parallel(n_jobs=-1)]: Done 126 tasks      | elapsed:   31.8s\n",
            "[Parallel(n_jobs=-1)]: Done 127 tasks      | elapsed:   32.1s\n",
            "[Parallel(n_jobs=-1)]: Done 128 tasks      | elapsed:   32.2s\n",
            "[Parallel(n_jobs=-1)]: Done 129 tasks      | elapsed:   32.5s\n",
            "[Parallel(n_jobs=-1)]: Done 130 tasks      | elapsed:   32.6s\n",
            "[Parallel(n_jobs=-1)]: Done 131 tasks      | elapsed:   32.9s\n",
            "[Parallel(n_jobs=-1)]: Done 132 tasks      | elapsed:   33.0s\n",
            "[Parallel(n_jobs=-1)]: Done 133 tasks      | elapsed:   33.2s\n",
            "[Parallel(n_jobs=-1)]: Done 134 tasks      | elapsed:   33.4s\n",
            "[Parallel(n_jobs=-1)]: Done 135 tasks      | elapsed:   33.6s\n",
            "[Parallel(n_jobs=-1)]: Done 136 tasks      | elapsed:   33.8s\n",
            "[Parallel(n_jobs=-1)]: Done 137 tasks      | elapsed:   34.0s\n",
            "[Parallel(n_jobs=-1)]: Done 138 tasks      | elapsed:   34.2s\n",
            "[Parallel(n_jobs=-1)]: Done 139 tasks      | elapsed:   34.4s\n",
            "[Parallel(n_jobs=-1)]: Done 140 tasks      | elapsed:   34.6s\n",
            "[Parallel(n_jobs=-1)]: Done 141 tasks      | elapsed:   34.8s\n",
            "[Parallel(n_jobs=-1)]: Done 142 tasks      | elapsed:   35.0s\n",
            "[Parallel(n_jobs=-1)]: Done 143 tasks      | elapsed:   35.2s\n",
            "[Parallel(n_jobs=-1)]: Done 144 tasks      | elapsed:   35.4s\n",
            "[Parallel(n_jobs=-1)]: Done 145 tasks      | elapsed:   35.6s\n",
            "[Parallel(n_jobs=-1)]: Done 146 tasks      | elapsed:   35.8s\n",
            "[Parallel(n_jobs=-1)]: Done 147 tasks      | elapsed:   35.9s\n",
            "[Parallel(n_jobs=-1)]: Done 148 tasks      | elapsed:   36.2s\n",
            "[Parallel(n_jobs=-1)]: Done 149 tasks      | elapsed:   36.3s\n",
            "[Parallel(n_jobs=-1)]: Done 150 tasks      | elapsed:   36.6s\n",
            "[Parallel(n_jobs=-1)]: Done 151 tasks      | elapsed:   36.7s\n",
            "[Parallel(n_jobs=-1)]: Done 152 tasks      | elapsed:   36.9s\n",
            "[Parallel(n_jobs=-1)]: Done 153 tasks      | elapsed:   37.1s\n",
            "[Parallel(n_jobs=-1)]: Done 154 tasks      | elapsed:   37.3s\n",
            "[Parallel(n_jobs=-1)]: Done 155 tasks      | elapsed:   37.5s\n",
            "[Parallel(n_jobs=-1)]: Done 156 tasks      | elapsed:   37.7s\n",
            "[Parallel(n_jobs=-1)]: Done 157 tasks      | elapsed:   37.9s\n",
            "[Parallel(n_jobs=-1)]: Done 158 tasks      | elapsed:   38.0s\n",
            "[Parallel(n_jobs=-1)]: Done 159 tasks      | elapsed:   38.3s\n",
            "[Parallel(n_jobs=-1)]: Done 160 tasks      | elapsed:   38.4s\n",
            "[Parallel(n_jobs=-1)]: Done 161 tasks      | elapsed:   38.7s\n",
            "[Parallel(n_jobs=-1)]: Done 162 tasks      | elapsed:   38.8s\n",
            "[Parallel(n_jobs=-1)]: Done 163 tasks      | elapsed:   39.1s\n",
            "[Parallel(n_jobs=-1)]: Done 164 tasks      | elapsed:   39.2s\n",
            "[Parallel(n_jobs=-1)]: Done 165 tasks      | elapsed:   39.5s\n",
            "[Parallel(n_jobs=-1)]: Done 166 tasks      | elapsed:   39.6s\n",
            "[Parallel(n_jobs=-1)]: Done 167 tasks      | elapsed:   39.9s\n",
            "[Parallel(n_jobs=-1)]: Done 168 tasks      | elapsed:   40.0s\n",
            "[Parallel(n_jobs=-1)]: Done 169 tasks      | elapsed:   40.3s\n",
            "[Parallel(n_jobs=-1)]: Done 170 tasks      | elapsed:   40.4s\n",
            "[Parallel(n_jobs=-1)]: Done 171 tasks      | elapsed:   40.7s\n",
            "[Parallel(n_jobs=-1)]: Done 172 tasks      | elapsed:   40.8s\n",
            "[Parallel(n_jobs=-1)]: Done 173 tasks      | elapsed:   41.1s\n",
            "[Parallel(n_jobs=-1)]: Done 174 tasks      | elapsed:   41.1s\n",
            "[Parallel(n_jobs=-1)]: Done 175 tasks      | elapsed:   41.5s\n",
            "[Parallel(n_jobs=-1)]: Done 176 tasks      | elapsed:   41.5s\n",
            "[Parallel(n_jobs=-1)]: Done 177 tasks      | elapsed:   41.9s\n",
            "[Parallel(n_jobs=-1)]: Done 178 tasks      | elapsed:   42.0s\n",
            "[Parallel(n_jobs=-1)]: Done 179 tasks      | elapsed:   42.3s\n",
            "[Parallel(n_jobs=-1)]: Done 180 tasks      | elapsed:   42.4s\n",
            "[Parallel(n_jobs=-1)]: Done 181 tasks      | elapsed:   42.7s\n",
            "[Parallel(n_jobs=-1)]: Done 182 tasks      | elapsed:   42.7s\n",
            "[Parallel(n_jobs=-1)]: Done 183 tasks      | elapsed:   43.1s\n",
            "[Parallel(n_jobs=-1)]: Done 184 tasks      | elapsed:   43.1s\n",
            "[Parallel(n_jobs=-1)]: Done 185 tasks      | elapsed:   43.5s\n",
            "[Parallel(n_jobs=-1)]: Done 186 tasks      | elapsed:   43.6s\n",
            "[Parallel(n_jobs=-1)]: Done 187 tasks      | elapsed:   43.9s\n",
            "[Parallel(n_jobs=-1)]: Done 188 tasks      | elapsed:   44.0s\n",
            "[Parallel(n_jobs=-1)]: Done 189 tasks      | elapsed:   44.3s\n",
            "[Parallel(n_jobs=-1)]: Done 190 tasks      | elapsed:   44.4s\n",
            "[Parallel(n_jobs=-1)]: Done 191 tasks      | elapsed:   44.8s\n",
            "[Parallel(n_jobs=-1)]: Done 192 tasks      | elapsed:   44.8s\n",
            "[Parallel(n_jobs=-1)]: Done 193 tasks      | elapsed:   45.2s\n",
            "[Parallel(n_jobs=-1)]: Done 194 tasks      | elapsed:   45.2s\n",
            "[Parallel(n_jobs=-1)]: Done 195 tasks      | elapsed:   45.6s\n",
            "[Parallel(n_jobs=-1)]: Done 196 tasks      | elapsed:   45.6s\n",
            "[Parallel(n_jobs=-1)]: Done 197 tasks      | elapsed:   46.0s\n",
            "[Parallel(n_jobs=-1)]: Done 198 tasks      | elapsed:   46.0s\n",
            "[Parallel(n_jobs=-1)]: Done 199 tasks      | elapsed:   46.4s\n",
            "[Parallel(n_jobs=-1)]: Done 200 tasks      | elapsed:   46.4s\n",
            "[Parallel(n_jobs=-1)]: Done 201 tasks      | elapsed:   46.7s\n",
            "[Parallel(n_jobs=-1)]: Done 202 tasks      | elapsed:   46.8s\n",
            "[Parallel(n_jobs=-1)]: Done 203 tasks      | elapsed:   47.2s\n",
            "[Parallel(n_jobs=-1)]: Done 204 tasks      | elapsed:   47.2s\n",
            "[Parallel(n_jobs=-1)]: Done 205 tasks      | elapsed:   47.6s\n",
            "[Parallel(n_jobs=-1)]: Done 206 tasks      | elapsed:   47.6s\n",
            "[Parallel(n_jobs=-1)]: Done 207 tasks      | elapsed:   48.0s\n",
            "[Parallel(n_jobs=-1)]: Done 208 tasks      | elapsed:   48.0s\n",
            "[Parallel(n_jobs=-1)]: Done 209 tasks      | elapsed:   48.4s\n",
            "[Parallel(n_jobs=-1)]: Done 210 tasks      | elapsed:   48.4s\n",
            "[Parallel(n_jobs=-1)]: Done 211 tasks      | elapsed:   48.8s\n",
            "[Parallel(n_jobs=-1)]: Done 212 tasks      | elapsed:   48.8s\n",
            "[Parallel(n_jobs=-1)]: Done 213 tasks      | elapsed:   49.2s\n",
            "[Parallel(n_jobs=-1)]: Done 214 tasks      | elapsed:   49.2s\n",
            "[Parallel(n_jobs=-1)]: Done 215 tasks      | elapsed:   49.6s\n",
            "[Parallel(n_jobs=-1)]: Done 216 tasks      | elapsed:   49.6s\n",
            "[Parallel(n_jobs=-1)]: Done 217 tasks      | elapsed:   49.9s\n",
            "[Parallel(n_jobs=-1)]: Done 218 tasks      | elapsed:   50.0s\n",
            "[Parallel(n_jobs=-1)]: Done 219 tasks      | elapsed:   50.3s\n",
            "[Parallel(n_jobs=-1)]: Done 220 tasks      | elapsed:   50.4s\n",
            "[Parallel(n_jobs=-1)]: Done 221 tasks      | elapsed:   50.7s\n",
            "[Parallel(n_jobs=-1)]: Done 222 tasks      | elapsed:   50.9s\n",
            "[Parallel(n_jobs=-1)]: Done 223 tasks      | elapsed:   51.1s\n",
            "[Parallel(n_jobs=-1)]: Done 224 tasks      | elapsed:   51.3s\n",
            "[Parallel(n_jobs=-1)]: Done 225 tasks      | elapsed:   51.5s\n",
            "[Parallel(n_jobs=-1)]: Done 226 tasks      | elapsed:   51.7s\n",
            "[Parallel(n_jobs=-1)]: Done 227 tasks      | elapsed:   51.9s\n",
            "[Parallel(n_jobs=-1)]: Done 228 tasks      | elapsed:   52.1s\n",
            "[Parallel(n_jobs=-1)]: Done 229 tasks      | elapsed:   52.4s\n",
            "[Parallel(n_jobs=-1)]: Done 230 tasks      | elapsed:   52.6s\n",
            "[Parallel(n_jobs=-1)]: Done 231 tasks      | elapsed:   52.8s\n",
            "[Parallel(n_jobs=-1)]: Done 232 tasks      | elapsed:   53.0s\n",
            "[Parallel(n_jobs=-1)]: Done 233 tasks      | elapsed:   53.1s\n",
            "[Parallel(n_jobs=-1)]: Done 234 tasks      | elapsed:   53.4s\n",
            "[Parallel(n_jobs=-1)]: Done 235 tasks      | elapsed:   53.5s\n",
            "[Parallel(n_jobs=-1)]: Done 236 tasks      | elapsed:   53.8s\n",
            "[Parallel(n_jobs=-1)]: Done 237 tasks      | elapsed:   53.9s\n",
            "[Parallel(n_jobs=-1)]: Done 238 tasks      | elapsed:   54.2s\n",
            "[Parallel(n_jobs=-1)]: Done 239 tasks      | elapsed:   54.3s\n",
            "[Parallel(n_jobs=-1)]: Done 240 tasks      | elapsed:   54.6s\n",
            "[Parallel(n_jobs=-1)]: Done 241 tasks      | elapsed:   54.7s\n",
            "[Parallel(n_jobs=-1)]: Done 242 tasks      | elapsed:   55.0s\n",
            "[Parallel(n_jobs=-1)]: Done 243 tasks      | elapsed:   55.1s\n",
            "[Parallel(n_jobs=-1)]: Done 244 tasks      | elapsed:   55.4s\n",
            "[Parallel(n_jobs=-1)]: Done 245 tasks      | elapsed:   55.5s\n",
            "[Parallel(n_jobs=-1)]: Done 246 tasks      | elapsed:   55.8s\n",
            "[Parallel(n_jobs=-1)]: Done 247 tasks      | elapsed:   55.9s\n",
            "[Parallel(n_jobs=-1)]: Done 250 out of 250 | elapsed:   56.5s finished\n",
            "[Parallel(n_jobs=2)]: Using backend ThreadingBackend with 2 concurrent workers.\n",
            "[Parallel(n_jobs=2)]: Done   1 tasks      | elapsed:    0.0s\n",
            "[Parallel(n_jobs=2)]: Done   2 tasks      | elapsed:    0.0s\n",
            "[Parallel(n_jobs=2)]: Done   3 tasks      | elapsed:    0.0s\n",
            "[Parallel(n_jobs=2)]: Done   4 tasks      | elapsed:    0.0s\n",
            "[Parallel(n_jobs=2)]: Done   5 tasks      | elapsed:    0.0s\n",
            "[Parallel(n_jobs=2)]: Done   6 tasks      | elapsed:    0.0s\n",
            "[Parallel(n_jobs=2)]: Done   7 tasks      | elapsed:    0.1s\n",
            "[Parallel(n_jobs=2)]: Done   8 tasks      | elapsed:    0.1s\n",
            "[Parallel(n_jobs=2)]: Done   9 tasks      | elapsed:    0.1s\n",
            "[Parallel(n_jobs=2)]: Done  10 tasks      | elapsed:    0.1s\n",
            "[Parallel(n_jobs=2)]: Done  11 tasks      | elapsed:    0.1s\n",
            "[Parallel(n_jobs=2)]: Done  12 tasks      | elapsed:    0.1s\n",
            "[Parallel(n_jobs=2)]: Done  13 tasks      | elapsed:    0.1s\n",
            "[Parallel(n_jobs=2)]: Done  14 tasks      | elapsed:    0.1s\n",
            "[Parallel(n_jobs=2)]: Done  15 tasks      | elapsed:    0.1s\n",
            "[Parallel(n_jobs=2)]: Done  16 tasks      | elapsed:    0.1s\n",
            "[Parallel(n_jobs=2)]: Done  17 tasks      | elapsed:    0.1s\n",
            "[Parallel(n_jobs=2)]: Done  18 tasks      | elapsed:    0.1s\n",
            "[Parallel(n_jobs=2)]: Done  19 tasks      | elapsed:    0.1s\n",
            "[Parallel(n_jobs=2)]: Done  20 tasks      | elapsed:    0.1s\n",
            "[Parallel(n_jobs=2)]: Done  21 tasks      | elapsed:    0.2s\n",
            "[Parallel(n_jobs=2)]: Done  22 tasks      | elapsed:    0.2s\n",
            "[Parallel(n_jobs=2)]: Done  23 tasks      | elapsed:    0.2s\n",
            "[Parallel(n_jobs=2)]: Done  24 tasks      | elapsed:    0.2s\n",
            "[Parallel(n_jobs=2)]: Done  25 tasks      | elapsed:    0.2s\n",
            "[Parallel(n_jobs=2)]: Done  26 tasks      | elapsed:    0.2s\n",
            "[Parallel(n_jobs=2)]: Done  27 tasks      | elapsed:    0.2s\n",
            "[Parallel(n_jobs=2)]: Done  28 tasks      | elapsed:    0.2s\n",
            "[Parallel(n_jobs=2)]: Done  29 tasks      | elapsed:    0.2s\n",
            "[Parallel(n_jobs=2)]: Done  30 tasks      | elapsed:    0.2s\n",
            "[Parallel(n_jobs=2)]: Done  31 tasks      | elapsed:    0.2s\n",
            "[Parallel(n_jobs=2)]: Done  32 tasks      | elapsed:    0.2s\n",
            "[Parallel(n_jobs=2)]: Done  33 tasks      | elapsed:    0.2s\n",
            "[Parallel(n_jobs=2)]: Done  34 tasks      | elapsed:    0.2s\n",
            "[Parallel(n_jobs=2)]: Done  35 tasks      | elapsed:    0.2s\n",
            "[Parallel(n_jobs=2)]: Done  36 tasks      | elapsed:    0.3s\n",
            "[Parallel(n_jobs=2)]: Done  37 tasks      | elapsed:    0.3s\n",
            "[Parallel(n_jobs=2)]: Done  38 tasks      | elapsed:    0.3s\n",
            "[Parallel(n_jobs=2)]: Done  39 tasks      | elapsed:    0.3s\n",
            "[Parallel(n_jobs=2)]: Done  40 tasks      | elapsed:    0.3s\n",
            "[Parallel(n_jobs=2)]: Done  41 tasks      | elapsed:    0.3s\n",
            "[Parallel(n_jobs=2)]: Done  42 tasks      | elapsed:    0.3s\n",
            "[Parallel(n_jobs=2)]: Done  43 tasks      | elapsed:    0.3s\n",
            "[Parallel(n_jobs=2)]: Done  44 tasks      | elapsed:    0.3s\n",
            "[Parallel(n_jobs=2)]: Done  45 tasks      | elapsed:    0.3s\n",
            "[Parallel(n_jobs=2)]: Done  46 tasks      | elapsed:    0.3s\n",
            "[Parallel(n_jobs=2)]: Done  47 tasks      | elapsed:    0.3s\n",
            "[Parallel(n_jobs=2)]: Done  48 tasks      | elapsed:    0.3s\n",
            "[Parallel(n_jobs=2)]: Done  49 tasks      | elapsed:    0.3s\n",
            "[Parallel(n_jobs=2)]: Done  50 tasks      | elapsed:    0.3s\n",
            "[Parallel(n_jobs=2)]: Done  51 tasks      | elapsed:    0.4s\n",
            "[Parallel(n_jobs=2)]: Done  52 tasks      | elapsed:    0.4s\n",
            "[Parallel(n_jobs=2)]: Done  53 tasks      | elapsed:    0.4s\n",
            "[Parallel(n_jobs=2)]: Done  54 tasks      | elapsed:    0.4s\n",
            "[Parallel(n_jobs=2)]: Done  55 tasks      | elapsed:    0.4s\n",
            "[Parallel(n_jobs=2)]: Done  56 tasks      | elapsed:    0.4s\n",
            "[Parallel(n_jobs=2)]: Done  57 tasks      | elapsed:    0.4s\n",
            "[Parallel(n_jobs=2)]: Done  58 tasks      | elapsed:    0.4s\n",
            "[Parallel(n_jobs=2)]: Done  59 tasks      | elapsed:    0.4s\n",
            "[Parallel(n_jobs=2)]: Done  60 tasks      | elapsed:    0.4s\n",
            "[Parallel(n_jobs=2)]: Done  61 tasks      | elapsed:    0.4s\n",
            "[Parallel(n_jobs=2)]: Done  62 tasks      | elapsed:    0.4s\n",
            "[Parallel(n_jobs=2)]: Done  63 tasks      | elapsed:    0.4s\n",
            "[Parallel(n_jobs=2)]: Done  64 tasks      | elapsed:    0.4s\n",
            "[Parallel(n_jobs=2)]: Done  65 tasks      | elapsed:    0.5s\n",
            "[Parallel(n_jobs=2)]: Done  66 tasks      | elapsed:    0.5s\n",
            "[Parallel(n_jobs=2)]: Done  67 tasks      | elapsed:    0.5s\n",
            "[Parallel(n_jobs=2)]: Done  68 tasks      | elapsed:    0.5s\n",
            "[Parallel(n_jobs=2)]: Done  69 tasks      | elapsed:    0.5s\n",
            "[Parallel(n_jobs=2)]: Done  70 tasks      | elapsed:    0.5s\n",
            "[Parallel(n_jobs=2)]: Done  71 tasks      | elapsed:    0.5s\n",
            "[Parallel(n_jobs=2)]: Done  72 tasks      | elapsed:    0.5s\n",
            "[Parallel(n_jobs=2)]: Done  73 tasks      | elapsed:    0.5s\n",
            "[Parallel(n_jobs=2)]: Done  74 tasks      | elapsed:    0.5s\n",
            "[Parallel(n_jobs=2)]: Done  75 tasks      | elapsed:    0.5s\n",
            "[Parallel(n_jobs=2)]: Done  76 tasks      | elapsed:    0.5s\n",
            "[Parallel(n_jobs=2)]: Done  77 tasks      | elapsed:    0.5s\n",
            "[Parallel(n_jobs=2)]: Done  78 tasks      | elapsed:    0.5s\n",
            "[Parallel(n_jobs=2)]: Done  79 tasks      | elapsed:    0.5s\n",
            "[Parallel(n_jobs=2)]: Done  80 tasks      | elapsed:    0.6s\n",
            "[Parallel(n_jobs=2)]: Done  81 tasks      | elapsed:    0.6s\n",
            "[Parallel(n_jobs=2)]: Done  82 tasks      | elapsed:    0.6s\n",
            "[Parallel(n_jobs=2)]: Done  83 tasks      | elapsed:    0.6s\n",
            "[Parallel(n_jobs=2)]: Done  84 tasks      | elapsed:    0.6s\n",
            "[Parallel(n_jobs=2)]: Done  85 tasks      | elapsed:    0.6s\n",
            "[Parallel(n_jobs=2)]: Done  86 tasks      | elapsed:    0.6s\n",
            "[Parallel(n_jobs=2)]: Done  87 tasks      | elapsed:    0.6s\n",
            "[Parallel(n_jobs=2)]: Done  88 tasks      | elapsed:    0.6s\n",
            "[Parallel(n_jobs=2)]: Done  89 tasks      | elapsed:    0.6s\n",
            "[Parallel(n_jobs=2)]: Done  90 tasks      | elapsed:    0.6s\n",
            "[Parallel(n_jobs=2)]: Done  91 tasks      | elapsed:    0.6s\n",
            "[Parallel(n_jobs=2)]: Done  92 tasks      | elapsed:    0.6s\n",
            "[Parallel(n_jobs=2)]: Done  93 tasks      | elapsed:    0.6s\n",
            "[Parallel(n_jobs=2)]: Done  94 tasks      | elapsed:    0.6s\n",
            "[Parallel(n_jobs=2)]: Done  95 tasks      | elapsed:    0.7s\n",
            "[Parallel(n_jobs=2)]: Done  96 tasks      | elapsed:    0.7s\n",
            "[Parallel(n_jobs=2)]: Done  97 tasks      | elapsed:    0.7s\n",
            "[Parallel(n_jobs=2)]: Done  98 tasks      | elapsed:    0.7s\n",
            "[Parallel(n_jobs=2)]: Done  99 tasks      | elapsed:    0.7s\n",
            "[Parallel(n_jobs=2)]: Done 100 tasks      | elapsed:    0.7s\n",
            "[Parallel(n_jobs=2)]: Done 101 tasks      | elapsed:    0.7s\n",
            "[Parallel(n_jobs=2)]: Done 102 tasks      | elapsed:    0.7s\n",
            "[Parallel(n_jobs=2)]: Done 103 tasks      | elapsed:    0.7s\n",
            "[Parallel(n_jobs=2)]: Done 104 tasks      | elapsed:    0.7s\n",
            "[Parallel(n_jobs=2)]: Done 105 tasks      | elapsed:    0.7s\n",
            "[Parallel(n_jobs=2)]: Done 106 tasks      | elapsed:    0.7s\n",
            "[Parallel(n_jobs=2)]: Done 107 tasks      | elapsed:    0.7s\n",
            "[Parallel(n_jobs=2)]: Done 108 tasks      | elapsed:    0.7s\n",
            "[Parallel(n_jobs=2)]: Done 109 tasks      | elapsed:    0.7s\n",
            "[Parallel(n_jobs=2)]: Done 110 tasks      | elapsed:    0.8s\n",
            "[Parallel(n_jobs=2)]: Done 111 tasks      | elapsed:    0.8s\n",
            "[Parallel(n_jobs=2)]: Done 112 tasks      | elapsed:    0.8s\n",
            "[Parallel(n_jobs=2)]: Done 113 tasks      | elapsed:    0.8s\n",
            "[Parallel(n_jobs=2)]: Done 114 tasks      | elapsed:    0.8s\n",
            "[Parallel(n_jobs=2)]: Done 115 tasks      | elapsed:    0.8s\n",
            "[Parallel(n_jobs=2)]: Done 116 tasks      | elapsed:    0.8s\n",
            "[Parallel(n_jobs=2)]: Done 117 tasks      | elapsed:    0.8s\n",
            "[Parallel(n_jobs=2)]: Done 118 tasks      | elapsed:    0.8s\n",
            "[Parallel(n_jobs=2)]: Done 119 tasks      | elapsed:    0.8s\n",
            "[Parallel(n_jobs=2)]: Done 120 tasks      | elapsed:    0.8s\n",
            "[Parallel(n_jobs=2)]: Done 121 tasks      | elapsed:    0.8s\n",
            "[Parallel(n_jobs=2)]: Done 122 tasks      | elapsed:    0.8s\n",
            "[Parallel(n_jobs=2)]: Done 123 tasks      | elapsed:    0.8s\n",
            "[Parallel(n_jobs=2)]: Done 124 tasks      | elapsed:    0.9s\n",
            "[Parallel(n_jobs=2)]: Done 125 tasks      | elapsed:    0.9s\n",
            "[Parallel(n_jobs=2)]: Done 126 tasks      | elapsed:    0.9s\n",
            "[Parallel(n_jobs=2)]: Done 127 tasks      | elapsed:    0.9s\n",
            "[Parallel(n_jobs=2)]: Done 128 tasks      | elapsed:    0.9s\n",
            "[Parallel(n_jobs=2)]: Done 129 tasks      | elapsed:    0.9s\n",
            "[Parallel(n_jobs=2)]: Done 130 tasks      | elapsed:    0.9s\n",
            "[Parallel(n_jobs=2)]: Done 131 tasks      | elapsed:    0.9s\n",
            "[Parallel(n_jobs=2)]: Done 132 tasks      | elapsed:    0.9s\n",
            "[Parallel(n_jobs=2)]: Done 133 tasks      | elapsed:    0.9s\n",
            "[Parallel(n_jobs=2)]: Done 134 tasks      | elapsed:    0.9s\n",
            "[Parallel(n_jobs=2)]: Done 135 tasks      | elapsed:    0.9s\n",
            "[Parallel(n_jobs=2)]: Done 136 tasks      | elapsed:    0.9s\n",
            "[Parallel(n_jobs=2)]: Done 137 tasks      | elapsed:    1.0s\n",
            "[Parallel(n_jobs=2)]: Done 138 tasks      | elapsed:    1.0s\n",
            "[Parallel(n_jobs=2)]: Done 139 tasks      | elapsed:    1.0s\n",
            "[Parallel(n_jobs=2)]: Done 140 tasks      | elapsed:    1.0s\n",
            "[Parallel(n_jobs=2)]: Done 141 tasks      | elapsed:    1.0s\n",
            "[Parallel(n_jobs=2)]: Done 142 tasks      | elapsed:    1.0s\n",
            "[Parallel(n_jobs=2)]: Done 143 tasks      | elapsed:    1.0s\n",
            "[Parallel(n_jobs=2)]: Done 144 tasks      | elapsed:    1.0s\n",
            "[Parallel(n_jobs=2)]: Done 145 tasks      | elapsed:    1.0s\n",
            "[Parallel(n_jobs=2)]: Done 146 tasks      | elapsed:    1.0s\n",
            "[Parallel(n_jobs=2)]: Done 147 tasks      | elapsed:    1.0s\n",
            "[Parallel(n_jobs=2)]: Done 148 tasks      | elapsed:    1.0s\n",
            "[Parallel(n_jobs=2)]: Done 149 tasks      | elapsed:    1.0s\n",
            "[Parallel(n_jobs=2)]: Done 150 tasks      | elapsed:    1.0s\n",
            "[Parallel(n_jobs=2)]: Done 151 tasks      | elapsed:    1.1s\n",
            "[Parallel(n_jobs=2)]: Done 152 tasks      | elapsed:    1.1s\n",
            "[Parallel(n_jobs=2)]: Done 153 tasks      | elapsed:    1.1s\n",
            "[Parallel(n_jobs=2)]: Done 154 tasks      | elapsed:    1.1s\n",
            "[Parallel(n_jobs=2)]: Done 155 tasks      | elapsed:    1.1s\n",
            "[Parallel(n_jobs=2)]: Done 156 tasks      | elapsed:    1.1s\n",
            "[Parallel(n_jobs=2)]: Done 157 tasks      | elapsed:    1.1s\n",
            "[Parallel(n_jobs=2)]: Done 158 tasks      | elapsed:    1.1s\n",
            "[Parallel(n_jobs=2)]: Done 159 tasks      | elapsed:    1.1s\n",
            "[Parallel(n_jobs=2)]: Done 160 tasks      | elapsed:    1.1s\n",
            "[Parallel(n_jobs=2)]: Done 161 tasks      | elapsed:    1.1s\n",
            "[Parallel(n_jobs=2)]: Done 162 tasks      | elapsed:    1.1s\n",
            "[Parallel(n_jobs=2)]: Done 163 tasks      | elapsed:    1.1s\n",
            "[Parallel(n_jobs=2)]: Done 164 tasks      | elapsed:    1.1s\n",
            "[Parallel(n_jobs=2)]: Done 165 tasks      | elapsed:    1.1s\n",
            "[Parallel(n_jobs=2)]: Done 166 tasks      | elapsed:    1.2s\n",
            "[Parallel(n_jobs=2)]: Done 167 tasks      | elapsed:    1.2s\n",
            "[Parallel(n_jobs=2)]: Done 168 tasks      | elapsed:    1.2s\n",
            "[Parallel(n_jobs=2)]: Done 169 tasks      | elapsed:    1.2s\n",
            "[Parallel(n_jobs=2)]: Done 170 tasks      | elapsed:    1.2s\n",
            "[Parallel(n_jobs=2)]: Done 171 tasks      | elapsed:    1.2s\n",
            "[Parallel(n_jobs=2)]: Done 172 tasks      | elapsed:    1.2s\n",
            "[Parallel(n_jobs=2)]: Done 173 tasks      | elapsed:    1.2s\n",
            "[Parallel(n_jobs=2)]: Done 174 tasks      | elapsed:    1.2s\n",
            "[Parallel(n_jobs=2)]: Done 175 tasks      | elapsed:    1.2s\n",
            "[Parallel(n_jobs=2)]: Done 176 tasks      | elapsed:    1.2s\n",
            "[Parallel(n_jobs=2)]: Done 177 tasks      | elapsed:    1.2s\n",
            "[Parallel(n_jobs=2)]: Done 178 tasks      | elapsed:    1.2s\n",
            "[Parallel(n_jobs=2)]: Done 179 tasks      | elapsed:    1.2s\n",
            "[Parallel(n_jobs=2)]: Done 180 tasks      | elapsed:    1.3s\n",
            "[Parallel(n_jobs=2)]: Done 181 tasks      | elapsed:    1.3s\n",
            "[Parallel(n_jobs=2)]: Done 182 tasks      | elapsed:    1.3s\n",
            "[Parallel(n_jobs=2)]: Done 183 tasks      | elapsed:    1.3s\n",
            "[Parallel(n_jobs=2)]: Done 184 tasks      | elapsed:    1.3s\n",
            "[Parallel(n_jobs=2)]: Done 185 tasks      | elapsed:    1.3s\n",
            "[Parallel(n_jobs=2)]: Done 186 tasks      | elapsed:    1.3s\n",
            "[Parallel(n_jobs=2)]: Done 187 tasks      | elapsed:    1.3s\n",
            "[Parallel(n_jobs=2)]: Done 188 tasks      | elapsed:    1.3s\n",
            "[Parallel(n_jobs=2)]: Done 189 tasks      | elapsed:    1.3s\n",
            "[Parallel(n_jobs=2)]: Done 190 tasks      | elapsed:    1.3s\n",
            "[Parallel(n_jobs=2)]: Done 191 tasks      | elapsed:    1.3s\n",
            "[Parallel(n_jobs=2)]: Done 192 tasks      | elapsed:    1.3s\n",
            "[Parallel(n_jobs=2)]: Done 193 tasks      | elapsed:    1.3s\n",
            "[Parallel(n_jobs=2)]: Done 194 tasks      | elapsed:    1.3s\n",
            "[Parallel(n_jobs=2)]: Done 195 tasks      | elapsed:    1.4s\n",
            "[Parallel(n_jobs=2)]: Done 196 tasks      | elapsed:    1.4s\n",
            "[Parallel(n_jobs=2)]: Done 197 tasks      | elapsed:    1.4s\n",
            "[Parallel(n_jobs=2)]: Done 198 tasks      | elapsed:    1.4s\n",
            "[Parallel(n_jobs=2)]: Done 199 tasks      | elapsed:    1.4s\n",
            "[Parallel(n_jobs=2)]: Done 200 tasks      | elapsed:    1.4s\n",
            "[Parallel(n_jobs=2)]: Done 201 tasks      | elapsed:    1.4s\n",
            "[Parallel(n_jobs=2)]: Done 202 tasks      | elapsed:    1.4s\n",
            "[Parallel(n_jobs=2)]: Done 203 tasks      | elapsed:    1.4s\n",
            "[Parallel(n_jobs=2)]: Done 204 tasks      | elapsed:    1.4s\n",
            "[Parallel(n_jobs=2)]: Done 205 tasks      | elapsed:    1.4s\n",
            "[Parallel(n_jobs=2)]: Done 206 tasks      | elapsed:    1.4s\n",
            "[Parallel(n_jobs=2)]: Done 207 tasks      | elapsed:    1.4s\n",
            "[Parallel(n_jobs=2)]: Done 208 tasks      | elapsed:    1.4s\n",
            "[Parallel(n_jobs=2)]: Done 209 tasks      | elapsed:    1.4s\n",
            "[Parallel(n_jobs=2)]: Done 210 tasks      | elapsed:    1.5s\n",
            "[Parallel(n_jobs=2)]: Done 211 tasks      | elapsed:    1.5s\n",
            "[Parallel(n_jobs=2)]: Done 212 tasks      | elapsed:    1.5s\n",
            "[Parallel(n_jobs=2)]: Done 213 tasks      | elapsed:    1.5s\n",
            "[Parallel(n_jobs=2)]: Done 214 tasks      | elapsed:    1.5s\n",
            "[Parallel(n_jobs=2)]: Done 215 tasks      | elapsed:    1.5s\n",
            "[Parallel(n_jobs=2)]: Done 216 tasks      | elapsed:    1.5s\n",
            "[Parallel(n_jobs=2)]: Done 217 tasks      | elapsed:    1.5s\n",
            "[Parallel(n_jobs=2)]: Done 218 tasks      | elapsed:    1.5s\n",
            "[Parallel(n_jobs=2)]: Done 219 tasks      | elapsed:    1.5s\n",
            "[Parallel(n_jobs=2)]: Done 220 tasks      | elapsed:    1.5s\n",
            "[Parallel(n_jobs=2)]: Done 221 tasks      | elapsed:    1.5s\n",
            "[Parallel(n_jobs=2)]: Done 222 tasks      | elapsed:    1.5s\n",
            "[Parallel(n_jobs=2)]: Done 223 tasks      | elapsed:    1.6s\n",
            "[Parallel(n_jobs=2)]: Done 224 tasks      | elapsed:    1.6s\n",
            "[Parallel(n_jobs=2)]: Done 225 tasks      | elapsed:    1.6s\n",
            "[Parallel(n_jobs=2)]: Done 226 tasks      | elapsed:    1.6s\n",
            "[Parallel(n_jobs=2)]: Done 227 tasks      | elapsed:    1.6s\n",
            "[Parallel(n_jobs=2)]: Done 228 tasks      | elapsed:    1.6s\n",
            "[Parallel(n_jobs=2)]: Done 229 tasks      | elapsed:    1.6s\n",
            "[Parallel(n_jobs=2)]: Done 230 tasks      | elapsed:    1.6s\n",
            "[Parallel(n_jobs=2)]: Done 231 tasks      | elapsed:    1.6s\n",
            "[Parallel(n_jobs=2)]: Done 232 tasks      | elapsed:    1.6s\n",
            "[Parallel(n_jobs=2)]: Done 233 tasks      | elapsed:    1.6s\n",
            "[Parallel(n_jobs=2)]: Done 234 tasks      | elapsed:    1.6s\n",
            "[Parallel(n_jobs=2)]: Done 235 tasks      | elapsed:    1.6s\n",
            "[Parallel(n_jobs=2)]: Done 236 tasks      | elapsed:    1.6s\n",
            "[Parallel(n_jobs=2)]: Done 237 tasks      | elapsed:    1.6s\n",
            "[Parallel(n_jobs=2)]: Done 238 tasks      | elapsed:    1.6s\n",
            "[Parallel(n_jobs=2)]: Done 239 tasks      | elapsed:    1.7s\n",
            "[Parallel(n_jobs=2)]: Done 240 tasks      | elapsed:    1.7s\n",
            "[Parallel(n_jobs=2)]: Done 241 tasks      | elapsed:    1.7s\n",
            "[Parallel(n_jobs=2)]: Done 242 tasks      | elapsed:    1.7s\n",
            "[Parallel(n_jobs=2)]: Done 243 tasks      | elapsed:    1.7s\n",
            "[Parallel(n_jobs=2)]: Done 244 tasks      | elapsed:    1.7s\n",
            "[Parallel(n_jobs=2)]: Done 245 tasks      | elapsed:    1.7s\n",
            "[Parallel(n_jobs=2)]: Done 246 tasks      | elapsed:    1.7s\n",
            "[Parallel(n_jobs=2)]: Done 247 tasks      | elapsed:    1.7s\n",
            "[Parallel(n_jobs=2)]: Done 250 out of 250 | elapsed:    1.7s finished\n"
          ]
        },
        {
          "output_type": "stream",
          "name": "stdout",
          "text": [
            "              precision    recall  f1-score   support\n",
            "\n",
            "           0       0.60      0.62      0.61      2504\n",
            "           1       0.97      0.97      0.97     37644\n",
            "\n",
            "    accuracy                           0.95     40148\n",
            "   macro avg       0.79      0.80      0.79     40148\n",
            "weighted avg       0.95      0.95      0.95     40148\n",
            "\n"
          ]
        }
      ]
    },
    {
      "cell_type": "code",
      "execution_count": null,
      "metadata": {
        "id": "25tMs2NieG-S"
      },
      "outputs": [],
      "source": [
        "model = Sequential()\n",
        "model.add(Dense(128, input_dim=25, activation='relu'))\n",
        "model.add(Dense(64, activation='relu'))\n",
        "model.add(Dense(1, activation='sigmoid'))"
      ]
    },
    {
      "cell_type": "code",
      "execution_count": null,
      "metadata": {
        "id": "OSra6-z_ee9A"
      },
      "outputs": [],
      "source": [
        "model.compile(loss='binary_crossentropy', optimizer='adam', metrics=['accuracy'])"
      ]
    },
    {
      "cell_type": "code",
      "execution_count": null,
      "metadata": {
        "id": "iebut3KcesUD",
        "colab": {
          "base_uri": "https://localhost:8080/"
        },
        "outputId": "a3fd860a-f5e6-4866-8075-da3ae36f3f5d"
      },
      "outputs": [
        {
          "output_type": "stream",
          "name": "stdout",
          "text": [
            "Epoch 1/150\n",
            "3212/3212 [==============================] - 13s 4ms/step - loss: 0.1313 - accuracy: 0.9543\n",
            "Epoch 2/150\n",
            "3212/3212 [==============================] - 18s 6ms/step - loss: 0.1312 - accuracy: 0.9541\n",
            "Epoch 3/150\n",
            "3212/3212 [==============================] - 22s 7ms/step - loss: 0.1310 - accuracy: 0.9547\n",
            "Epoch 4/150\n",
            "3212/3212 [==============================] - 17s 5ms/step - loss: 0.1309 - accuracy: 0.9544\n",
            "Epoch 5/150\n",
            "3212/3212 [==============================] - 12s 4ms/step - loss: 0.1309 - accuracy: 0.9541\n",
            "Epoch 6/150\n",
            "3212/3212 [==============================] - 12s 4ms/step - loss: 0.1309 - accuracy: 0.9544\n",
            "Epoch 7/150\n",
            "3212/3212 [==============================] - 12s 4ms/step - loss: 0.1308 - accuracy: 0.9543\n",
            "Epoch 8/150\n",
            "3212/3212 [==============================] - 12s 4ms/step - loss: 0.1309 - accuracy: 0.9544\n",
            "Epoch 9/150\n",
            "3212/3212 [==============================] - 12s 4ms/step - loss: 0.1307 - accuracy: 0.9544\n",
            "Epoch 10/150\n",
            "3212/3212 [==============================] - 12s 4ms/step - loss: 0.1307 - accuracy: 0.9545\n",
            "Epoch 11/150\n",
            "3212/3212 [==============================] - 13s 4ms/step - loss: 0.1307 - accuracy: 0.9542\n",
            "Epoch 12/150\n",
            "3212/3212 [==============================] - 12s 4ms/step - loss: 0.1307 - accuracy: 0.9544\n",
            "Epoch 13/150\n",
            "3212/3212 [==============================] - 12s 4ms/step - loss: 0.1306 - accuracy: 0.9543\n",
            "Epoch 14/150\n",
            "3212/3212 [==============================] - 12s 4ms/step - loss: 0.1304 - accuracy: 0.9547\n",
            "Epoch 15/150\n",
            "3212/3212 [==============================] - 12s 4ms/step - loss: 0.1305 - accuracy: 0.9544\n",
            "Epoch 16/150\n",
            "3212/3212 [==============================] - 12s 4ms/step - loss: 0.1301 - accuracy: 0.9548\n",
            "Epoch 17/150\n",
            "3212/3212 [==============================] - 12s 4ms/step - loss: 0.1303 - accuracy: 0.9546\n",
            "Epoch 18/150\n",
            "3212/3212 [==============================] - 12s 4ms/step - loss: 0.1301 - accuracy: 0.9546\n",
            "Epoch 19/150\n",
            "3212/3212 [==============================] - 12s 4ms/step - loss: 0.1303 - accuracy: 0.9547\n",
            "Epoch 20/150\n",
            "3212/3212 [==============================] - 12s 4ms/step - loss: 0.1301 - accuracy: 0.9545\n",
            "Epoch 21/150\n",
            "3212/3212 [==============================] - 12s 4ms/step - loss: 0.1300 - accuracy: 0.9546\n",
            "Epoch 22/150\n",
            "3212/3212 [==============================] - 12s 4ms/step - loss: 0.1299 - accuracy: 0.9547\n",
            "Epoch 23/150\n",
            "3212/3212 [==============================] - 12s 4ms/step - loss: 0.1300 - accuracy: 0.9545\n",
            "Epoch 24/150\n",
            "3212/3212 [==============================] - 12s 4ms/step - loss: 0.1298 - accuracy: 0.9546\n",
            "Epoch 25/150\n",
            "3212/3212 [==============================] - 12s 4ms/step - loss: 0.1298 - accuracy: 0.9545\n",
            "Epoch 26/150\n",
            "3212/3212 [==============================] - 12s 4ms/step - loss: 0.1297 - accuracy: 0.9548\n",
            "Epoch 27/150\n",
            "3212/3212 [==============================] - 12s 4ms/step - loss: 0.1294 - accuracy: 0.9545\n",
            "Epoch 28/150\n",
            "3212/3212 [==============================] - 12s 4ms/step - loss: 0.1295 - accuracy: 0.9547\n",
            "Epoch 29/150\n",
            "3212/3212 [==============================] - 12s 4ms/step - loss: 0.1295 - accuracy: 0.9546\n",
            "Epoch 30/150\n",
            "3212/3212 [==============================] - 12s 4ms/step - loss: 0.1295 - accuracy: 0.9544\n",
            "Epoch 31/150\n",
            "3212/3212 [==============================] - 12s 4ms/step - loss: 0.1296 - accuracy: 0.9550\n",
            "Epoch 32/150\n",
            "3212/3212 [==============================] - 12s 4ms/step - loss: 0.1295 - accuracy: 0.9547\n",
            "Epoch 33/150\n",
            "3212/3212 [==============================] - 12s 4ms/step - loss: 0.1292 - accuracy: 0.9547\n",
            "Epoch 34/150\n",
            "3212/3212 [==============================] - 12s 4ms/step - loss: 0.1292 - accuracy: 0.9548\n",
            "Epoch 35/150\n",
            "3212/3212 [==============================] - 12s 4ms/step - loss: 0.1293 - accuracy: 0.9549\n",
            "Epoch 36/150\n",
            "3212/3212 [==============================] - 12s 4ms/step - loss: 0.1290 - accuracy: 0.9552\n",
            "Epoch 37/150\n",
            "3212/3212 [==============================] - 12s 4ms/step - loss: 0.1291 - accuracy: 0.9549\n",
            "Epoch 38/150\n",
            "3212/3212 [==============================] - 12s 4ms/step - loss: 0.1290 - accuracy: 0.9546\n",
            "Epoch 39/150\n",
            "3212/3212 [==============================] - 13s 4ms/step - loss: 0.1287 - accuracy: 0.9547\n",
            "Epoch 40/150\n",
            "3212/3212 [==============================] - 13s 4ms/step - loss: 0.1289 - accuracy: 0.9547\n",
            "Epoch 41/150\n",
            "3212/3212 [==============================] - 13s 4ms/step - loss: 0.1288 - accuracy: 0.9550\n",
            "Epoch 42/150\n",
            "3212/3212 [==============================] - 13s 4ms/step - loss: 0.1288 - accuracy: 0.9551\n",
            "Epoch 43/150\n",
            "3212/3212 [==============================] - 12s 4ms/step - loss: 0.1288 - accuracy: 0.9550\n",
            "Epoch 44/150\n",
            "3212/3212 [==============================] - 12s 4ms/step - loss: 0.1286 - accuracy: 0.9552\n",
            "Epoch 45/150\n",
            "3212/3212 [==============================] - 12s 4ms/step - loss: 0.1283 - accuracy: 0.9551\n",
            "Epoch 46/150\n",
            "3212/3212 [==============================] - 12s 4ms/step - loss: 0.1289 - accuracy: 0.9545\n",
            "Epoch 47/150\n",
            "3212/3212 [==============================] - 12s 4ms/step - loss: 0.1286 - accuracy: 0.9547\n",
            "Epoch 48/150\n",
            "3212/3212 [==============================] - 12s 4ms/step - loss: 0.1284 - accuracy: 0.9550\n",
            "Epoch 49/150\n",
            "3212/3212 [==============================] - 12s 4ms/step - loss: 0.1285 - accuracy: 0.9549\n",
            "Epoch 50/150\n",
            "3212/3212 [==============================] - 12s 4ms/step - loss: 0.1283 - accuracy: 0.9549\n",
            "Epoch 51/150\n",
            "3212/3212 [==============================] - 12s 4ms/step - loss: 0.1286 - accuracy: 0.9550\n",
            "Epoch 52/150\n",
            "3212/3212 [==============================] - 12s 4ms/step - loss: 0.1282 - accuracy: 0.9550\n",
            "Epoch 53/150\n",
            "3212/3212 [==============================] - 12s 4ms/step - loss: 0.1282 - accuracy: 0.9554\n",
            "Epoch 54/150\n",
            "3212/3212 [==============================] - 12s 4ms/step - loss: 0.1282 - accuracy: 0.9550\n",
            "Epoch 55/150\n",
            "3212/3212 [==============================] - 12s 4ms/step - loss: 0.1283 - accuracy: 0.9548\n",
            "Epoch 56/150\n",
            "3212/3212 [==============================] - 12s 4ms/step - loss: 0.1279 - accuracy: 0.9552\n",
            "Epoch 57/150\n",
            "3212/3212 [==============================] - 12s 4ms/step - loss: 0.1280 - accuracy: 0.9551\n",
            "Epoch 58/150\n",
            "3212/3212 [==============================] - 12s 4ms/step - loss: 0.1280 - accuracy: 0.9553\n",
            "Epoch 59/150\n",
            "3212/3212 [==============================] - 12s 4ms/step - loss: 0.1280 - accuracy: 0.9551\n",
            "Epoch 60/150\n",
            "3212/3212 [==============================] - 12s 4ms/step - loss: 0.1278 - accuracy: 0.9551\n",
            "Epoch 61/150\n",
            "3212/3212 [==============================] - 15s 5ms/step - loss: 0.1282 - accuracy: 0.9550\n",
            "Epoch 62/150\n",
            "3212/3212 [==============================] - 22s 7ms/step - loss: 0.1279 - accuracy: 0.9550\n",
            "Epoch 63/150\n",
            "3212/3212 [==============================] - 16s 5ms/step - loss: 0.1277 - accuracy: 0.9552\n",
            "Epoch 64/150\n",
            "3212/3212 [==============================] - 12s 4ms/step - loss: 0.1277 - accuracy: 0.9553\n",
            "Epoch 65/150\n",
            "3212/3212 [==============================] - 12s 4ms/step - loss: 0.1278 - accuracy: 0.9552\n",
            "Epoch 66/150\n",
            "3212/3212 [==============================] - 12s 4ms/step - loss: 0.1276 - accuracy: 0.9554\n",
            "Epoch 67/150\n",
            "3212/3212 [==============================] - 12s 4ms/step - loss: 0.1276 - accuracy: 0.9552\n",
            "Epoch 68/150\n",
            "3212/3212 [==============================] - 12s 4ms/step - loss: 0.1274 - accuracy: 0.9555\n",
            "Epoch 69/150\n",
            "3212/3212 [==============================] - 12s 4ms/step - loss: 0.1273 - accuracy: 0.9555\n",
            "Epoch 70/150\n",
            "3212/3212 [==============================] - 12s 4ms/step - loss: 0.1274 - accuracy: 0.9555\n",
            "Epoch 71/150\n",
            "3212/3212 [==============================] - 12s 4ms/step - loss: 0.1276 - accuracy: 0.9550\n",
            "Epoch 72/150\n",
            "3212/3212 [==============================] - 12s 4ms/step - loss: 0.1272 - accuracy: 0.9553\n",
            "Epoch 73/150\n",
            "3212/3212 [==============================] - 12s 4ms/step - loss: 0.1273 - accuracy: 0.9554\n",
            "Epoch 74/150\n",
            "3212/3212 [==============================] - 12s 4ms/step - loss: 0.1270 - accuracy: 0.9554\n",
            "Epoch 75/150\n",
            "3212/3212 [==============================] - 12s 4ms/step - loss: 0.1272 - accuracy: 0.9555\n",
            "Epoch 76/150\n",
            "3212/3212 [==============================] - 12s 4ms/step - loss: 0.1271 - accuracy: 0.9554\n",
            "Epoch 77/150\n",
            "3212/3212 [==============================] - 12s 4ms/step - loss: 0.1269 - accuracy: 0.9553\n",
            "Epoch 78/150\n",
            "3212/3212 [==============================] - 12s 4ms/step - loss: 0.1270 - accuracy: 0.9553\n",
            "Epoch 79/150\n",
            "3212/3212 [==============================] - 12s 4ms/step - loss: 0.1269 - accuracy: 0.9554\n",
            "Epoch 80/150\n",
            "3212/3212 [==============================] - 12s 4ms/step - loss: 0.1269 - accuracy: 0.9553\n",
            "Epoch 81/150\n",
            "3212/3212 [==============================] - 12s 4ms/step - loss: 0.1268 - accuracy: 0.9556\n",
            "Epoch 82/150\n",
            "3212/3212 [==============================] - 12s 4ms/step - loss: 0.1270 - accuracy: 0.9554\n",
            "Epoch 83/150\n",
            "3212/3212 [==============================] - 12s 4ms/step - loss: 0.1268 - accuracy: 0.9552\n",
            "Epoch 84/150\n",
            "3212/3212 [==============================] - 12s 4ms/step - loss: 0.1268 - accuracy: 0.9555\n",
            "Epoch 85/150\n",
            "3212/3212 [==============================] - 12s 4ms/step - loss: 0.1268 - accuracy: 0.9554\n",
            "Epoch 86/150\n",
            "3212/3212 [==============================] - 12s 4ms/step - loss: 0.1269 - accuracy: 0.9553\n",
            "Epoch 87/150\n",
            "3212/3212 [==============================] - 12s 4ms/step - loss: 0.1266 - accuracy: 0.9554\n",
            "Epoch 88/150\n",
            "3212/3212 [==============================] - 12s 4ms/step - loss: 0.1266 - accuracy: 0.9558\n",
            "Epoch 89/150\n",
            "3212/3212 [==============================] - 12s 4ms/step - loss: 0.1266 - accuracy: 0.9557\n",
            "Epoch 90/150\n",
            "3212/3212 [==============================] - 12s 4ms/step - loss: 0.1266 - accuracy: 0.9553\n",
            "Epoch 91/150\n",
            "3212/3212 [==============================] - 12s 4ms/step - loss: 0.1264 - accuracy: 0.9558\n",
            "Epoch 92/150\n",
            "3212/3212 [==============================] - 12s 4ms/step - loss: 0.1266 - accuracy: 0.9556\n",
            "Epoch 93/150\n",
            "3212/3212 [==============================] - 12s 4ms/step - loss: 0.1265 - accuracy: 0.9555\n",
            "Epoch 94/150\n",
            "3212/3212 [==============================] - 12s 4ms/step - loss: 0.1264 - accuracy: 0.9554\n",
            "Epoch 95/150\n",
            "3212/3212 [==============================] - 12s 4ms/step - loss: 0.1267 - accuracy: 0.9554\n",
            "Epoch 96/150\n",
            "3212/3212 [==============================] - 12s 4ms/step - loss: 0.1264 - accuracy: 0.9556\n",
            "Epoch 97/150\n",
            "3212/3212 [==============================] - 12s 4ms/step - loss: 0.1261 - accuracy: 0.9556\n",
            "Epoch 98/150\n",
            "3212/3212 [==============================] - 12s 4ms/step - loss: 0.1263 - accuracy: 0.9552\n",
            "Epoch 99/150\n",
            "3212/3212 [==============================] - 12s 4ms/step - loss: 0.1262 - accuracy: 0.9555\n",
            "Epoch 100/150\n",
            "3212/3212 [==============================] - 12s 4ms/step - loss: 0.1260 - accuracy: 0.9553\n",
            "Epoch 101/150\n",
            "3212/3212 [==============================] - 12s 4ms/step - loss: 0.1261 - accuracy: 0.9554\n",
            "Epoch 102/150\n",
            "3212/3212 [==============================] - 12s 4ms/step - loss: 0.1261 - accuracy: 0.9555\n",
            "Epoch 103/150\n",
            "3212/3212 [==============================] - 12s 4ms/step - loss: 0.1260 - accuracy: 0.9554\n",
            "Epoch 104/150\n",
            "3212/3212 [==============================] - 12s 4ms/step - loss: 0.1260 - accuracy: 0.9554\n",
            "Epoch 105/150\n",
            "3212/3212 [==============================] - 12s 4ms/step - loss: 0.1260 - accuracy: 0.9558\n",
            "Epoch 106/150\n",
            "3212/3212 [==============================] - 12s 4ms/step - loss: 0.1258 - accuracy: 0.9556\n",
            "Epoch 107/150\n",
            "3212/3212 [==============================] - 12s 4ms/step - loss: 0.1259 - accuracy: 0.9554\n",
            "Epoch 108/150\n",
            "3212/3212 [==============================] - 12s 4ms/step - loss: 0.1253 - accuracy: 0.9555\n",
            "Epoch 109/150\n",
            "3212/3212 [==============================] - 12s 4ms/step - loss: 0.1257 - accuracy: 0.9555\n",
            "Epoch 110/150\n",
            "3212/3212 [==============================] - 13s 4ms/step - loss: 0.1258 - accuracy: 0.9553\n",
            "Epoch 111/150\n",
            "3212/3212 [==============================] - 13s 4ms/step - loss: 0.1258 - accuracy: 0.9553\n",
            "Epoch 112/150\n",
            "3212/3212 [==============================] - 12s 4ms/step - loss: 0.1255 - accuracy: 0.9561\n",
            "Epoch 113/150\n",
            "3212/3212 [==============================] - 14s 4ms/step - loss: 0.1256 - accuracy: 0.9555\n",
            "Epoch 114/150\n",
            "3212/3212 [==============================] - 17s 5ms/step - loss: 0.1255 - accuracy: 0.9556\n",
            "Epoch 115/150\n",
            "3212/3212 [==============================] - 12s 4ms/step - loss: 0.1257 - accuracy: 0.9557\n",
            "Epoch 116/150\n",
            "3212/3212 [==============================] - 12s 4ms/step - loss: 0.1254 - accuracy: 0.9557\n",
            "Epoch 117/150\n",
            "3212/3212 [==============================] - 12s 4ms/step - loss: 0.1256 - accuracy: 0.9559\n",
            "Epoch 118/150\n",
            "3212/3212 [==============================] - 12s 4ms/step - loss: 0.1258 - accuracy: 0.9554\n",
            "Epoch 119/150\n",
            "3212/3212 [==============================] - 12s 4ms/step - loss: 0.1255 - accuracy: 0.9558\n",
            "Epoch 120/150\n",
            "3212/3212 [==============================] - 12s 4ms/step - loss: 0.1255 - accuracy: 0.9558\n",
            "Epoch 121/150\n",
            "3212/3212 [==============================] - 12s 4ms/step - loss: 0.1251 - accuracy: 0.9557\n",
            "Epoch 122/150\n",
            "3212/3212 [==============================] - 12s 4ms/step - loss: 0.1252 - accuracy: 0.9558\n",
            "Epoch 123/150\n",
            "3212/3212 [==============================] - 13s 4ms/step - loss: 0.1254 - accuracy: 0.9556\n",
            "Epoch 124/150\n",
            "3212/3212 [==============================] - 12s 4ms/step - loss: 0.1253 - accuracy: 0.9557\n",
            "Epoch 125/150\n",
            "3212/3212 [==============================] - 12s 4ms/step - loss: 0.1253 - accuracy: 0.9557\n",
            "Epoch 126/150\n",
            "3212/3212 [==============================] - 12s 4ms/step - loss: 0.1251 - accuracy: 0.9558\n",
            "Epoch 127/150\n",
            "3212/3212 [==============================] - 12s 4ms/step - loss: 0.1249 - accuracy: 0.9560\n",
            "Epoch 128/150\n",
            "3212/3212 [==============================] - 12s 4ms/step - loss: 0.1251 - accuracy: 0.9554\n",
            "Epoch 129/150\n",
            "3212/3212 [==============================] - 12s 4ms/step - loss: 0.1251 - accuracy: 0.9560\n",
            "Epoch 130/150\n",
            "3212/3212 [==============================] - 12s 4ms/step - loss: 0.1247 - accuracy: 0.9557\n",
            "Epoch 131/150\n",
            "3212/3212 [==============================] - 14s 4ms/step - loss: 0.1249 - accuracy: 0.9558\n",
            "Epoch 132/150\n",
            "3212/3212 [==============================] - 22s 7ms/step - loss: 0.1249 - accuracy: 0.9556\n",
            "Epoch 133/150\n",
            "3212/3212 [==============================] - 22s 7ms/step - loss: 0.1249 - accuracy: 0.9557\n",
            "Epoch 134/150\n",
            "3212/3212 [==============================] - 13s 4ms/step - loss: 0.1252 - accuracy: 0.9559\n",
            "Epoch 135/150\n",
            "3212/3212 [==============================] - 12s 4ms/step - loss: 0.1248 - accuracy: 0.9558\n",
            "Epoch 136/150\n",
            "3212/3212 [==============================] - 12s 4ms/step - loss: 0.1246 - accuracy: 0.9559\n",
            "Epoch 137/150\n",
            "3212/3212 [==============================] - 22s 7ms/step - loss: 0.1249 - accuracy: 0.9561\n",
            "Epoch 138/150\n",
            "3212/3212 [==============================] - 19s 6ms/step - loss: 0.1247 - accuracy: 0.9561\n",
            "Epoch 139/150\n",
            "3212/3212 [==============================] - 22s 7ms/step - loss: 0.1245 - accuracy: 0.9560\n",
            "Epoch 140/150\n",
            "3212/3212 [==============================] - 19s 6ms/step - loss: 0.1248 - accuracy: 0.9556\n",
            "Epoch 141/150\n",
            "3212/3212 [==============================] - 18s 5ms/step - loss: 0.1247 - accuracy: 0.9560\n",
            "Epoch 142/150\n",
            "3212/3212 [==============================] - 12s 4ms/step - loss: 0.1245 - accuracy: 0.9558\n",
            "Epoch 143/150\n",
            "3212/3212 [==============================] - 13s 4ms/step - loss: 0.1247 - accuracy: 0.9560\n",
            "Epoch 144/150\n",
            "3212/3212 [==============================] - 12s 4ms/step - loss: 0.1246 - accuracy: 0.9559\n",
            "Epoch 145/150\n",
            "3212/3212 [==============================] - 12s 4ms/step - loss: 0.1245 - accuracy: 0.9558\n",
            "Epoch 146/150\n",
            "3212/3212 [==============================] - 13s 4ms/step - loss: 0.1244 - accuracy: 0.9559\n",
            "Epoch 147/150\n",
            "3212/3212 [==============================] - 12s 4ms/step - loss: 0.1244 - accuracy: 0.9558\n",
            "Epoch 148/150\n",
            "3212/3212 [==============================] - 12s 4ms/step - loss: 0.1245 - accuracy: 0.9559\n",
            "Epoch 149/150\n",
            "3212/3212 [==============================] - 12s 4ms/step - loss: 0.1244 - accuracy: 0.9557\n",
            "Epoch 150/150\n",
            "3212/3212 [==============================] - 12s 4ms/step - loss: 0.1241 - accuracy: 0.9556\n"
          ]
        },
        {
          "output_type": "execute_result",
          "data": {
            "text/plain": [
              "<keras.callbacks.History at 0x7f043da210d0>"
            ]
          },
          "metadata": {},
          "execution_count": 115
        }
      ],
      "source": [
        "callback = EarlyStopping(monitor = \"loss\", patience = 10)\n",
        "model.fit(X_train, y_train, epochs=150, batch_size=50)"
      ]
    },
    {
      "cell_type": "markdown",
      "source": [
        "Aprés avoir entrainé le modele, on l'alimente avec les données de test et on a obtenue des métriques suivantes :"
      ],
      "metadata": {
        "id": "hck-3Djr4i0-"
      }
    },
    {
      "cell_type": "code",
      "execution_count": null,
      "metadata": {
        "colab": {
          "base_uri": "https://localhost:8080/"
        },
        "id": "NCVzwNCIfcOL",
        "outputId": "4124d483-4d43-4eaf-ce87-e665da214ed1"
      },
      "outputs": [
        {
          "output_type": "stream",
          "name": "stdout",
          "text": [
            "              precision    recall  f1-score   support\n",
            "\n",
            "           0       0.67      0.43      0.52      2504\n",
            "           1       0.96      0.99      0.97     37644\n",
            "\n",
            "    accuracy                           0.95     40148\n",
            "   macro avg       0.82      0.71      0.75     40148\n",
            "weighted avg       0.94      0.95      0.95     40148\n",
            "\n"
          ]
        }
      ],
      "source": [
        "y_nrl_mdl = (model.predict(X_test) > 0.5).astype(int)\n",
        "print(classification_report(y_test, y_nrl_mdl))"
      ]
    }
  ],
  "metadata": {
    "accelerator": "GPU",
    "colab": {
      "collapsed_sections": [],
      "name": "sensus.ipynb",
      "provenance": []
    },
    "interpreter": {
      "hash": "133f9937c2592f9f131576e82545434e95734e7af5dbb8bb41d82c614a9c3c81"
    },
    "kernelspec": {
      "display_name": "Python 3.7.6rc1 64-bit",
      "language": "python",
      "name": "python3"
    },
    "language_info": {
      "codemirror_mode": {
        "name": "ipython",
        "version": 3
      },
      "file_extension": ".py",
      "mimetype": "text/x-python",
      "name": "python",
      "nbconvert_exporter": "python",
      "pygments_lexer": "ipython3",
      "version": "3.7.6rc1"
    }
  },
  "nbformat": 4,
  "nbformat_minor": 0
}